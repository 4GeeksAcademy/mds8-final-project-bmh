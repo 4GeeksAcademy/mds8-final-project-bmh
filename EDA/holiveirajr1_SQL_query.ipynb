{
 "cells": [
  {
   "cell_type": "code",
   "execution_count": 8,
   "metadata": {},
   "outputs": [],
   "source": [
    "# Read in the .csv file\n",
    "#property_record_one = pd.read_csv('property_record_one.csv')\n",
    "#property_record_two = pd.read_csv('property_record_two.csv')"
   ]
  },
  {
   "cell_type": "code",
   "execution_count": 9,
   "metadata": {},
   "outputs": [],
   "source": [
    "#print(property_record_one.shape)\n",
    "#print(property_record_two.shape)"
   ]
  },
  {
   "cell_type": "code",
   "execution_count": 10,
   "metadata": {},
   "outputs": [],
   "source": [
    "# conn = sqlite3.connect('property_database.db')  # Conn to SQL database\n",
    "\n",
    "# # Turning the DataFrames into SQLite tables\n",
    "# property_record_one.to_sql('property_record_one', conn, if_exists='replace', index=False)\n",
    "# property_record_two.to_sql('property_record_two', conn, if_exists='replace', index=False)\n",
    "\n",
    "# # Writing a SQL query to combine both tables\n",
    "# query = \"\"\"\n",
    "#     SELECT * FROM property_record_one\n",
    "#     UNION ALL\n",
    "#     SELECT * FROM property_record_two;\n",
    "# \"\"\"\n",
    "\n",
    "# # Converting SQL into a pandas Dataframe\n",
    "# property_record_data = pd.read_sql(query, conn)\n",
    "\n",
    "# print(property_record_data.head())\n",
    "\n",
    "# conn.close()  # Close the connection to the SQLite "
   ]
  }
 ],
 "metadata": {
  "kernelspec": {
   "display_name": "Python 3",
   "language": "python",
   "name": "python3"
  },
  "language_info": {
   "codemirror_mode": {
    "name": "ipython",
    "version": 3
   },
   "file_extension": ".py",
   "mimetype": "text/x-python",
   "name": "python",
   "nbconvert_exporter": "python",
   "pygments_lexer": "ipython3",
   "version": "3.10.12"
  }
 },
 "nbformat": 4,
 "nbformat_minor": 2
}

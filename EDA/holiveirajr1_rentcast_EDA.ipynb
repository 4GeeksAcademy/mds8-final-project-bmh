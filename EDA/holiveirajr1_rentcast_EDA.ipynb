{
 "cells": [
  {
   "cell_type": "code",
   "execution_count": 1,
   "metadata": {},
   "outputs": [],
   "source": [
    "import os\n",
    "from dotenv import load_dotenv\n",
    "import time \n",
    "import ast\n",
    "import sqlite3\n",
    "import requests\n",
    "import numpy as np\n",
    "import pandas as pd\n",
    "import seaborn as sns\n",
    "from sklearn.preprocessing import LabelEncoder\n",
    "import matplotlib.pyplot as plt\n",
    "from sklearn.model_selection import train_test_split\n",
    "from sklearn.linear_model import LinearRegression\n",
    "from sklearn.ensemble import RandomForestRegressor\n",
    "from sklearn.metrics import mean_squared_error, r2_score\n",
    "from sklearn.ensemble import GradientBoostingRegressor\n",
    "from sklearn.model_selection import GridSearchCV"
   ]
  },
  {
   "cell_type": "code",
   "execution_count": 2,
   "metadata": {},
   "outputs": [
    {
     "name": "stdout",
     "output_type": "stream",
     "text": [
      "API Key loaded successfully!\n"
     ]
    }
   ],
   "source": [
    "load_dotenv()\n",
    "\n",
    "rent_cast_api_key = os.getenv('API_KEY')\n",
    "\n",
    "if rent_cast_api_key:\n",
    "    print(\"API Key loaded successfully!\")\n",
    "else:\n",
    "    print(\"API Key not found. Please check your .env file.\")\n"
   ]
  },
  {
   "cell_type": "code",
   "execution_count": 3,
   "metadata": {},
   "outputs": [],
   "source": [
    " # Property Records\n",
    " # Query Params\n",
    " #state = 'FL'\n",
    " #saleDateRange = '365'\n",
    " #limit = 500  # Max limit per request\n",
    " #offset = 0    # Starting offset\n",
    " #total_properties = 145000  # Total number of properties you want\n",
    " #properties = []  # List to store properties\n",
    " #url = 'https://api.rentcast.io/v1/properties'"
   ]
  },
  {
   "cell_type": "code",
   "execution_count": 4,
   "metadata": {},
   "outputs": [],
   "source": [
    "# # Function to get properties\n",
    "#def get_properties(offset):\n",
    "#     queryparams = {\n",
    "#         'state': state,\n",
    "#         'saleDateRange': saleDateRange,\n",
    "#         'limit': limit,\n",
    "#         'offset': offset\n",
    "#     }\n",
    "#     headers = {\n",
    "#         \"accept\": \"application/json\",\n",
    "#         \"X-Api-Key\": rent_cast_api_key\n",
    "#     }\n",
    "    \n",
    "#     response = requests.get(url, headers=headers, params=queryparams)\n",
    "    \n",
    "#     # Check if response is successful\n",
    "#     if response.status_code == 200:\n",
    "#         data = response.json()\n",
    "#         return data  # The response is already a list, so return it directly\n",
    "#     else:\n",
    "#         print(f\"Error {response.status_code}: {response.text}\")\n",
    "#         return []"
   ]
  },
  {
   "cell_type": "code",
   "execution_count": 5,
   "metadata": {},
   "outputs": [],
   "source": [
    "# # Loop through requests and get the properties\n",
    "#while len(properties) < total_properties:\n",
    "     #print(f\"Getting properties: {len(properties)} / {total_properties}\")\n",
    "     #current_properties = get_properties(offset)\n",
    "    \n",
    "     #if not current_properties:\n",
    "     #    print(\"No more properties found.\")\n",
    "    #     break\n",
    "    \n",
    "     #properties.extend(current_properties) \n",
    "     #offset += limit  \n",
    "    \n",
    "     #time.sleep(1)"
   ]
  },
  {
   "cell_type": "code",
   "execution_count": 6,
   "metadata": {},
   "outputs": [],
   "source": [
    "property_record_one = pd.read_csv('/workspaces/mds8-final-project-bmh/src/property_record_one.csv')\n",
    "property_record_two = pd.read_csv('/workspaces/mds8-final-project-bmh/src/property_record_two.csv')"
   ]
  },
  {
   "cell_type": "code",
   "execution_count": 7,
   "metadata": {},
   "outputs": [],
   "source": [
    "# Read in the .csv file\n",
    "#property_record_one = pd.read_csv('./src/property_record_one.csv')\n",
    "#property_record_two = pd.read_csv('./src/property_record_two.csv')"
   ]
  },
  {
   "cell_type": "code",
   "execution_count": 8,
   "metadata": {},
   "outputs": [],
   "source": [
    "combined_df = pd.concat([property_record_one, property_record_two], ignore_index=True)"
   ]
  },
  {
   "cell_type": "code",
   "execution_count": 9,
   "metadata": {},
   "outputs": [
    {
     "name": "stdout",
     "output_type": "stream",
     "text": [
      "(72500, 29)\n",
      "(72500, 29)\n"
     ]
    }
   ],
   "source": [
    "print(property_record_one.shape)\n",
    "print(property_record_two.shape)"
   ]
  },
  {
   "cell_type": "code",
   "execution_count": 10,
   "metadata": {},
   "outputs": [],
   "source": [
    "rent_cast_data = combined_df"
   ]
  },
  {
   "cell_type": "code",
   "execution_count": 11,
   "metadata": {},
   "outputs": [],
   "source": [
    "rent_cast_data = rent_cast_data.drop_duplicates()\n"
   ]
  },
  {
   "cell_type": "code",
   "execution_count": 12,
   "metadata": {},
   "outputs": [
    {
     "data": {
      "text/plain": [
       "np.int64(0)"
      ]
     },
     "execution_count": 12,
     "metadata": {},
     "output_type": "execute_result"
    }
   ],
   "source": [
    "rent_cast_data.duplicated().sum()"
   ]
  },
  {
   "cell_type": "code",
   "execution_count": 13,
   "metadata": {},
   "outputs": [
    {
     "data": {
      "text/plain": [
       "id                   object\n",
       "formattedAddress     object\n",
       "addressLine1         object\n",
       "addressLine2         object\n",
       "city                 object\n",
       "state                object\n",
       "zipCode               int64\n",
       "county               object\n",
       "latitude            float64\n",
       "longitude           float64\n",
       "propertyType         object\n",
       "bedrooms            float64\n",
       "bathrooms           float64\n",
       "squareFootage       float64\n",
       "lotSize             float64\n",
       "yearBuilt           float64\n",
       "assessorID           object\n",
       "legalDescription     object\n",
       "subdivision          object\n",
       "zoning               object\n",
       "lastSaleDate         object\n",
       "lastSalePrice       float64\n",
       "features             object\n",
       "taxAssessments       object\n",
       "propertyTaxes        object\n",
       "history              object\n",
       "owner                object\n",
       "ownerOccupied        object\n",
       "hoa                  object\n",
       "dtype: object"
      ]
     },
     "execution_count": 13,
     "metadata": {},
     "output_type": "execute_result"
    }
   ],
   "source": [
    "rent_cast_data.dtypes"
   ]
  },
  {
   "cell_type": "code",
   "execution_count": 14,
   "metadata": {},
   "outputs": [],
   "source": [
    "pd.set_option('display.max_columns', None)"
   ]
  },
  {
   "cell_type": "code",
   "execution_count": 15,
   "metadata": {},
   "outputs": [
    {
     "name": "stderr",
     "output_type": "stream",
     "text": [
      "/tmp/ipykernel_22880/2807021962.py:1: SettingWithCopyWarning: \n",
      "A value is trying to be set on a copy of a slice from a DataFrame.\n",
      "Try using .loc[row_indexer,col_indexer] = value instead\n",
      "\n",
      "See the caveats in the documentation: https://pandas.pydata.org/pandas-docs/stable/user_guide/indexing.html#returning-a-view-versus-a-copy\n",
      "  rent_cast_data.lastSaleDate = pd.to_datetime(rent_cast_data.lastSaleDate)\n",
      "/tmp/ipykernel_22880/2807021962.py:3: UserWarning: Converting to PeriodArray/Index representation will drop timezone information.\n",
      "  rent_cast_data['year_month'] = rent_cast_data['lastSaleDate'].dt.to_period('M')\n",
      "/tmp/ipykernel_22880/2807021962.py:3: SettingWithCopyWarning: \n",
      "A value is trying to be set on a copy of a slice from a DataFrame.\n",
      "Try using .loc[row_indexer,col_indexer] = value instead\n",
      "\n",
      "See the caveats in the documentation: https://pandas.pydata.org/pandas-docs/stable/user_guide/indexing.html#returning-a-view-versus-a-copy\n",
      "  rent_cast_data['year_month'] = rent_cast_data['lastSaleDate'].dt.to_period('M')\n",
      "/tmp/ipykernel_22880/2807021962.py:19: SettingWithCopyWarning: \n",
      "A value is trying to be set on a copy of a slice from a DataFrame.\n",
      "Try using .loc[row_indexer,col_indexer] = value instead\n",
      "\n",
      "See the caveats in the documentation: https://pandas.pydata.org/pandas-docs/stable/user_guide/indexing.html#returning-a-view-versus-a-copy\n",
      "  rent_cast_data['year_month'] = rent_cast_data['year_month'].dt.strftime('%Y-%m')\n",
      "/tmp/ipykernel_22880/2807021962.py:21: SettingWithCopyWarning: \n",
      "A value is trying to be set on a copy of a slice from a DataFrame.\n",
      "Try using .loc[row_indexer,col_indexer] = value instead\n",
      "\n",
      "See the caveats in the documentation: https://pandas.pydata.org/pandas-docs/stable/user_guide/indexing.html#returning-a-view-versus-a-copy\n",
      "  rent_cast_data['m_rate'] = rent_cast_data['year_month'].map(m_rate)\n"
     ]
    }
   ],
   "source": [
    "rent_cast_data.lastSaleDate = pd.to_datetime(rent_cast_data.lastSaleDate)\n",
    "\n",
    "rent_cast_data['year_month'] = rent_cast_data['lastSaleDate'].dt.to_period('M')\n",
    "\n",
    "m_rate = {\n",
    "'2024-03':0.0682,\n",
    "'2024-04':0.0699,\n",
    "'2024-05':0.076,\n",
    "'2024-06':0.0692,\n",
    "'2024-07':0.0685,\n",
    "'2024-08':0.065,\n",
    "'2024-09':0.0618,\n",
    "'2024-10':0.0643,\n",
    "'2024-11':0.0681,\n",
    "'2024-12':0.0672,\n",
    "'2025-01':0.0668\n",
    "}\n",
    "\n",
    "rent_cast_data['year_month'] = rent_cast_data['year_month'].dt.strftime('%Y-%m')\n",
    "\n",
    "rent_cast_data['m_rate'] = rent_cast_data['year_month'].map(m_rate)"
   ]
  },
  {
   "cell_type": "code",
   "execution_count": 16,
   "metadata": {},
   "outputs": [
    {
     "name": "stdout",
     "output_type": "stream",
     "text": [
      "['Condo' 'Single Family' 'Townhouse' 'Land' 'Multi-Family' 'Manufactured'\n",
      " nan 'Apartment']\n",
      "propertyType\n",
      "Single Family    99979\n",
      "Condo            22428\n",
      "Land             11797\n",
      "Manufactured      3772\n",
      "Multi-Family      2397\n",
      "Townhouse         1732\n",
      "Apartment          551\n",
      "Name: count, dtype: int64\n"
     ]
    }
   ],
   "source": [
    "print(rent_cast_data['propertyType'].unique())\n",
    "print(rent_cast_data['propertyType'].value_counts())"
   ]
  },
  {
   "cell_type": "code",
   "execution_count": 17,
   "metadata": {},
   "outputs": [
    {
     "name": "stdout",
     "output_type": "stream",
     "text": [
      "Min Price: 5000.0\n",
      "Median Price: 495000.0\n",
      "Max Price: 139250000.0\n",
      "Mean Price: 4215296.533575318\n",
      "Mode Price: 3700000.0\n"
     ]
    }
   ],
   "source": [
    "apartment_data = rent_cast_data[rent_cast_data['propertyType'] == 'Apartment']\n",
    "\n",
    "min_price = apartment_data['lastSalePrice'].min()\n",
    "median_price = apartment_data['lastSalePrice'].median()\n",
    "max_price = apartment_data['lastSalePrice'].max()\n",
    "mean_price = apartment_data['lastSalePrice'].mean()\n",
    "mode_price = apartment_data['lastSalePrice'].mode()[0]  \n",
    "\n",
    "print(\"Min Price:\", min_price)\n",
    "print(\"Median Price:\", median_price)\n",
    "print(\"Max Price:\", max_price)\n",
    "print(\"Mean Price:\", mean_price)\n",
    "print(\"Mode Price:\", mode_price)"
   ]
  },
  {
   "cell_type": "code",
   "execution_count": 18,
   "metadata": {},
   "outputs": [
    {
     "name": "stderr",
     "output_type": "stream",
     "text": [
      "/tmp/ipykernel_22880/3264417908.py:6: SettingWithCopyWarning: \n",
      "A value is trying to be set on a copy of a slice from a DataFrame.\n",
      "Try using .loc[row_indexer,col_indexer] = value instead\n",
      "\n",
      "See the caveats in the documentation: https://pandas.pydata.org/pandas-docs/stable/user_guide/indexing.html#returning-a-view-versus-a-copy\n",
      "  apartment_data['Price Category'] = pd.cut(apartment_data['lastSalePrice'], bins=bins, labels=labels, right=False)\n"
     ]
    },
    {
     "data": {
      "image/png": "[encoded data removed]",
      "text/plain": [
       "<Figure size 1000x600 with 1 Axes>"
      ]
     },
     "metadata": {},
     "output_type": "display_data"
    }
   ],
   "source": [
    "bins = [0, 10000, 50000, 100000, 200000, 500000, 1000000, 5000000, 10000000, 25000000, 100000000, 150000000]\n",
    "labels = ['0-10k', '10k-50k', '50k-100k', '100k-200k', '200k-500k', '500k-1M', '1M-5M', '5M-10M', '10M-25M', '25M-100M', '100M+']\n",
    "\n",
    "apartment_data = rent_cast_data[rent_cast_data['propertyType'] == 'Apartment']\n",
    "\n",
    "apartment_data['Price Category'] = pd.cut(apartment_data['lastSalePrice'], bins=bins, labels=labels, right=False)\n",
    "\n",
    "price_counts = apartment_data['Price Category'].value_counts().sort_index()\n",
    "\n",
    "plt.figure(figsize=(10, 6))\n",
    "price_counts.plot(kind='bar', color='skyblue', edgecolor='black')\n",
    "\n",
    "plt.title('Distribution of Last Sale Price for Apartments', fontsize=16)\n",
    "plt.xlabel('Price Category', fontsize=12)\n",
    "plt.ylabel('Number of Apartments', fontsize=12)\n",
    "plt.xticks(rotation=45)\n",
    "\n",
    "plt.tight_layout()\n",
    "\n",
    "plt.show()"
   ]
  },
  {
   "cell_type": "code",
   "execution_count": 19,
   "metadata": {},
   "outputs": [
    {
     "data": {
      "text/plain": [
       "propertyType\n",
       "Single Family    99979\n",
       "Condo            22428\n",
       "Land             11797\n",
       "Manufactured      3772\n",
       "Multi-Family      2397\n",
       "Townhouse         1732\n",
       "Apartment          335\n",
       "Name: count, dtype: int64"
      ]
     },
     "execution_count": 19,
     "metadata": {},
     "output_type": "execute_result"
    }
   ],
   "source": [
    "# Filtering for 'Apartment' homes with lastSalePrice between 100k and 825k\n",
    "rent_cast_data = rent_cast_data[~((rent_cast_data['propertyType'] == 'Apartment') & \n",
    "                                  ((rent_cast_data['lastSalePrice'] > 825000) | \n",
    "                                   (rent_cast_data['lastSalePrice'] < 100000)))]\n",
    "\n",
    "rent_cast_data['propertyType'].value_counts()"
   ]
  },
  {
   "cell_type": "code",
   "execution_count": 20,
   "metadata": {},
   "outputs": [
    {
     "name": "stdout",
     "output_type": "stream",
     "text": [
      "Min Price: 410.0\n",
      "Median Price: 345800.0\n",
      "Max Price: 35714286.0\n",
      "Mean Price: 1014355.2232504338\n",
      "Mode Price: 300000.0\n"
     ]
    }
   ],
   "source": [
    "townhouse_data = rent_cast_data[rent_cast_data['propertyType'] == 'Townhouse']\n",
    "\n",
    "min_price = townhouse_data['lastSalePrice'].min()\n",
    "median_price = townhouse_data['lastSalePrice'].median()\n",
    "max_price = townhouse_data['lastSalePrice'].max()\n",
    "mean_price = townhouse_data['lastSalePrice'].mean()\n",
    "mode_price = townhouse_data['lastSalePrice'].mode()[0]  \n",
    "\n",
    "print(f\"Min Price: {min_price}\")\n",
    "print(f\"Median Price: {median_price}\")\n",
    "print(f\"Max Price: {max_price}\")\n",
    "print(f\"Mean Price: {mean_price}\")\n",
    "print(f\"Mode Price: {mode_price}\")"
   ]
  },
  {
   "cell_type": "code",
   "execution_count": 21,
   "metadata": {},
   "outputs": [
    {
     "name": "stderr",
     "output_type": "stream",
     "text": [
      "/tmp/ipykernel_22880/420867537.py:6: SettingWithCopyWarning: \n",
      "A value is trying to be set on a copy of a slice from a DataFrame.\n",
      "Try using .loc[row_indexer,col_indexer] = value instead\n",
      "\n",
      "See the caveats in the documentation: https://pandas.pydata.org/pandas-docs/stable/user_guide/indexing.html#returning-a-view-versus-a-copy\n",
      "  townhouse_data['Price Category'] = pd.cut(townhouse_data['lastSalePrice'], bins=bins, labels=labels, right=False)\n"
     ]
    },
    {
     "data": {
      "image/png": "[encoded data removed]",
      "text/plain": [
       "<Figure size 1000x600 with 1 Axes>"
      ]
     },
     "metadata": {},
     "output_type": "display_data"
    }
   ],
   "source": [
    "townhouse_data = rent_cast_data[rent_cast_data['propertyType'] == 'Townhouse']\n",
    "\n",
    "bins = [0, 50000, 200000, 500000, 1000000, 5000000, 10000000, 35714286]\n",
    "labels = ['0-50k', '50k-200k', '200k-500k', '500k-1M', '1M-5M', '5M-10M', '10M+']\n",
    "\n",
    "townhouse_data['Price Category'] = pd.cut(townhouse_data['lastSalePrice'], bins=bins, labels=labels, right=False)\n",
    "\n",
    "price_counts = townhouse_data['Price Category'].value_counts().sort_index()\n",
    "\n",
    "plt.figure(figsize=(10, 6))\n",
    "price_counts.plot(kind='bar', color='skyblue', edgecolor='black')\n",
    "\n",
    "plt.title('Distribution of Last Sale Price for Townhouse Homes', fontsize=16)\n",
    "plt.xlabel('Price Category', fontsize=12)\n",
    "plt.ylabel('Number of Townhouse Homes', fontsize=12)\n",
    "plt.xticks(rotation=45)\n",
    "\n",
    "plt.tight_layout()\n",
    "\n",
    "plt.show()"
   ]
  },
  {
   "cell_type": "code",
   "execution_count": 22,
   "metadata": {},
   "outputs": [
    {
     "data": {
      "text/plain": [
       "propertyType\n",
       "Single Family    99979\n",
       "Condo            22428\n",
       "Land             11797\n",
       "Manufactured      3772\n",
       "Multi-Family      2397\n",
       "Townhouse         1511\n",
       "Apartment          335\n",
       "Name: count, dtype: int64"
      ]
     },
     "execution_count": 22,
     "metadata": {},
     "output_type": "execute_result"
    }
   ],
   "source": [
    "# Removed 'Townhouse' homes with a 'lastSalePrice' over 800k\n",
    "rent_cast_data = rent_cast_data[~((rent_cast_data['propertyType'] == 'Townhouse') & (rent_cast_data['lastSalePrice'] > 800000))]\n",
    "rent_cast_data['propertyType'].value_counts()"
   ]
  },
  {
   "cell_type": "code",
   "execution_count": 23,
   "metadata": {},
   "outputs": [
    {
     "name": "stdout",
     "output_type": "stream",
     "text": [
      "Min Sale Price: 6000.0\n",
      "Median Sale Price: 475000.0\n",
      "Max Sale Price: 111640000.0\n",
      "Mean Sale Price: 799123.7430120985\n",
      "Mode Sale Price: 500000.0\n"
     ]
    }
   ],
   "source": [
    "multi_family_data = rent_cast_data[rent_cast_data['propertyType'] == 'Multi-Family']\n",
    "\n",
    "min_saleprice = multi_family_data['lastSalePrice'].min()\n",
    "median_saleprice = multi_family_data['lastSalePrice'].median()\n",
    "max_saleprice = multi_family_data['lastSalePrice'].max()\n",
    "mean_saleprice = multi_family_data['lastSalePrice'].mean()\n",
    "mode_saleprice = multi_family_data['lastSalePrice'].mode()[0] \n",
    "\n",
    "print(f\"Min Sale Price: {min_saleprice}\")\n",
    "print(f\"Median Sale Price: {median_saleprice}\")\n",
    "print(f\"Max Sale Price: {max_saleprice}\")\n",
    "print(f\"Mean Sale Price: {mean_saleprice}\")\n",
    "print(f\"Mode Sale Price: {mode_saleprice}\")"
   ]
  },
  {
   "cell_type": "code",
   "execution_count": 24,
   "metadata": {},
   "outputs": [
    {
     "name": "stderr",
     "output_type": "stream",
     "text": [
      "/tmp/ipykernel_22880/3715092442.py:6: SettingWithCopyWarning: \n",
      "A value is trying to be set on a copy of a slice from a DataFrame.\n",
      "Try using .loc[row_indexer,col_indexer] = value instead\n",
      "\n",
      "See the caveats in the documentation: https://pandas.pydata.org/pandas-docs/stable/user_guide/indexing.html#returning-a-view-versus-a-copy\n",
      "  multi_family_data['Price Category'] = pd.cut(multi_family_data['lastSalePrice'], bins=bins, labels=labels, right=False)\n"
     ]
    },
    {
     "data": {
      "image/png": "[encoded data removed]",
      "text/plain": [
       "<Figure size 1200x600 with 1 Axes>"
      ]
     },
     "metadata": {},
     "output_type": "display_data"
    }
   ],
   "source": [
    "bins = [0, 50000, 100000, 200000, 500000, 1000000, 5000000, 10000000, 50000000, 100000000, 250000000]\n",
    "labels = ['0-50k', '50k-100k', '100k-200k', '200k-500k', '500k-1M', '1M-5M', '5M-10M', '10M-50M', '50M-100M', '100M+']\n",
    "\n",
    "multi_family_data = rent_cast_data[rent_cast_data['propertyType'] == 'Multi-Family']\n",
    "\n",
    "multi_family_data['Price Category'] = pd.cut(multi_family_data['lastSalePrice'], bins=bins, labels=labels, right=False)\n",
    "\n",
    "price_counts = multi_family_data['Price Category'].value_counts().sort_index()\n",
    "\n",
    "plt.figure(figsize=(12, 6))\n",
    "price_counts.plot(kind='bar', color='skyblue', edgecolor='black')\n",
    "\n",
    "plt.title('Distribution of Last Sale Price for Multi-Family Homes', fontsize=16)\n",
    "plt.xlabel('Price Category', fontsize=12)\n",
    "plt.ylabel('Number of Multi-Family Homes', fontsize=12)\n",
    "plt.xticks(rotation=45)\n",
    "\n",
    "plt.tight_layout()\n",
    "\n",
    "plt.show()"
   ]
  },
  {
   "cell_type": "code",
   "execution_count": 25,
   "metadata": {},
   "outputs": [
    {
     "data": {
      "text/plain": [
       "propertyType\n",
       "Single Family    99979\n",
       "Condo            22428\n",
       "Land             11797\n",
       "Manufactured      3772\n",
       "Multi-Family      2106\n",
       "Townhouse         1511\n",
       "Apartment          335\n",
       "Name: count, dtype: int64"
      ]
     },
     "execution_count": 25,
     "metadata": {},
     "output_type": "execute_result"
    }
   ],
   "source": [
    "# Filtering the DataFrame to exclude 'Multi-Family' homes with 'lastSalePrice' > 1M\n",
    "rent_cast_data = rent_cast_data[~((rent_cast_data['propertyType'] == 'Multi-Family') & (rent_cast_data['lastSalePrice'] > 1000000))]\n",
    "rent_cast_data['propertyType'].value_counts()"
   ]
  },
  {
   "cell_type": "code",
   "execution_count": 26,
   "metadata": {},
   "outputs": [
    {
     "name": "stdout",
     "output_type": "stream",
     "text": [
      "Min Sale Price: 600.0\n",
      "Median Sale Price: 150000.0\n",
      "Max Sale Price: 22500000.0\n",
      "Mean Sale Price: 182260.8321845175\n",
      "Mode Sale Price: 150000.0\n"
     ]
    }
   ],
   "source": [
    "manufactured_data = rent_cast_data[rent_cast_data['propertyType'] == 'Manufactured']\n",
    "\n",
    "min_sale_price = manufactured_data['lastSalePrice'].min()\n",
    "median_sale_price = manufactured_data['lastSalePrice'].median()\n",
    "max_sale_price = manufactured_data['lastSalePrice'].max()\n",
    "mean_sale_price = manufactured_data['lastSalePrice'].mean()\n",
    "mode_sale_price = manufactured_data['lastSalePrice'].mode()[0]\n",
    "\n",
    "print(f\"Min Sale Price: {min_sale_price}\")\n",
    "print(f\"Median Sale Price: {median_sale_price}\")\n",
    "print(f\"Max Sale Price: {max_sale_price}\")\n",
    "print(f\"Mean Sale Price: {mean_sale_price}\")\n",
    "print(f\"Mode Sale Price: {mode_sale_price}\")"
   ]
  },
  {
   "cell_type": "code",
   "execution_count": 27,
   "metadata": {},
   "outputs": [
    {
     "name": "stderr",
     "output_type": "stream",
     "text": [
      "/tmp/ipykernel_22880/3815775756.py:4: SettingWithCopyWarning: \n",
      "A value is trying to be set on a copy of a slice from a DataFrame.\n",
      "Try using .loc[row_indexer,col_indexer] = value instead\n",
      "\n",
      "See the caveats in the documentation: https://pandas.pydata.org/pandas-docs/stable/user_guide/indexing.html#returning-a-view-versus-a-copy\n",
      "  manufactured_data['Price Category'] = pd.cut(manufactured_data['lastSalePrice'], bins=bins, labels=labels, right=False)\n"
     ]
    },
    {
     "data": {
      "image/png": "[encoded data removed]",
      "text/plain": [
       "<Figure size 1000x600 with 1 Axes>"
      ]
     },
     "metadata": {},
     "output_type": "display_data"
    }
   ],
   "source": [
    "bins = [0, 50000, 100000, 200000, 500000, 1000000, 5000000, 10000000, 25000000]\n",
    "labels = ['0-50k', '50k-100k', '100k-200k', '200k-500k', '500k-1M', '1M-5M', '5M-10M', '10M+']\n",
    "\n",
    "manufactured_data['Price Category'] = pd.cut(manufactured_data['lastSalePrice'], bins=bins, labels=labels, right=False)\n",
    "\n",
    "price_counts = manufactured_data['Price Category'].value_counts().sort_index()\n",
    "\n",
    "plt.figure(figsize=(10, 6))\n",
    "price_counts.plot(kind='bar', color='skyblue', edgecolor='black')\n",
    "\n",
    "plt.title('Distribution of Last Sale Price for Manufactured Homes', fontsize=16)\n",
    "plt.xlabel('Price Category', fontsize=12)\n",
    "plt.ylabel('Number of Manufactured Homes', fontsize=12)\n",
    "plt.xticks(rotation=45)\n",
    "\n",
    "plt.tight_layout()\n",
    "\n",
    "plt.show()"
   ]
  },
  {
   "cell_type": "code",
   "execution_count": 28,
   "metadata": {},
   "outputs": [
    {
     "name": "stdout",
     "output_type": "stream",
     "text": [
      "propertyType\n",
      "Single Family    99979\n",
      "Condo            22428\n",
      "Land             11797\n",
      "Manufactured      3752\n",
      "Multi-Family      2106\n",
      "Townhouse         1511\n",
      "Apartment          335\n",
      "Name: count, dtype: int64\n"
     ]
    }
   ],
   "source": [
    "# Drop rows where 'Single Family' homes have a 'lastSalePrice' greater than 900K\n",
    "rent_cast_data = rent_cast_data[~((rent_cast_data['propertyType'] == 'Manufactured') & (rent_cast_data['lastSalePrice'] > 900000))]\n",
    "\n",
    "print(rent_cast_data['propertyType'].value_counts())"
   ]
  },
  {
   "cell_type": "code",
   "execution_count": 29,
   "metadata": {},
   "outputs": [
    {
     "name": "stdout",
     "output_type": "stream",
     "text": [
      "Min Sale Price: 310.0\n",
      "Median Sale Price: 280000.0\n",
      "Max Sale Price: 345000000.0\n",
      "Mean Sale Price: 486238.05507246376\n",
      "Mode Sale Price: 200000.0\n"
     ]
    }
   ],
   "source": [
    "condo_data = rent_cast_data[rent_cast_data['propertyType'] == 'Condo']\n",
    "\n",
    "min_sale_price = condo_data['lastSalePrice'].min()\n",
    "median_sale_price = condo_data['lastSalePrice'].median()\n",
    "max_sale_price = condo_data['lastSalePrice'].max()\n",
    "mean_sale_price = condo_data['lastSalePrice'].mean()\n",
    "mode_sale_price = condo_data['lastSalePrice'].mode()[0]\n",
    "\n",
    "print(f\"Min Sale Price: {min_sale_price}\")\n",
    "print(f\"Median Sale Price: {median_sale_price}\")\n",
    "print(f\"Max Sale Price: {max_sale_price}\")\n",
    "print(f\"Mean Sale Price: {mean_sale_price}\")\n",
    "print(f\"Mode Sale Price: {mode_sale_price}\")"
   ]
  },
  {
   "cell_type": "code",
   "execution_count": 30,
   "metadata": {},
   "outputs": [
    {
     "name": "stderr",
     "output_type": "stream",
     "text": [
      "/tmp/ipykernel_22880/695457332.py:5: SettingWithCopyWarning: \n",
      "A value is trying to be set on a copy of a slice from a DataFrame.\n",
      "Try using .loc[row_indexer,col_indexer] = value instead\n",
      "\n",
      "See the caveats in the documentation: https://pandas.pydata.org/pandas-docs/stable/user_guide/indexing.html#returning-a-view-versus-a-copy\n",
      "  condo_data['Price Category'] = pd.cut(condo_data['lastSalePrice'], bins=bins, labels=labels, right=False)\n"
     ]
    },
    {
     "data": {
      "image/png": "[encoded data removed]",
      "text/plain": [
       "<Figure size 1000x600 with 1 Axes>"
      ]
     },
     "metadata": {},
     "output_type": "display_data"
    }
   ],
   "source": [
    "bins = [0, 100000, 500000, 1000000, 5000000, 10000000, 50000000, 100000000, condo_data['lastSalePrice'].max()]\n",
    "\n",
    "labels = ['0-100k', '100k-500k', '500k-1M', '1M-5M', '5M-10M', '10M-50M', '50M-100M', '100M+']\n",
    "\n",
    "condo_data['Price Category'] = pd.cut(condo_data['lastSalePrice'], bins=bins, labels=labels, right=False)\n",
    "\n",
    "price_counts = condo_data['Price Category'].value_counts().sort_index()\n",
    "\n",
    "plt.figure(figsize=(10, 6))\n",
    "price_counts.plot(kind='bar', color='skyblue', edgecolor='black')\n",
    "\n",
    "plt.title('Distribution of Last Sale Price for Condos', fontsize=16)\n",
    "plt.xlabel('Price Category', fontsize=12)\n",
    "plt.ylabel('Number of Condos', fontsize=12)\n",
    "plt.xticks(rotation=45)\n",
    "\n",
    "plt.tight_layout()\n",
    "plt.show()"
   ]
  },
  {
   "cell_type": "code",
   "execution_count": 31,
   "metadata": {},
   "outputs": [
    {
     "name": "stdout",
     "output_type": "stream",
     "text": [
      "propertyType\n",
      "Single Family    99979\n",
      "Condo            20358\n",
      "Land             11797\n",
      "Manufactured      3752\n",
      "Multi-Family      2106\n",
      "Townhouse         1511\n",
      "Apartment          335\n",
      "Name: count, dtype: int64\n"
     ]
    }
   ],
   "source": [
    "# Dropping rows out condos with 'lastSalePrice' > 900k\n",
    "rent_cast_data = rent_cast_data[~((rent_cast_data['propertyType'] == 'Condo') & (rent_cast_data['lastSalePrice'] >= 900000))]\n",
    "\n",
    "print(rent_cast_data['propertyType'].value_counts())"
   ]
  },
  {
   "cell_type": "code",
   "execution_count": 32,
   "metadata": {},
   "outputs": [
    {
     "name": "stdout",
     "output_type": "stream",
     "text": [
      "Min Sale Price: 300.0\n",
      "Median Sale Price: 397000.0\n",
      "Max Sale Price: 288000000.0\n",
      "Mean Sale Price: 592821.5929315968\n",
      "Mode Sale Price: 350000.0\n"
     ]
    }
   ],
   "source": [
    "single_family_data = rent_cast_data[rent_cast_data['propertyType'] == 'Single Family']\n",
    "\n",
    "min_sale_price = single_family_data['lastSalePrice'].min()\n",
    "median_sale_price = single_family_data['lastSalePrice'].median()\n",
    "max_sale_price = single_family_data['lastSalePrice'].max()\n",
    "mean_sale_price = single_family_data['lastSalePrice'].mean()\n",
    "mode_sale_price = single_family_data['lastSalePrice'].mode()[0]\n",
    "\n",
    "print(f\"Min Sale Price: {min_sale_price}\")\n",
    "print(f\"Median Sale Price: {median_sale_price}\")\n",
    "print(f\"Max Sale Price: {max_sale_price}\")\n",
    "print(f\"Mean Sale Price: {mean_sale_price}\")\n",
    "print(f\"Mode Sale Price: {mode_sale_price}\")"
   ]
  },
  {
   "cell_type": "code",
   "execution_count": 33,
   "metadata": {},
   "outputs": [
    {
     "name": "stderr",
     "output_type": "stream",
     "text": [
      "/tmp/ipykernel_22880/4282403955.py:6: SettingWithCopyWarning: \n",
      "A value is trying to be set on a copy of a slice from a DataFrame.\n",
      "Try using .loc[row_indexer,col_indexer] = value instead\n",
      "\n",
      "See the caveats in the documentation: https://pandas.pydata.org/pandas-docs/stable/user_guide/indexing.html#returning-a-view-versus-a-copy\n",
      "  single_family_data['SalePriceCategory'] = pd.cut(single_family_data['lastSalePrice'], bins=bins, labels=labels, right=False)\n"
     ]
    },
    {
     "data": {
      "image/png": "[encoded data removed]",
      "text/plain": [
       "<Figure size 1000x600 with 1 Axes>"
      ]
     },
     "metadata": {},
     "output_type": "display_data"
    }
   ],
   "source": [
    "single_family_data = rent_cast_data[rent_cast_data['propertyType'] == 'Single Family']\n",
    "\n",
    "bins = [0, 50000, 100000, 250000, 500000, 750000, 900000, 1000000, 5000000, float('inf')]\n",
    "labels = ['<50K', '50K-100K', '100K-250K', '250K-500K', '500K-750K', '750K-900K', '900K-1M', '1M-5M', '5M+']\n",
    "\n",
    "single_family_data['SalePriceCategory'] = pd.cut(single_family_data['lastSalePrice'], bins=bins, labels=labels, right=False)\n",
    "\n",
    "plt.figure(figsize=(10,6))\n",
    "single_family_data['SalePriceCategory'].value_counts().sort_index().plot(kind='bar', color='skyblue')\n",
    "plt.title('Distribution of Single Family Homes by Sale Price Categories')\n",
    "plt.xlabel('Sale Price Categories')\n",
    "plt.ylabel('Number of Homes')\n",
    "plt.xticks(rotation=45)\n",
    "plt.tight_layout()\n",
    "plt.show()"
   ]
  },
  {
   "cell_type": "code",
   "execution_count": 34,
   "metadata": {},
   "outputs": [
    {
     "data": {
      "text/plain": [
       "propertyType\n",
       "Single Family    90543\n",
       "Condo            20358\n",
       "Land             11797\n",
       "Manufactured      3752\n",
       "Multi-Family      2106\n",
       "Townhouse         1511\n",
       "Apartment          335\n",
       "Name: count, dtype: int64"
      ]
     },
     "execution_count": 34,
     "metadata": {},
     "output_type": "execute_result"
    }
   ],
   "source": [
    "# Drop rows where 'Single Family' homes have a 'lastSalePrice' greater than 900\n",
    "rent_cast_data = rent_cast_data[~((rent_cast_data['propertyType'] == 'Single Family') & (rent_cast_data['lastSalePrice'] > 900000))]\n",
    "rent_cast_data['propertyType'].value_counts()"
   ]
  },
  {
   "cell_type": "code",
   "execution_count": 35,
   "metadata": {},
   "outputs": [
    {
     "data": {
      "image/png": "[encoded data removed]",
      "text/plain": [
       "<Figure size 640x480 with 1 Axes>"
      ]
     },
     "metadata": {},
     "output_type": "display_data"
    }
   ],
   "source": [
    "rent_cast_data['propertyType'].value_counts().plot(kind='bar')\n",
    "plt.title('Distribution of Property Types')\n",
    "plt.xlabel('Property Type')\n",
    "plt.ylabel('Sold')\n",
    "plt.show()"
   ]
  },
  {
   "cell_type": "code",
   "execution_count": 36,
   "metadata": {},
   "outputs": [
    {
     "data": {
      "image/png": "[encoded data removed]",
      "text/plain": [
       "<Figure size 1000x600 with 1 Axes>"
      ]
     },
     "metadata": {},
     "output_type": "display_data"
    }
   ],
   "source": [
    "# Group by 'propertyType' and calculate the mean sale price for each property type\n",
    "avg_price_by_property_type = rent_cast_data.groupby('propertyType')['lastSalePrice'].mean()\n",
    "\n",
    "avg_price_by_property_type = avg_price_by_property_type.sort_values(ascending=False)\n",
    "\n",
    "plt.figure(figsize=(10, 6))\n",
    "avg_price_by_property_type.plot(kind='bar', color='skyblue')\n",
    "\n",
    "plt.title('Average Last Sale Price by Property Type', fontsize=16)\n",
    "plt.xlabel('Property Type', fontsize=12)\n",
    "plt.ylabel('Average Last Sale Price', fontsize=12)\n",
    "plt.xticks(rotation=45, ha='right')\n",
    "plt.tight_layout()\n",
    "\n",
    "plt.show()"
   ]
  },
  {
   "cell_type": "code",
   "execution_count": 37,
   "metadata": {},
   "outputs": [
    {
     "data": {
      "text/plain": [
       "np.int64(31393)"
      ]
     },
     "execution_count": 37,
     "metadata": {},
     "output_type": "execute_result"
    }
   ],
   "source": [
    "rent_cast_data['features'].isnull().sum()"
   ]
  },
  {
   "cell_type": "code",
   "execution_count": 38,
   "metadata": {},
   "outputs": [
    {
     "data": {
      "text/plain": [
       "np.int64(0)"
      ]
     },
     "execution_count": 38,
     "metadata": {},
     "output_type": "execute_result"
    }
   ],
   "source": [
    "rent_cast_data.dropna(subset=['features'], inplace=True)\n",
    "rent_cast_data['features'].isnull().sum()"
   ]
  },
  {
   "cell_type": "code",
   "execution_count": 39,
   "metadata": {},
   "outputs": [
    {
     "name": "stdout",
     "output_type": "stream",
     "text": [
      "(101351, 31)\n",
      "18548\n"
     ]
    }
   ],
   "source": [
    "print(rent_cast_data.shape)\n",
    "print(rent_cast_data['features'].nunique())"
   ]
  },
  {
   "cell_type": "code",
   "execution_count": 40,
   "metadata": {},
   "outputs": [
    {
     "data": {
      "text/plain": [
       "(101351, 31)"
      ]
     },
     "execution_count": 40,
     "metadata": {},
     "output_type": "execute_result"
    }
   ],
   "source": [
    "rent_cast_data.shape"
   ]
  },
  {
   "cell_type": "code",
   "execution_count": 41,
   "metadata": {},
   "outputs": [],
   "source": [
    "feature_list = ['cooling', 'fireplace', 'garage', 'heating', 'pool']\n",
    "\n",
    "# Looping through each feature and creating a new column\n",
    "for feature in feature_list:\n",
    "    rent_cast_data[feature + '_present'] = rent_cast_data['features'].apply(\n",
    "        lambda x: 1 if feature in str(x).lower() else 0\n",
    "    )"
   ]
  },
  {
   "cell_type": "code",
   "execution_count": 42,
   "metadata": {},
   "outputs": [
    {
     "data": {
      "text/plain": [
       "(101351, 36)"
      ]
     },
     "execution_count": 42,
     "metadata": {},
     "output_type": "execute_result"
    }
   ],
   "source": [
    "rent_cast_data.shape"
   ]
  },
  {
   "cell_type": "code",
   "execution_count": 43,
   "metadata": {},
   "outputs": [
    {
     "data": {
      "text/html": [
       "<div>\n",
       "<style scoped>\n",
       "    .dataframe tbody tr th:only-of-type {\n",
       "        vertical-align: middle;\n",
       "    }\n",
       "\n",
       "    .dataframe tbody tr th {\n",
       "        vertical-align: top;\n",
       "    }\n",
       "\n",
       "    .dataframe thead th {\n",
       "        text-align: right;\n",
       "    }\n",
       "</style>\n",
       "<table border=\"1\" class=\"dataframe\">\n",
       "  <thead>\n",
       "    <tr style=\"text-align: right;\">\n",
       "      <th></th>\n",
       "      <th>id</th>\n",
       "      <th>formattedAddress</th>\n",
       "      <th>addressLine1</th>\n",
       "      <th>addressLine2</th>\n",
       "      <th>city</th>\n",
       "      <th>state</th>\n",
       "      <th>zipCode</th>\n",
       "      <th>county</th>\n",
       "      <th>latitude</th>\n",
       "      <th>longitude</th>\n",
       "      <th>propertyType</th>\n",
       "      <th>bedrooms</th>\n",
       "      <th>bathrooms</th>\n",
       "      <th>squareFootage</th>\n",
       "      <th>lotSize</th>\n",
       "      <th>yearBuilt</th>\n",
       "      <th>assessorID</th>\n",
       "      <th>legalDescription</th>\n",
       "      <th>subdivision</th>\n",
       "      <th>zoning</th>\n",
       "      <th>lastSaleDate</th>\n",
       "      <th>lastSalePrice</th>\n",
       "      <th>features</th>\n",
       "      <th>taxAssessments</th>\n",
       "      <th>propertyTaxes</th>\n",
       "      <th>history</th>\n",
       "      <th>owner</th>\n",
       "      <th>ownerOccupied</th>\n",
       "      <th>hoa</th>\n",
       "      <th>year_month</th>\n",
       "      <th>m_rate</th>\n",
       "      <th>cooling_present</th>\n",
       "      <th>fireplace_present</th>\n",
       "      <th>garage_present</th>\n",
       "      <th>heating_present</th>\n",
       "      <th>pool_present</th>\n",
       "      <th>floorCount</th>\n",
       "      <th>roomCount</th>\n",
       "      <th>unitCount</th>\n",
       "      <th>garageSpaces</th>\n",
       "    </tr>\n",
       "  </thead>\n",
       "  <tbody>\n",
       "    <tr>\n",
       "      <th>0</th>\n",
       "      <td>2825-Palm-Beach-Blvd,-Apt-417,-Fort-Myers,-FL-...</td>\n",
       "      <td>2825 Palm Beach Blvd, Apt 417, Fort Myers, FL ...</td>\n",
       "      <td>2825 Palm Beach Blvd</td>\n",
       "      <td>Apt 417</td>\n",
       "      <td>Fort Myers</td>\n",
       "      <td>FL</td>\n",
       "      <td>33916</td>\n",
       "      <td>Lee</td>\n",
       "      <td>26.652413</td>\n",
       "      <td>-81.855762</td>\n",
       "      <td>Condo</td>\n",
       "      <td>2.0</td>\n",
       "      <td>2.0</td>\n",
       "      <td>1003.0</td>\n",
       "      <td>44417.0</td>\n",
       "      <td>2006.0</td>\n",
       "      <td>18-44-25-P1-03700.0417</td>\n",
       "      <td>ALTA MAR DESC INST#2006-83303 UNIT 417</td>\n",
       "      <td>CITY RIVER DISTRICT</td>\n",
       "      <td>B-1</td>\n",
       "      <td>2024-03-15 00:00:00+00:00</td>\n",
       "      <td>315000.0</td>\n",
       "      <td>{'architectureType': 'Condo / Apartment', 'flo...</td>\n",
       "      <td>{'2019': {'year': 2019, 'value': 128393, 'impr...</td>\n",
       "      <td>{'2019': {'year': 2019, 'total': 2548}, '2022'...</td>\n",
       "      <td>{'2024-03-15': {'event': 'Sale', 'date': '2024...</td>\n",
       "      <td>{'names': ['Edgar K Collison', 'Muriel Colliso...</td>\n",
       "      <td>False</td>\n",
       "      <td>NaN</td>\n",
       "      <td>2024-03</td>\n",
       "      <td>0.0682</td>\n",
       "      <td>0</td>\n",
       "      <td>0</td>\n",
       "      <td>0</td>\n",
       "      <td>0</td>\n",
       "      <td>0</td>\n",
       "      <td>7.0</td>\n",
       "      <td>NaN</td>\n",
       "      <td>NaN</td>\n",
       "      <td>NaN</td>\n",
       "    </tr>\n",
       "    <tr>\n",
       "      <th>1</th>\n",
       "      <td>3607-Bridgewood-Dr,-Jacksonville,-FL-32277</td>\n",
       "      <td>3607 Bridgewood Dr, Jacksonville, FL 32277</td>\n",
       "      <td>3607 Bridgewood Dr</td>\n",
       "      <td>NaN</td>\n",
       "      <td>Jacksonville</td>\n",
       "      <td>FL</td>\n",
       "      <td>32277</td>\n",
       "      <td>Duval</td>\n",
       "      <td>30.363895</td>\n",
       "      <td>-81.610043</td>\n",
       "      <td>Single Family</td>\n",
       "      <td>3.0</td>\n",
       "      <td>2.0</td>\n",
       "      <td>1921.0</td>\n",
       "      <td>4464.0</td>\n",
       "      <td>1992.0</td>\n",
       "      <td>128197-1276</td>\n",
       "      <td>38-58 38-2S-27E MARSH CREEK LOT 138</td>\n",
       "      <td>MARSH CREEK</td>\n",
       "      <td>PUD</td>\n",
       "      <td>2024-03-15 00:00:00+00:00</td>\n",
       "      <td>345000.0</td>\n",
       "      <td>{'cooling': True, 'coolingType': 'Central', 'e...</td>\n",
       "      <td>{'2020': {'year': 2020, 'value': 158286, 'land...</td>\n",
       "      <td>{'2020': {'year': 2020, 'total': 2999}, '2021'...</td>\n",
       "      <td>{'2024-03-15': {'event': 'Sale', 'date': '2024...</td>\n",
       "      <td>{'names': ['Jessielyn Wade', 'Gregory Wade'], ...</td>\n",
       "      <td>True</td>\n",
       "      <td>NaN</td>\n",
       "      <td>2024-03</td>\n",
       "      <td>0.0682</td>\n",
       "      <td>1</td>\n",
       "      <td>0</td>\n",
       "      <td>1</td>\n",
       "      <td>1</td>\n",
       "      <td>0</td>\n",
       "      <td>2.0</td>\n",
       "      <td>NaN</td>\n",
       "      <td>1.0</td>\n",
       "      <td>2.0</td>\n",
       "    </tr>\n",
       "    <tr>\n",
       "      <th>2</th>\n",
       "      <td>2025-Se-44th-St,-Cape-Coral,-FL-33904</td>\n",
       "      <td>2025 Se 44th St, Cape Coral, FL 33904</td>\n",
       "      <td>2025 Se 44th St</td>\n",
       "      <td>NaN</td>\n",
       "      <td>Cape Coral</td>\n",
       "      <td>FL</td>\n",
       "      <td>33904</td>\n",
       "      <td>Lee</td>\n",
       "      <td>26.568926</td>\n",
       "      <td>-81.932980</td>\n",
       "      <td>Single Family</td>\n",
       "      <td>3.0</td>\n",
       "      <td>2.0</td>\n",
       "      <td>2050.0</td>\n",
       "      <td>12000.0</td>\n",
       "      <td>1967.0</td>\n",
       "      <td>08-45-24-C3-00369.0550</td>\n",
       "      <td>CAPE CORAL UNIT 7 BLK.369 PB 12 PG 105 LOTS 55...</td>\n",
       "      <td>CAPE CORAL UNIT 7 EAST OF DEL PRADO</td>\n",
       "      <td>R1-W</td>\n",
       "      <td>2024-03-15 00:00:00+00:00</td>\n",
       "      <td>850000.0</td>\n",
       "      <td>{'architectureType': 'Ranch', 'cooling': True,...</td>\n",
       "      <td>{'2023': {'year': 2023, 'value': 848351, 'land...</td>\n",
       "      <td>{'2023': {'year': 2023, 'total': 10682}}</td>\n",
       "      <td>{'2024-03-15': {'event': 'Sale', 'date': '2024...</td>\n",
       "      <td>{'names': ['D&amp;D PROPERTIES OF CAPE COLE INC'],...</td>\n",
       "      <td>False</td>\n",
       "      <td>NaN</td>\n",
       "      <td>2024-03</td>\n",
       "      <td>0.0682</td>\n",
       "      <td>1</td>\n",
       "      <td>0</td>\n",
       "      <td>1</td>\n",
       "      <td>1</td>\n",
       "      <td>0</td>\n",
       "      <td>1.0</td>\n",
       "      <td>NaN</td>\n",
       "      <td>1.0</td>\n",
       "      <td>NaN</td>\n",
       "    </tr>\n",
       "    <tr>\n",
       "      <th>4</th>\n",
       "      <td>11605-Sw-253rd-St,-Homestead,-FL-33032</td>\n",
       "      <td>11605 Sw 253rd St, Homestead, FL 33032</td>\n",
       "      <td>11605 Sw 253rd St</td>\n",
       "      <td>NaN</td>\n",
       "      <td>Homestead</td>\n",
       "      <td>FL</td>\n",
       "      <td>33032</td>\n",
       "      <td>Miami-Dade</td>\n",
       "      <td>25.532831</td>\n",
       "      <td>-80.379346</td>\n",
       "      <td>Single Family</td>\n",
       "      <td>3.0</td>\n",
       "      <td>2.5</td>\n",
       "      <td>1740.0</td>\n",
       "      <td>1870.0</td>\n",
       "      <td>2016.0</td>\n",
       "      <td>30-6030-003-7210</td>\n",
       "      <td>COCO PALM ESTATES PB 171-032 T-22608 LOT 5 BLK...</td>\n",
       "      <td>COCO PALM ESTATES</td>\n",
       "      <td>3700:MULTI-FAM,10-21 U/A</td>\n",
       "      <td>2024-03-15 00:00:00+00:00</td>\n",
       "      <td>445000.0</td>\n",
       "      <td>{'floorCount': 2}</td>\n",
       "      <td>{'2021': {'year': 2021, 'value': 212001}, '202...</td>\n",
       "      <td>{'2022': {'year': 2022, 'total': 5737}, '2023'...</td>\n",
       "      <td>{'2024-03-15': {'event': 'Sale', 'date': '2024...</td>\n",
       "      <td>{'names': ['Eliecer Ferrer', 'Anay Diaz'], 'ty...</td>\n",
       "      <td>True</td>\n",
       "      <td>NaN</td>\n",
       "      <td>2024-03</td>\n",
       "      <td>0.0682</td>\n",
       "      <td>0</td>\n",
       "      <td>0</td>\n",
       "      <td>0</td>\n",
       "      <td>0</td>\n",
       "      <td>0</td>\n",
       "      <td>2.0</td>\n",
       "      <td>NaN</td>\n",
       "      <td>NaN</td>\n",
       "      <td>NaN</td>\n",
       "    </tr>\n",
       "    <tr>\n",
       "      <th>5</th>\n",
       "      <td>2020-Continental-Ave,-Apt-203,-Tallahassee,-FL...</td>\n",
       "      <td>2020 Continental Ave, Apt 203, Tallahassee, FL...</td>\n",
       "      <td>2020 Continental Ave</td>\n",
       "      <td>Apt 203</td>\n",
       "      <td>Tallahassee</td>\n",
       "      <td>FL</td>\n",
       "      <td>32304</td>\n",
       "      <td>Leon</td>\n",
       "      <td>30.455487</td>\n",
       "      <td>-84.315107</td>\n",
       "      <td>Condo</td>\n",
       "      <td>2.0</td>\n",
       "      <td>1.0</td>\n",
       "      <td>990.0</td>\n",
       "      <td>871.0</td>\n",
       "      <td>1967.0</td>\n",
       "      <td>21-27-43-000-203-0</td>\n",
       "      <td>CHATEAU DE VILLE CONDOMINIUMS 27 1N 1W UNIT 20...</td>\n",
       "      <td>CHATEAU DE VILLE CONDOMINIUMS</td>\n",
       "      <td>NaN</td>\n",
       "      <td>2024-03-15 00:00:00+00:00</td>\n",
       "      <td>85000.0</td>\n",
       "      <td>{'architectureType': 'Condo / Apartment', 'ext...</td>\n",
       "      <td>{'2023': {'year': 2023, 'value': 63360, 'impro...</td>\n",
       "      <td>{'2023': {'year': 2023, 'total': 1163}}</td>\n",
       "      <td>{'2024-03-15': {'event': 'Sale', 'date': '2024...</td>\n",
       "      <td>{'names': ['Charles Sheppard', 'Anneke Sheppar...</td>\n",
       "      <td>False</td>\n",
       "      <td>NaN</td>\n",
       "      <td>2024-03</td>\n",
       "      <td>0.0682</td>\n",
       "      <td>0</td>\n",
       "      <td>0</td>\n",
       "      <td>0</td>\n",
       "      <td>0</td>\n",
       "      <td>0</td>\n",
       "      <td>NaN</td>\n",
       "      <td>NaN</td>\n",
       "      <td>1.0</td>\n",
       "      <td>NaN</td>\n",
       "    </tr>\n",
       "  </tbody>\n",
       "</table>\n",
       "</div>"
      ],
      "text/plain": [
       "                                                  id  \\\n",
       "0  2825-Palm-Beach-Blvd,-Apt-417,-Fort-Myers,-FL-...   \n",
       "1         3607-Bridgewood-Dr,-Jacksonville,-FL-32277   \n",
       "2              2025-Se-44th-St,-Cape-Coral,-FL-33904   \n",
       "4             11605-Sw-253rd-St,-Homestead,-FL-33032   \n",
       "5  2020-Continental-Ave,-Apt-203,-Tallahassee,-FL...   \n",
       "\n",
       "                                    formattedAddress          addressLine1  \\\n",
       "0  2825 Palm Beach Blvd, Apt 417, Fort Myers, FL ...  2825 Palm Beach Blvd   \n",
       "1         3607 Bridgewood Dr, Jacksonville, FL 32277    3607 Bridgewood Dr   \n",
       "2              2025 Se 44th St, Cape Coral, FL 33904       2025 Se 44th St   \n",
       "4             11605 Sw 253rd St, Homestead, FL 33032     11605 Sw 253rd St   \n",
       "5  2020 Continental Ave, Apt 203, Tallahassee, FL...  2020 Continental Ave   \n",
       "\n",
       "  addressLine2          city state  zipCode      county   latitude  longitude  \\\n",
       "0      Apt 417    Fort Myers    FL    33916         Lee  26.652413 -81.855762   \n",
       "1          NaN  Jacksonville    FL    32277       Duval  30.363895 -81.610043   \n",
       "2          NaN    Cape Coral    FL    33904         Lee  26.568926 -81.932980   \n",
       "4          NaN     Homestead    FL    33032  Miami-Dade  25.532831 -80.379346   \n",
       "5      Apt 203   Tallahassee    FL    32304        Leon  30.455487 -84.315107   \n",
       "\n",
       "    propertyType  bedrooms  bathrooms  squareFootage  lotSize  yearBuilt  \\\n",
       "0          Condo       2.0        2.0         1003.0  44417.0     2006.0   \n",
       "1  Single Family       3.0        2.0         1921.0   4464.0     1992.0   \n",
       "2  Single Family       3.0        2.0         2050.0  12000.0     1967.0   \n",
       "4  Single Family       3.0        2.5         1740.0   1870.0     2016.0   \n",
       "5          Condo       2.0        1.0          990.0    871.0     1967.0   \n",
       "\n",
       "               assessorID                                   legalDescription  \\\n",
       "0  18-44-25-P1-03700.0417             ALTA MAR DESC INST#2006-83303 UNIT 417   \n",
       "1             128197-1276                38-58 38-2S-27E MARSH CREEK LOT 138   \n",
       "2  08-45-24-C3-00369.0550  CAPE CORAL UNIT 7 BLK.369 PB 12 PG 105 LOTS 55...   \n",
       "4        30-6030-003-7210  COCO PALM ESTATES PB 171-032 T-22608 LOT 5 BLK...   \n",
       "5      21-27-43-000-203-0  CHATEAU DE VILLE CONDOMINIUMS 27 1N 1W UNIT 20...   \n",
       "\n",
       "                           subdivision                    zoning  \\\n",
       "0                  CITY RIVER DISTRICT                       B-1   \n",
       "1                          MARSH CREEK                       PUD   \n",
       "2  CAPE CORAL UNIT 7 EAST OF DEL PRADO                      R1-W   \n",
       "4                    COCO PALM ESTATES  3700:MULTI-FAM,10-21 U/A   \n",
       "5        CHATEAU DE VILLE CONDOMINIUMS                       NaN   \n",
       "\n",
       "               lastSaleDate  lastSalePrice  \\\n",
       "0 2024-03-15 00:00:00+00:00       315000.0   \n",
       "1 2024-03-15 00:00:00+00:00       345000.0   \n",
       "2 2024-03-15 00:00:00+00:00       850000.0   \n",
       "4 2024-03-15 00:00:00+00:00       445000.0   \n",
       "5 2024-03-15 00:00:00+00:00        85000.0   \n",
       "\n",
       "                                            features  \\\n",
       "0  {'architectureType': 'Condo / Apartment', 'flo...   \n",
       "1  {'cooling': True, 'coolingType': 'Central', 'e...   \n",
       "2  {'architectureType': 'Ranch', 'cooling': True,...   \n",
       "4                                  {'floorCount': 2}   \n",
       "5  {'architectureType': 'Condo / Apartment', 'ext...   \n",
       "\n",
       "                                      taxAssessments  \\\n",
       "0  {'2019': {'year': 2019, 'value': 128393, 'impr...   \n",
       "1  {'2020': {'year': 2020, 'value': 158286, 'land...   \n",
       "2  {'2023': {'year': 2023, 'value': 848351, 'land...   \n",
       "4  {'2021': {'year': 2021, 'value': 212001}, '202...   \n",
       "5  {'2023': {'year': 2023, 'value': 63360, 'impro...   \n",
       "\n",
       "                                       propertyTaxes  \\\n",
       "0  {'2019': {'year': 2019, 'total': 2548}, '2022'...   \n",
       "1  {'2020': {'year': 2020, 'total': 2999}, '2021'...   \n",
       "2           {'2023': {'year': 2023, 'total': 10682}}   \n",
       "4  {'2022': {'year': 2022, 'total': 5737}, '2023'...   \n",
       "5            {'2023': {'year': 2023, 'total': 1163}}   \n",
       "\n",
       "                                             history  \\\n",
       "0  {'2024-03-15': {'event': 'Sale', 'date': '2024...   \n",
       "1  {'2024-03-15': {'event': 'Sale', 'date': '2024...   \n",
       "2  {'2024-03-15': {'event': 'Sale', 'date': '2024...   \n",
       "4  {'2024-03-15': {'event': 'Sale', 'date': '2024...   \n",
       "5  {'2024-03-15': {'event': 'Sale', 'date': '2024...   \n",
       "\n",
       "                                               owner ownerOccupied  hoa  \\\n",
       "0  {'names': ['Edgar K Collison', 'Muriel Colliso...         False  NaN   \n",
       "1  {'names': ['Jessielyn Wade', 'Gregory Wade'], ...          True  NaN   \n",
       "2  {'names': ['D&D PROPERTIES OF CAPE COLE INC'],...         False  NaN   \n",
       "4  {'names': ['Eliecer Ferrer', 'Anay Diaz'], 'ty...          True  NaN   \n",
       "5  {'names': ['Charles Sheppard', 'Anneke Sheppar...         False  NaN   \n",
       "\n",
       "  year_month  m_rate  cooling_present  fireplace_present  garage_present  \\\n",
       "0    2024-03  0.0682                0                  0               0   \n",
       "1    2024-03  0.0682                1                  0               1   \n",
       "2    2024-03  0.0682                1                  0               1   \n",
       "4    2024-03  0.0682                0                  0               0   \n",
       "5    2024-03  0.0682                0                  0               0   \n",
       "\n",
       "   heating_present  pool_present  floorCount  roomCount  unitCount  \\\n",
       "0                0             0         7.0        NaN        NaN   \n",
       "1                1             0         2.0        NaN        1.0   \n",
       "2                1             0         1.0        NaN        1.0   \n",
       "4                0             0         2.0        NaN        NaN   \n",
       "5                0             0         NaN        NaN        1.0   \n",
       "\n",
       "   garageSpaces  \n",
       "0           NaN  \n",
       "1           2.0  \n",
       "2           NaN  \n",
       "4           NaN  \n",
       "5           NaN  "
      ]
     },
     "execution_count": 43,
     "metadata": {},
     "output_type": "execute_result"
    }
   ],
   "source": [
    "# List of features I want to create columns for\n",
    "numeric_features = ['floorCount', 'roomCount', 'unitCount', 'garageSpaces']\n",
    "\n",
    "# Loop through each feature and create a new column for it\n",
    "for feature in numeric_features:\n",
    "    rent_cast_data[feature] = rent_cast_data['features'].apply(\n",
    "        lambda x: ast.literal_eval(str(x)).get(feature, None)  \n",
    "    )\n",
    "\n",
    "rent_cast_data.head()"
   ]
  },
  {
   "cell_type": "code",
   "execution_count": 44,
   "metadata": {},
   "outputs": [
    {
     "name": "stdout",
     "output_type": "stream",
     "text": [
      "               floorCount  roomCount  unitCount  garageSpaces  lastSalePrice\n",
      "floorCount       1.000000  -0.013613   0.002096      0.055246       0.066092\n",
      "roomCount       -0.013613   1.000000  -0.003227      0.136474       0.069140\n",
      "unitCount        0.002096  -0.003227   1.000000     -0.010710      -0.002627\n",
      "garageSpaces     0.055246   0.136474  -0.010710      1.000000       0.207672\n",
      "lastSalePrice    0.066092   0.069140  -0.002627      0.207672       1.000000\n"
     ]
    },
    {
     "data": {
      "image/png": "[encoded data removed]",
      "text/plain": [
       "<Figure size 800x600 with 2 Axes>"
      ]
     },
     "metadata": {},
     "output_type": "display_data"
    }
   ],
   "source": [
    "# Checking for correlation with 'lastSalePrice'\n",
    "features_to_check = ['floorCount', 'roomCount', 'unitCount', 'garageSpaces', 'lastSalePrice']\n",
    "\n",
    "correlation_matrix = rent_cast_data[features_to_check].corr()\n",
    "\n",
    "print(correlation_matrix)\n",
    "\n",
    "\n",
    "plt.figure(figsize=(8, 6))\n",
    "sns.heatmap(correlation_matrix, annot=True, cmap='coolwarm', fmt=\".2f\", vmin=-1, vmax=1)\n",
    "plt.title('Correlation Matrix')\n",
    "plt.show()"
   ]
  },
  {
   "cell_type": "code",
   "execution_count": 45,
   "metadata": {},
   "outputs": [],
   "source": [
    "# Features to drop based on the correlation analysis\n",
    "features_to_drop = ['unitCount', 'roomCount']\n",
    "\n",
    "rent_cast_data = rent_cast_data.drop(columns=features_to_drop)"
   ]
  },
  {
   "cell_type": "code",
   "execution_count": 46,
   "metadata": {},
   "outputs": [
    {
     "data": {
      "text/html": [
       "<div>\n",
       "<style scoped>\n",
       "    .dataframe tbody tr th:only-of-type {\n",
       "        vertical-align: middle;\n",
       "    }\n",
       "\n",
       "    .dataframe tbody tr th {\n",
       "        vertical-align: top;\n",
       "    }\n",
       "\n",
       "    .dataframe thead th {\n",
       "        text-align: right;\n",
       "    }\n",
       "</style>\n",
       "<table border=\"1\" class=\"dataframe\">\n",
       "  <thead>\n",
       "    <tr style=\"text-align: right;\">\n",
       "      <th></th>\n",
       "      <th>formattedAddress</th>\n",
       "      <th>city</th>\n",
       "      <th>zipCode</th>\n",
       "      <th>county</th>\n",
       "      <th>latitude</th>\n",
       "      <th>longitude</th>\n",
       "      <th>propertyType</th>\n",
       "      <th>bedrooms</th>\n",
       "      <th>bathrooms</th>\n",
       "      <th>squareFootage</th>\n",
       "      <th>lotSize</th>\n",
       "      <th>yearBuilt</th>\n",
       "      <th>lastSaleDate</th>\n",
       "      <th>lastSalePrice</th>\n",
       "      <th>propertyTaxes</th>\n",
       "      <th>year_month</th>\n",
       "      <th>m_rate</th>\n",
       "      <th>cooling_present</th>\n",
       "      <th>fireplace_present</th>\n",
       "      <th>garage_present</th>\n",
       "      <th>heating_present</th>\n",
       "      <th>pool_present</th>\n",
       "      <th>floorCount</th>\n",
       "      <th>garageSpaces</th>\n",
       "    </tr>\n",
       "  </thead>\n",
       "  <tbody>\n",
       "    <tr>\n",
       "      <th>0</th>\n",
       "      <td>2825 Palm Beach Blvd, Apt 417, Fort Myers, FL ...</td>\n",
       "      <td>Fort Myers</td>\n",
       "      <td>33916</td>\n",
       "      <td>Lee</td>\n",
       "      <td>26.652413</td>\n",
       "      <td>-81.855762</td>\n",
       "      <td>Condo</td>\n",
       "      <td>2.0</td>\n",
       "      <td>2.0</td>\n",
       "      <td>1003.0</td>\n",
       "      <td>44417.0</td>\n",
       "      <td>2006.0</td>\n",
       "      <td>2024-03-15 00:00:00+00:00</td>\n",
       "      <td>315000.0</td>\n",
       "      <td>{'2019': {'year': 2019, 'total': 2548}, '2022'...</td>\n",
       "      <td>2024-03</td>\n",
       "      <td>0.0682</td>\n",
       "      <td>0</td>\n",
       "      <td>0</td>\n",
       "      <td>0</td>\n",
       "      <td>0</td>\n",
       "      <td>0</td>\n",
       "      <td>7.0</td>\n",
       "      <td>NaN</td>\n",
       "    </tr>\n",
       "    <tr>\n",
       "      <th>1</th>\n",
       "      <td>3607 Bridgewood Dr, Jacksonville, FL 32277</td>\n",
       "      <td>Jacksonville</td>\n",
       "      <td>32277</td>\n",
       "      <td>Duval</td>\n",
       "      <td>30.363895</td>\n",
       "      <td>-81.610043</td>\n",
       "      <td>Single Family</td>\n",
       "      <td>3.0</td>\n",
       "      <td>2.0</td>\n",
       "      <td>1921.0</td>\n",
       "      <td>4464.0</td>\n",
       "      <td>1992.0</td>\n",
       "      <td>2024-03-15 00:00:00+00:00</td>\n",
       "      <td>345000.0</td>\n",
       "      <td>{'2020': {'year': 2020, 'total': 2999}, '2021'...</td>\n",
       "      <td>2024-03</td>\n",
       "      <td>0.0682</td>\n",
       "      <td>1</td>\n",
       "      <td>0</td>\n",
       "      <td>1</td>\n",
       "      <td>1</td>\n",
       "      <td>0</td>\n",
       "      <td>2.0</td>\n",
       "      <td>2.0</td>\n",
       "    </tr>\n",
       "    <tr>\n",
       "      <th>2</th>\n",
       "      <td>2025 Se 44th St, Cape Coral, FL 33904</td>\n",
       "      <td>Cape Coral</td>\n",
       "      <td>33904</td>\n",
       "      <td>Lee</td>\n",
       "      <td>26.568926</td>\n",
       "      <td>-81.932980</td>\n",
       "      <td>Single Family</td>\n",
       "      <td>3.0</td>\n",
       "      <td>2.0</td>\n",
       "      <td>2050.0</td>\n",
       "      <td>12000.0</td>\n",
       "      <td>1967.0</td>\n",
       "      <td>2024-03-15 00:00:00+00:00</td>\n",
       "      <td>850000.0</td>\n",
       "      <td>{'2023': {'year': 2023, 'total': 10682}}</td>\n",
       "      <td>2024-03</td>\n",
       "      <td>0.0682</td>\n",
       "      <td>1</td>\n",
       "      <td>0</td>\n",
       "      <td>1</td>\n",
       "      <td>1</td>\n",
       "      <td>0</td>\n",
       "      <td>1.0</td>\n",
       "      <td>NaN</td>\n",
       "    </tr>\n",
       "    <tr>\n",
       "      <th>4</th>\n",
       "      <td>11605 Sw 253rd St, Homestead, FL 33032</td>\n",
       "      <td>Homestead</td>\n",
       "      <td>33032</td>\n",
       "      <td>Miami-Dade</td>\n",
       "      <td>25.532831</td>\n",
       "      <td>-80.379346</td>\n",
       "      <td>Single Family</td>\n",
       "      <td>3.0</td>\n",
       "      <td>2.5</td>\n",
       "      <td>1740.0</td>\n",
       "      <td>1870.0</td>\n",
       "      <td>2016.0</td>\n",
       "      <td>2024-03-15 00:00:00+00:00</td>\n",
       "      <td>445000.0</td>\n",
       "      <td>{'2022': {'year': 2022, 'total': 5737}, '2023'...</td>\n",
       "      <td>2024-03</td>\n",
       "      <td>0.0682</td>\n",
       "      <td>0</td>\n",
       "      <td>0</td>\n",
       "      <td>0</td>\n",
       "      <td>0</td>\n",
       "      <td>0</td>\n",
       "      <td>2.0</td>\n",
       "      <td>NaN</td>\n",
       "    </tr>\n",
       "    <tr>\n",
       "      <th>5</th>\n",
       "      <td>2020 Continental Ave, Apt 203, Tallahassee, FL...</td>\n",
       "      <td>Tallahassee</td>\n",
       "      <td>32304</td>\n",
       "      <td>Leon</td>\n",
       "      <td>30.455487</td>\n",
       "      <td>-84.315107</td>\n",
       "      <td>Condo</td>\n",
       "      <td>2.0</td>\n",
       "      <td>1.0</td>\n",
       "      <td>990.0</td>\n",
       "      <td>871.0</td>\n",
       "      <td>1967.0</td>\n",
       "      <td>2024-03-15 00:00:00+00:00</td>\n",
       "      <td>85000.0</td>\n",
       "      <td>{'2023': {'year': 2023, 'total': 1163}}</td>\n",
       "      <td>2024-03</td>\n",
       "      <td>0.0682</td>\n",
       "      <td>0</td>\n",
       "      <td>0</td>\n",
       "      <td>0</td>\n",
       "      <td>0</td>\n",
       "      <td>0</td>\n",
       "      <td>NaN</td>\n",
       "      <td>NaN</td>\n",
       "    </tr>\n",
       "  </tbody>\n",
       "</table>\n",
       "</div>"
      ],
      "text/plain": [
       "                                    formattedAddress          city  zipCode  \\\n",
       "0  2825 Palm Beach Blvd, Apt 417, Fort Myers, FL ...    Fort Myers    33916   \n",
       "1         3607 Bridgewood Dr, Jacksonville, FL 32277  Jacksonville    32277   \n",
       "2              2025 Se 44th St, Cape Coral, FL 33904    Cape Coral    33904   \n",
       "4             11605 Sw 253rd St, Homestead, FL 33032     Homestead    33032   \n",
       "5  2020 Continental Ave, Apt 203, Tallahassee, FL...   Tallahassee    32304   \n",
       "\n",
       "       county   latitude  longitude   propertyType  bedrooms  bathrooms  \\\n",
       "0         Lee  26.652413 -81.855762          Condo       2.0        2.0   \n",
       "1       Duval  30.363895 -81.610043  Single Family       3.0        2.0   \n",
       "2         Lee  26.568926 -81.932980  Single Family       3.0        2.0   \n",
       "4  Miami-Dade  25.532831 -80.379346  Single Family       3.0        2.5   \n",
       "5        Leon  30.455487 -84.315107          Condo       2.0        1.0   \n",
       "\n",
       "   squareFootage  lotSize  yearBuilt              lastSaleDate  lastSalePrice  \\\n",
       "0         1003.0  44417.0     2006.0 2024-03-15 00:00:00+00:00       315000.0   \n",
       "1         1921.0   4464.0     1992.0 2024-03-15 00:00:00+00:00       345000.0   \n",
       "2         2050.0  12000.0     1967.0 2024-03-15 00:00:00+00:00       850000.0   \n",
       "4         1740.0   1870.0     2016.0 2024-03-15 00:00:00+00:00       445000.0   \n",
       "5          990.0    871.0     1967.0 2024-03-15 00:00:00+00:00        85000.0   \n",
       "\n",
       "                                       propertyTaxes year_month  m_rate  \\\n",
       "0  {'2019': {'year': 2019, 'total': 2548}, '2022'...    2024-03  0.0682   \n",
       "1  {'2020': {'year': 2020, 'total': 2999}, '2021'...    2024-03  0.0682   \n",
       "2           {'2023': {'year': 2023, 'total': 10682}}    2024-03  0.0682   \n",
       "4  {'2022': {'year': 2022, 'total': 5737}, '2023'...    2024-03  0.0682   \n",
       "5            {'2023': {'year': 2023, 'total': 1163}}    2024-03  0.0682   \n",
       "\n",
       "   cooling_present  fireplace_present  garage_present  heating_present  \\\n",
       "0                0                  0               0                0   \n",
       "1                1                  0               1                1   \n",
       "2                1                  0               1                1   \n",
       "4                0                  0               0                0   \n",
       "5                0                  0               0                0   \n",
       "\n",
       "   pool_present  floorCount  garageSpaces  \n",
       "0             0         7.0           NaN  \n",
       "1             0         2.0           2.0  \n",
       "2             0         1.0           NaN  \n",
       "4             0         2.0           NaN  \n",
       "5             0         NaN           NaN  "
      ]
     },
     "execution_count": 46,
     "metadata": {},
     "output_type": "execute_result"
    }
   ],
   "source": [
    "columns_to_drop = ['addressLine1', 'addressLine2', 'state', 'owner', 'ownerOccupied', 'hoa', 'legalDescription', \n",
    "                   'subdivision', 'assessorID', 'zoning', 'taxAssessments', 'history', 'features', 'id']\n",
    "\n",
    "rent_cast_data = rent_cast_data.drop(columns=columns_to_drop)\n",
    "\n",
    "rent_cast_data.head()"
   ]
  },
  {
   "cell_type": "code",
   "execution_count": 47,
   "metadata": {},
   "outputs": [
    {
     "name": "stdout",
     "output_type": "stream",
     "text": [
      "Original shape: (101351, 24)\n",
      "Cleaned shape: (99787, 24)\n"
     ]
    }
   ],
   "source": [
    "# Drop rows where 'propertyType' is 'Land'\n",
    "rent_cast_data_land = rent_cast_data[rent_cast_data['propertyType'] != 'Land']\n",
    "\n",
    "# Verify that the rows with 'Land' have been dropped\n",
    "print(f\"Original shape: {rent_cast_data.shape}\")\n",
    "print(f\"Cleaned shape: {rent_cast_data_land.shape}\")\n",
    "\n",
    "rent_cast_data = rent_cast_data_land"
   ]
  },
  {
   "cell_type": "code",
   "execution_count": 48,
   "metadata": {},
   "outputs": [
    {
     "data": {
      "text/plain": [
       "propertyType\n",
       "Single Family    74695\n",
       "Condo            18925\n",
       "Manufactured      3450\n",
       "Multi-Family      1713\n",
       "Townhouse          790\n",
       "Apartment          212\n",
       "Name: count, dtype: int64"
      ]
     },
     "execution_count": 48,
     "metadata": {},
     "output_type": "execute_result"
    }
   ],
   "source": [
    "rent_cast_data['propertyType'].value_counts()"
   ]
  },
  {
   "cell_type": "code",
   "execution_count": 49,
   "metadata": {},
   "outputs": [
    {
     "data": {
      "text/plain": [
       "(99787, 24)"
      ]
     },
     "execution_count": 49,
     "metadata": {},
     "output_type": "execute_result"
    }
   ],
   "source": [
    "rent_cast_data.shape"
   ]
  },
  {
   "cell_type": "code",
   "execution_count": 50,
   "metadata": {},
   "outputs": [
    {
     "name": "stdout",
     "output_type": "stream",
     "text": [
      "NaN values in 'bedrooms': 4032\n",
      "NaN values in 'bathrooms': 2670\n"
     ]
    }
   ],
   "source": [
    "# Checking for NaN values in 'bedrooms' and 'bathrooms' columns\n",
    "nan_bedrooms = rent_cast_data['bedrooms'].isna().sum()\n",
    "nan_bathrooms = rent_cast_data['bathrooms'].isna().sum()\n",
    "\n",
    "print(f\"NaN values in 'bedrooms': {nan_bedrooms}\")\n",
    "print(f\"NaN values in 'bathrooms': {nan_bathrooms}\")"
   ]
  },
  {
   "cell_type": "code",
   "execution_count": 51,
   "metadata": {},
   "outputs": [
    {
     "name": "stdout",
     "output_type": "stream",
     "text": [
      "Original shape: (99787, 24)\n",
      "Cleaned shape: (95722, 24)\n"
     ]
    }
   ],
   "source": [
    "rent_cast_data_cleaned = rent_cast_data.dropna(subset=['bedrooms', 'bathrooms'], how='any')\n",
    "\n",
    "print(f\"Original shape: {rent_cast_data.shape}\")\n",
    "print(f\"Cleaned shape: {rent_cast_data_cleaned.shape}\")\n",
    "\n",
    "rent_cast_data = rent_cast_data_cleaned"
   ]
  },
  {
   "cell_type": "code",
   "execution_count": 52,
   "metadata": {},
   "outputs": [
    {
     "data": {
      "text/plain": [
       "(95722, 24)"
      ]
     },
     "execution_count": 52,
     "metadata": {},
     "output_type": "execute_result"
    }
   ],
   "source": [
    "rent_cast_data.shape"
   ]
  },
  {
   "cell_type": "code",
   "execution_count": 53,
   "metadata": {},
   "outputs": [
    {
     "data": {
      "text/plain": [
       "formattedAddress         0\n",
       "city                     0\n",
       "zipCode                  0\n",
       "county                  54\n",
       "latitude                 0\n",
       "longitude                0\n",
       "propertyType             1\n",
       "bedrooms                 0\n",
       "bathrooms                0\n",
       "squareFootage           33\n",
       "lotSize               8644\n",
       "yearBuilt              156\n",
       "lastSaleDate             0\n",
       "lastSalePrice           14\n",
       "propertyTaxes          681\n",
       "year_month               0\n",
       "m_rate                   0\n",
       "cooling_present          0\n",
       "fireplace_present        0\n",
       "garage_present           0\n",
       "heating_present          0\n",
       "pool_present             0\n",
       "floorCount           13889\n",
       "garageSpaces         78566\n",
       "dtype: int64"
      ]
     },
     "execution_count": 53,
     "metadata": {},
     "output_type": "execute_result"
    }
   ],
   "source": [
    "rent_cast_data.isnull().sum()"
   ]
  },
  {
   "cell_type": "code",
   "execution_count": 54,
   "metadata": {},
   "outputs": [],
   "source": [
    "rent_cast_data_cleaned = rent_cast_data.dropna(subset=['propertyType'])\n",
    "\n",
    "rent_cast_data = rent_cast_data_cleaned"
   ]
  },
  {
   "cell_type": "code",
   "execution_count": 55,
   "metadata": {},
   "outputs": [
    {
     "data": {
      "text/plain": [
       "(95721, 24)"
      ]
     },
     "execution_count": 55,
     "metadata": {},
     "output_type": "execute_result"
    }
   ],
   "source": [
    "rent_cast_data.shape"
   ]
  },
  {
   "cell_type": "code",
   "execution_count": 56,
   "metadata": {},
   "outputs": [
    {
     "data": {
      "text/plain": [
       "np.int64(0)"
      ]
     },
     "execution_count": 56,
     "metadata": {},
     "output_type": "execute_result"
    }
   ],
   "source": [
    "rent_cast_data = rent_cast_data.dropna(subset=['lastSalePrice'])\n",
    "\n",
    "rent_cast_data['lastSalePrice'].isnull().sum()"
   ]
  },
  {
   "cell_type": "code",
   "execution_count": 57,
   "metadata": {},
   "outputs": [
    {
     "data": {
      "text/html": [
       "<div>\n",
       "<style scoped>\n",
       "    .dataframe tbody tr th:only-of-type {\n",
       "        vertical-align: middle;\n",
       "    }\n",
       "\n",
       "    .dataframe tbody tr th {\n",
       "        vertical-align: top;\n",
       "    }\n",
       "\n",
       "    .dataframe thead th {\n",
       "        text-align: right;\n",
       "    }\n",
       "</style>\n",
       "<table border=\"1\" class=\"dataframe\">\n",
       "  <thead>\n",
       "    <tr style=\"text-align: right;\">\n",
       "      <th></th>\n",
       "      <th>formattedAddress</th>\n",
       "      <th>city</th>\n",
       "      <th>zipCode</th>\n",
       "      <th>county</th>\n",
       "      <th>latitude</th>\n",
       "      <th>longitude</th>\n",
       "      <th>propertyType</th>\n",
       "      <th>bedrooms</th>\n",
       "      <th>bathrooms</th>\n",
       "      <th>squareFootage</th>\n",
       "      <th>lotSize</th>\n",
       "      <th>yearBuilt</th>\n",
       "      <th>lastSaleDate</th>\n",
       "      <th>lastSalePrice</th>\n",
       "      <th>propertyTaxes</th>\n",
       "      <th>year_month</th>\n",
       "      <th>m_rate</th>\n",
       "      <th>cooling_present</th>\n",
       "      <th>fireplace_present</th>\n",
       "      <th>garage_present</th>\n",
       "      <th>heating_present</th>\n",
       "      <th>pool_present</th>\n",
       "      <th>floorCount</th>\n",
       "      <th>garageSpaces</th>\n",
       "    </tr>\n",
       "  </thead>\n",
       "  <tbody>\n",
       "    <tr>\n",
       "      <th>0</th>\n",
       "      <td>2825 Palm Beach Blvd, Apt 417, Fort Myers, FL ...</td>\n",
       "      <td>Fort Myers</td>\n",
       "      <td>33916</td>\n",
       "      <td>Lee</td>\n",
       "      <td>26.652413</td>\n",
       "      <td>-81.855762</td>\n",
       "      <td>Condo</td>\n",
       "      <td>2.0</td>\n",
       "      <td>2.0</td>\n",
       "      <td>1003.0</td>\n",
       "      <td>44417.0</td>\n",
       "      <td>2006.0</td>\n",
       "      <td>2024-03-15 00:00:00+00:00</td>\n",
       "      <td>315000.0</td>\n",
       "      <td>{'2019': {'year': 2019, 'total': 2548}, '2022'...</td>\n",
       "      <td>2024-03</td>\n",
       "      <td>0.0682</td>\n",
       "      <td>0</td>\n",
       "      <td>0</td>\n",
       "      <td>0</td>\n",
       "      <td>0</td>\n",
       "      <td>0</td>\n",
       "      <td>7.0</td>\n",
       "      <td>NaN</td>\n",
       "    </tr>\n",
       "    <tr>\n",
       "      <th>1</th>\n",
       "      <td>3607 Bridgewood Dr, Jacksonville, FL 32277</td>\n",
       "      <td>Jacksonville</td>\n",
       "      <td>32277</td>\n",
       "      <td>Duval</td>\n",
       "      <td>30.363895</td>\n",
       "      <td>-81.610043</td>\n",
       "      <td>Single Family</td>\n",
       "      <td>3.0</td>\n",
       "      <td>2.0</td>\n",
       "      <td>1921.0</td>\n",
       "      <td>4464.0</td>\n",
       "      <td>1992.0</td>\n",
       "      <td>2024-03-15 00:00:00+00:00</td>\n",
       "      <td>345000.0</td>\n",
       "      <td>{'2020': {'year': 2020, 'total': 2999}, '2021'...</td>\n",
       "      <td>2024-03</td>\n",
       "      <td>0.0682</td>\n",
       "      <td>1</td>\n",
       "      <td>0</td>\n",
       "      <td>1</td>\n",
       "      <td>1</td>\n",
       "      <td>0</td>\n",
       "      <td>2.0</td>\n",
       "      <td>2.0</td>\n",
       "    </tr>\n",
       "    <tr>\n",
       "      <th>2</th>\n",
       "      <td>2025 Se 44th St, Cape Coral, FL 33904</td>\n",
       "      <td>Cape Coral</td>\n",
       "      <td>33904</td>\n",
       "      <td>Lee</td>\n",
       "      <td>26.568926</td>\n",
       "      <td>-81.932980</td>\n",
       "      <td>Single Family</td>\n",
       "      <td>3.0</td>\n",
       "      <td>2.0</td>\n",
       "      <td>2050.0</td>\n",
       "      <td>12000.0</td>\n",
       "      <td>1967.0</td>\n",
       "      <td>2024-03-15 00:00:00+00:00</td>\n",
       "      <td>850000.0</td>\n",
       "      <td>{'2023': {'year': 2023, 'total': 10682}}</td>\n",
       "      <td>2024-03</td>\n",
       "      <td>0.0682</td>\n",
       "      <td>1</td>\n",
       "      <td>0</td>\n",
       "      <td>1</td>\n",
       "      <td>1</td>\n",
       "      <td>0</td>\n",
       "      <td>1.0</td>\n",
       "      <td>NaN</td>\n",
       "    </tr>\n",
       "    <tr>\n",
       "      <th>4</th>\n",
       "      <td>11605 Sw 253rd St, Homestead, FL 33032</td>\n",
       "      <td>Homestead</td>\n",
       "      <td>33032</td>\n",
       "      <td>Miami-Dade</td>\n",
       "      <td>25.532831</td>\n",
       "      <td>-80.379346</td>\n",
       "      <td>Single Family</td>\n",
       "      <td>3.0</td>\n",
       "      <td>2.5</td>\n",
       "      <td>1740.0</td>\n",
       "      <td>1870.0</td>\n",
       "      <td>2016.0</td>\n",
       "      <td>2024-03-15 00:00:00+00:00</td>\n",
       "      <td>445000.0</td>\n",
       "      <td>{'2022': {'year': 2022, 'total': 5737}, '2023'...</td>\n",
       "      <td>2024-03</td>\n",
       "      <td>0.0682</td>\n",
       "      <td>0</td>\n",
       "      <td>0</td>\n",
       "      <td>0</td>\n",
       "      <td>0</td>\n",
       "      <td>0</td>\n",
       "      <td>2.0</td>\n",
       "      <td>NaN</td>\n",
       "    </tr>\n",
       "    <tr>\n",
       "      <th>5</th>\n",
       "      <td>2020 Continental Ave, Apt 203, Tallahassee, FL...</td>\n",
       "      <td>Tallahassee</td>\n",
       "      <td>32304</td>\n",
       "      <td>Leon</td>\n",
       "      <td>30.455487</td>\n",
       "      <td>-84.315107</td>\n",
       "      <td>Condo</td>\n",
       "      <td>2.0</td>\n",
       "      <td>1.0</td>\n",
       "      <td>990.0</td>\n",
       "      <td>871.0</td>\n",
       "      <td>1967.0</td>\n",
       "      <td>2024-03-15 00:00:00+00:00</td>\n",
       "      <td>85000.0</td>\n",
       "      <td>{'2023': {'year': 2023, 'total': 1163}}</td>\n",
       "      <td>2024-03</td>\n",
       "      <td>0.0682</td>\n",
       "      <td>0</td>\n",
       "      <td>0</td>\n",
       "      <td>0</td>\n",
       "      <td>0</td>\n",
       "      <td>0</td>\n",
       "      <td>NaN</td>\n",
       "      <td>NaN</td>\n",
       "    </tr>\n",
       "  </tbody>\n",
       "</table>\n",
       "</div>"
      ],
      "text/plain": [
       "                                    formattedAddress          city  zipCode  \\\n",
       "0  2825 Palm Beach Blvd, Apt 417, Fort Myers, FL ...    Fort Myers    33916   \n",
       "1         3607 Bridgewood Dr, Jacksonville, FL 32277  Jacksonville    32277   \n",
       "2              2025 Se 44th St, Cape Coral, FL 33904    Cape Coral    33904   \n",
       "4             11605 Sw 253rd St, Homestead, FL 33032     Homestead    33032   \n",
       "5  2020 Continental Ave, Apt 203, Tallahassee, FL...   Tallahassee    32304   \n",
       "\n",
       "       county   latitude  longitude   propertyType  bedrooms  bathrooms  \\\n",
       "0         Lee  26.652413 -81.855762          Condo       2.0        2.0   \n",
       "1       Duval  30.363895 -81.610043  Single Family       3.0        2.0   \n",
       "2         Lee  26.568926 -81.932980  Single Family       3.0        2.0   \n",
       "4  Miami-Dade  25.532831 -80.379346  Single Family       3.0        2.5   \n",
       "5        Leon  30.455487 -84.315107          Condo       2.0        1.0   \n",
       "\n",
       "   squareFootage  lotSize  yearBuilt              lastSaleDate  lastSalePrice  \\\n",
       "0         1003.0  44417.0     2006.0 2024-03-15 00:00:00+00:00       315000.0   \n",
       "1         1921.0   4464.0     1992.0 2024-03-15 00:00:00+00:00       345000.0   \n",
       "2         2050.0  12000.0     1967.0 2024-03-15 00:00:00+00:00       850000.0   \n",
       "4         1740.0   1870.0     2016.0 2024-03-15 00:00:00+00:00       445000.0   \n",
       "5          990.0    871.0     1967.0 2024-03-15 00:00:00+00:00        85000.0   \n",
       "\n",
       "                                       propertyTaxes year_month  m_rate  \\\n",
       "0  {'2019': {'year': 2019, 'total': 2548}, '2022'...    2024-03  0.0682   \n",
       "1  {'2020': {'year': 2020, 'total': 2999}, '2021'...    2024-03  0.0682   \n",
       "2           {'2023': {'year': 2023, 'total': 10682}}    2024-03  0.0682   \n",
       "4  {'2022': {'year': 2022, 'total': 5737}, '2023'...    2024-03  0.0682   \n",
       "5            {'2023': {'year': 2023, 'total': 1163}}    2024-03  0.0682   \n",
       "\n",
       "   cooling_present  fireplace_present  garage_present  heating_present  \\\n",
       "0                0                  0               0                0   \n",
       "1                1                  0               1                1   \n",
       "2                1                  0               1                1   \n",
       "4                0                  0               0                0   \n",
       "5                0                  0               0                0   \n",
       "\n",
       "   pool_present  floorCount  garageSpaces  \n",
       "0             0         7.0           NaN  \n",
       "1             0         2.0           2.0  \n",
       "2             0         1.0           NaN  \n",
       "4             0         2.0           NaN  \n",
       "5             0         NaN           NaN  "
      ]
     },
     "execution_count": 57,
     "metadata": {},
     "output_type": "execute_result"
    }
   ],
   "source": [
    "rent_cast_data.head()"
   ]
  },
  {
   "cell_type": "code",
   "execution_count": 58,
   "metadata": {},
   "outputs": [
    {
     "data": {
      "text/plain": [
       "np.int64(33)"
      ]
     },
     "execution_count": 58,
     "metadata": {},
     "output_type": "execute_result"
    }
   ],
   "source": [
    "rent_cast_data['squareFootage'].isna().sum()\n"
   ]
  },
  {
   "cell_type": "code",
   "execution_count": 59,
   "metadata": {},
   "outputs": [],
   "source": [
    "rent_cast_data = rent_cast_data.dropna(subset=['squareFootage'])"
   ]
  },
  {
   "cell_type": "code",
   "execution_count": 60,
   "metadata": {},
   "outputs": [
    {
     "name": "stdout",
     "output_type": "stream",
     "text": [
      "count      92371.000000\n",
      "mean      387718.152169\n",
      "std       176920.511780\n",
      "min       100000.000000\n",
      "25%       255500.000000\n",
      "50%       355000.000000\n",
      "75%       490000.000000\n",
      "max      1000000.000000\n",
      "Name: lastSalePrice, dtype: float64\n"
     ]
    }
   ],
   "source": [
    "# Dropping homes with a 'lastSalePrice' of under 100k\n",
    "rent_cast_data_filtered = rent_cast_data[rent_cast_data['lastSalePrice'] >= 100000]\n",
    "\n",
    "print(rent_cast_data_filtered['lastSalePrice'].describe())\n",
    "\n",
    "rent_cast_data = rent_cast_data_filtered"
   ]
  },
  {
   "cell_type": "code",
   "execution_count": 61,
   "metadata": {},
   "outputs": [
    {
     "name": "stdout",
     "output_type": "stream",
     "text": [
      "count     92335.000000\n",
      "mean     387495.527525\n",
      "std      176594.381753\n",
      "min      100000.000000\n",
      "25%      255250.000000\n",
      "50%      355000.000000\n",
      "75%      490000.000000\n",
      "max      900000.000000\n",
      "Name: lastSalePrice, dtype: float64\n"
     ]
    }
   ],
   "source": [
    "# Droping homes with 'lastSalePrice' over 900k\n",
    "rent_cast_data_filtered_price = rent_cast_data[rent_cast_data['lastSalePrice'] <= 900000]\n",
    "\n",
    "print(rent_cast_data_filtered_price['lastSalePrice'].describe())\n",
    "\n",
    "rent_cast_data = rent_cast_data_filtered_price"
   ]
  },
  {
   "cell_type": "code",
   "execution_count": 62,
   "metadata": {},
   "outputs": [
    {
     "data": {
      "text/plain": [
       "city\n",
       "Jacksonville        4696\n",
       "Orlando             3488\n",
       "Miami               3387\n",
       "Tampa               3244\n",
       "Saint Petersburg    1931\n",
       "                    ... \n",
       "South Palm Beach       1\n",
       "Hampton                1\n",
       "Anna Maria             1\n",
       "Wauchula               1\n",
       "Watersound             1\n",
       "Name: count, Length: 453, dtype: int64"
      ]
     },
     "execution_count": 62,
     "metadata": {},
     "output_type": "execute_result"
    }
   ],
   "source": [
    "rent_cast_data['city'].value_counts()\n"
   ]
  },
  {
   "cell_type": "code",
   "execution_count": 63,
   "metadata": {},
   "outputs": [
    {
     "data": {
      "text/plain": [
       "453"
      ]
     },
     "execution_count": 63,
     "metadata": {},
     "output_type": "execute_result"
    }
   ],
   "source": [
    "rent_cast_data['city'].nunique()\n"
   ]
  },
  {
   "cell_type": "code",
   "execution_count": 64,
   "metadata": {},
   "outputs": [
    {
     "name": "stdout",
     "output_type": "stream",
     "text": [
      "Total cities with 80 or fewer homes: 268\n",
      "\n",
      "Data after dropping cities with 80 or fewer homes:\n"
     ]
    }
   ],
   "source": [
    "# Getting the cities with 60 or fewer homes because i noticed cities without enough homes to build prediction on weakens the model\n",
    "city_counts = rent_cast_data['city'].value_counts()  \n",
    "\n",
    "cities_80_or_less = city_counts[city_counts <= 80]\n",
    "\n",
    "num_cities_80_or_less = len(cities_80_or_less)\n",
    "\n",
    "print(f\"Total cities with 80 or fewer homes: {num_cities_80_or_less}\")\n",
    "\n",
    "cities_to_drop = cities_80_or_less.index\n",
    "\n",
    "rent_cast_data_cleaned = rent_cast_data[~rent_cast_data['city'].isin(cities_to_drop)]\n",
    "\n",
    "print(f\"\\nData after dropping cities with 80 or fewer homes:\")"
   ]
  },
  {
   "cell_type": "code",
   "execution_count": 65,
   "metadata": {},
   "outputs": [],
   "source": [
    "rent_cast_data = rent_cast_data_cleaned"
   ]
  },
  {
   "cell_type": "code",
   "execution_count": 66,
   "metadata": {},
   "outputs": [
    {
     "data": {
      "text/plain": [
       "formattedAddress                  object\n",
       "city                              object\n",
       "zipCode                            int64\n",
       "county                            object\n",
       "latitude                         float64\n",
       "longitude                        float64\n",
       "propertyType                      object\n",
       "bedrooms                         float64\n",
       "bathrooms                        float64\n",
       "squareFootage                    float64\n",
       "lotSize                          float64\n",
       "yearBuilt                        float64\n",
       "lastSaleDate         datetime64[ns, UTC]\n",
       "lastSalePrice                    float64\n",
       "propertyTaxes                     object\n",
       "year_month                        object\n",
       "m_rate                           float64\n",
       "cooling_present                    int64\n",
       "fireplace_present                  int64\n",
       "garage_present                     int64\n",
       "heating_present                    int64\n",
       "pool_present                       int64\n",
       "floorCount                       float64\n",
       "garageSpaces                     float64\n",
       "dtype: object"
      ]
     },
     "execution_count": 66,
     "metadata": {},
     "output_type": "execute_result"
    }
   ],
   "source": [
    "rent_cast_data.dtypes"
   ]
  },
  {
   "cell_type": "code",
   "execution_count": 67,
   "metadata": {},
   "outputs": [],
   "source": [
    "rent_cast_data = rent_cast_data.dropna(subset=['squareFootage'])"
   ]
  },
  {
   "cell_type": "code",
   "execution_count": 68,
   "metadata": {},
   "outputs": [
    {
     "data": {
      "text/plain": [
       "(86773, 24)"
      ]
     },
     "execution_count": 68,
     "metadata": {},
     "output_type": "execute_result"
    }
   ],
   "source": [
    "rent_cast_data.shape"
   ]
  },
  {
   "cell_type": "code",
   "execution_count": 69,
   "metadata": {},
   "outputs": [
    {
     "name": "stdout",
     "output_type": "stream",
     "text": [
      "     propertyType  decade  lastSalePrice\n",
      "0       Apartment  1980.0  354408.333333\n",
      "1       Apartment  1990.0  305999.090909\n",
      "2       Apartment  2000.0  366500.000000\n",
      "3       Apartment  2010.0  648500.000000\n",
      "4       Apartment  2020.0  427160.000000\n",
      "5           Condo  1980.0  274100.472478\n",
      "6           Condo  1990.0  329199.300116\n",
      "7           Condo  2000.0  374064.958213\n",
      "8           Condo  2010.0  478795.591002\n",
      "9           Condo  2020.0  435140.951493\n",
      "10   Manufactured  1980.0  185306.785285\n",
      "11   Manufactured  1990.0  204051.143275\n",
      "12   Manufactured  2000.0  226791.989474\n",
      "13   Manufactured  2010.0  261036.956522\n",
      "14   Manufactured  2020.0  240211.764706\n",
      "15   Multi-Family  1980.0  373706.439850\n",
      "16   Multi-Family  1990.0  503780.620690\n",
      "17   Multi-Family  2000.0  392362.201183\n",
      "18   Multi-Family  2010.0  432250.329545\n",
      "19   Multi-Family  2020.0  450570.291971\n",
      "20  Single Family  1980.0  378752.172381\n",
      "21  Single Family  1990.0  443294.410394\n",
      "22  Single Family  2000.0  429822.541871\n",
      "23  Single Family  2010.0  486748.734129\n",
      "24  Single Family  2020.0  451845.514993\n",
      "25      Townhouse  1980.0  274936.151961\n",
      "26      Townhouse  1990.0  336575.000000\n",
      "27      Townhouse  2000.0  333125.128205\n",
      "28      Townhouse  2010.0  383506.339806\n",
      "29      Townhouse  2020.0  385484.376623\n"
     ]
    }
   ],
   "source": [
    "rent_cast_data['decade'] = (rent_cast_data['yearBuilt'] // 10) * 10\n",
    "\n",
    "# Filtering for relevant decades (1980-2020)\n",
    "rent_cast_data = rent_cast_data[rent_cast_data['decade'] >= 1980]\n",
    "\n",
    "average_prices = rent_cast_data.groupby(['propertyType', 'decade'])['lastSalePrice'].mean().reset_index()\n",
    "\n",
    "print(average_prices)"
   ]
  },
  {
   "cell_type": "code",
   "execution_count": 70,
   "metadata": {},
   "outputs": [
    {
     "data": {
      "image/png": "[encoded data removed]",
      "text/plain": [
       "<Figure size 1200x600 with 1 Axes>"
      ]
     },
     "metadata": {},
     "output_type": "display_data"
    },
    {
     "name": "stdout",
     "output_type": "stream",
     "text": [
      "     propertyType  decade  price_change_percent\n",
      "1       Apartment  1990.0            -13.659172\n",
      "2       Apartment  2000.0             19.771598\n",
      "3       Apartment  2010.0             76.944065\n",
      "4       Apartment  2020.0            -34.131072\n",
      "6           Condo  1990.0             20.101690\n",
      "7           Condo  2000.0             13.628722\n",
      "8           Condo  2010.0             27.997980\n",
      "9           Condo  2020.0             -9.117594\n",
      "11   Manufactured  1990.0             10.115311\n",
      "12   Manufactured  2000.0             11.144680\n",
      "13   Manufactured  2010.0             15.099725\n",
      "14   Manufactured  2020.0             -7.977871\n",
      "16   Multi-Family  1990.0             34.806513\n",
      "17   Multi-Family  2000.0            -22.116456\n",
      "18   Multi-Family  2010.0             10.166150\n",
      "19   Multi-Family  2020.0              4.238276\n",
      "21  Single Family  1990.0             17.040757\n",
      "22  Single Family  2000.0             -3.039034\n",
      "23  Single Family  2010.0             13.244115\n",
      "24  Single Family  2020.0             -7.170685\n",
      "26      Townhouse  1990.0             22.419332\n",
      "27      Townhouse  2000.0             -1.024993\n",
      "28      Townhouse  2010.0             15.123810\n",
      "29      Townhouse  2020.0              0.515777\n"
     ]
    }
   ],
   "source": [
    "plt.figure(figsize=(12, 6))\n",
    "sns.lineplot(data=average_prices, x='decade', y='lastSalePrice', hue='propertyType', marker='o')\n",
    "plt.title('Average Home Price by Property Type and Decade (1980 and beyond)')\n",
    "plt.xlabel('Decade')\n",
    "plt.ylabel('Average Last Sale Price')\n",
    "plt.legend(title='Property Type', bbox_to_anchor=(1.05, 1), loc='upper left')\n",
    "plt.grid(True)\n",
    "plt.tight_layout()\n",
    "plt.show()\n",
    "\n",
    "average_prices['price_change_percent'] = average_prices.groupby('propertyType')['lastSalePrice'].pct_change() * 100\n",
    "\n",
    "print(average_prices[['propertyType', 'decade', 'price_change_percent']].dropna())\n",
    "\n",
    "# Home Prices are All Over the Place:\n",
    "#Apartments: Prices shot up 76.94% from 2000-2010 but then plummeted by -34.13% from 2010-2020. This suggests big swings, maybe because of market changes or demand shifts.\n",
    "\n",
    "#Condos: Condos had solid growth early on, with +20% from 1990-2000 and +28% from 2000-2010. But from 2010-2020, prices dropped by -9.12%—likely due to a mix of market correction and changing demand (more people leaning towards single-family homes?).\n",
    "\n",
    "# -Manufactured Homes: These homes saw steady growth, with +15.1% from 2010 to 2020. However, there was a small dip between 2000 and 2010, so it's growing, but not without challenges.\n",
    "\n",
    "# -Multi-Family: Multi-family homes had a huge spike in the '90s (+34.81%) but dropped by -22.12% from 2000 to 2010. Afterward, they stabilized but didn’t skyrocket, showing steady but slower growth.\n",
    "\n",
    "# -Single-Family: Single-family homes did pretty well, with +17% from 1990-2000 and a solid +13.24% from 2010-2020. They bounced back after the 2008 crash and stayed strong during the pandemic.\n",
    "\n",
    "# -Townhouses: Townhouses had decent growth from 1990 to 2000 (+22.42%) and +15.12% from 2010-2020. They dipped slightly in 2000-2010 but stayed consistent, especially in suburban areas.\n",
    "\n"
   ]
  },
  {
   "cell_type": "code",
   "execution_count": 71,
   "metadata": {},
   "outputs": [
    {
     "name": "stdout",
     "output_type": "stream",
     "text": [
      "count     56510.000000\n",
      "mean     406087.159016\n",
      "std      170814.835719\n",
      "min      100000.000000\n",
      "25%      285000.000000\n",
      "50%      375000.000000\n",
      "75%      505000.000000\n",
      "max      900000.000000\n",
      "Name: lastSalePrice, dtype: float64\n"
     ]
    }
   ],
   "source": [
    "# Droping homes with 'lastSalePrice' over 900k\n",
    "rent_cast_data_filtered_price = rent_cast_data[rent_cast_data['lastSalePrice'] <= 900000]\n",
    "\n",
    "print(rent_cast_data_filtered_price['lastSalePrice'].describe())\n",
    "\n",
    "rent_cast_data = rent_cast_data_filtered_price"
   ]
  },
  {
   "cell_type": "code",
   "execution_count": 72,
   "metadata": {},
   "outputs": [
    {
     "name": "stdout",
     "output_type": "stream",
     "text": [
      "185\n"
     ]
    }
   ],
   "source": [
    "num_unique_cities = rent_cast_data['city'].nunique()\n",
    "\n",
    "print(num_unique_cities)"
   ]
  },
  {
   "cell_type": "code",
   "execution_count": 73,
   "metadata": {},
   "outputs": [
    {
     "data": {
      "text/plain": [
       "formattedAddress                  object\n",
       "city                              object\n",
       "zipCode                            int64\n",
       "county                            object\n",
       "latitude                         float64\n",
       "longitude                        float64\n",
       "propertyType                      object\n",
       "bedrooms                         float64\n",
       "bathrooms                        float64\n",
       "squareFootage                    float64\n",
       "lotSize                          float64\n",
       "yearBuilt                        float64\n",
       "lastSaleDate         datetime64[ns, UTC]\n",
       "lastSalePrice                    float64\n",
       "propertyTaxes                     object\n",
       "year_month                        object\n",
       "m_rate                           float64\n",
       "cooling_present                    int64\n",
       "fireplace_present                  int64\n",
       "garage_present                     int64\n",
       "heating_present                    int64\n",
       "pool_present                       int64\n",
       "floorCount                       float64\n",
       "garageSpaces                     float64\n",
       "decade                           float64\n",
       "dtype: object"
      ]
     },
     "execution_count": 73,
     "metadata": {},
     "output_type": "execute_result"
    }
   ],
   "source": [
    "rent_cast_data.dtypes"
   ]
  },
  {
   "cell_type": "code",
   "execution_count": 74,
   "metadata": {},
   "outputs": [
    {
     "name": "stdout",
     "output_type": "stream",
     "text": [
      "Fort Myers\n",
      "Jacksonville\n",
      "Homestead\n",
      "Miami\n",
      "Bonita Springs\n",
      "Merritt Island\n",
      "Palm Harbor\n",
      "Lake Worth\n",
      "Temple Terrace\n",
      "Royal Palm Beach\n",
      "Estero\n",
      "Edgewater\n",
      "Panama City\n",
      "Sunrise\n",
      "Lake Mary\n",
      "Gainesville\n",
      "Inverness\n",
      "Tampa\n",
      "Port Charlotte\n",
      "Panama City Beach\n",
      "Boynton Beach\n",
      "Tallahassee\n",
      "Ponte Vedra\n",
      "Oviedo\n",
      "Deltona\n",
      "Palm Bay\n",
      "West Palm Beach\n",
      "Boca Raton\n",
      "The Villages\n",
      "Hollywood\n",
      "Palm Coast\n",
      "Leesburg\n",
      "Davenport\n",
      "Naples\n",
      "Orange Park\n",
      "Spring Hill\n",
      "New Smyrna Beach\n",
      "Clermont\n",
      "Clearwater\n",
      "Lakeland\n",
      "Delray Beach\n",
      "Englewood\n",
      "Davie\n",
      "Hialeah\n",
      "Land O Lakes\n",
      "Wesley Chapel\n",
      "Saint Petersburg\n",
      "Kissimmee\n",
      "Sebring\n",
      "New Port Richey\n",
      "Yulee\n",
      "Sarasota\n",
      "Apollo Beach\n",
      "Pembroke Pines\n",
      "Saint Augustine\n",
      "Lake Wales\n",
      "Pensacola\n",
      "Orlando\n",
      "Ocala\n",
      "Riverview\n",
      "Valrico\n",
      "Auburndale\n",
      "Winter Springs\n",
      "Palmetto\n",
      "Jensen Beach\n",
      "Fleming Island\n",
      "Cutler Bay\n",
      "Port Richey\n",
      "Largo\n",
      "Saint Cloud\n",
      "Green Cove Springs\n",
      "Winter Haven\n",
      "Tarpon Springs\n",
      "Freeport\n",
      "Bradenton\n",
      "Melbourne\n",
      "Citrus Springs\n",
      "Eustis\n",
      "Wimauma\n",
      "Seffner\n",
      "Sebastian\n",
      "Cape Coral\n",
      "Fort Walton Beach\n",
      "Fort Pierce\n",
      "Port Saint Lucie\n",
      "Venice\n",
      "Punta Gorda\n",
      "North Port\n",
      "Jupiter\n",
      "Deland\n",
      "Casselberry\n",
      "Ocoee\n",
      "Cocoa\n",
      "Lakewood Ranch\n",
      "Lady Lake\n",
      "Doral\n",
      "Tamarac\n",
      "Zephyrhills\n",
      "Ruskin\n",
      "Altamonte Springs\n",
      "Coconut Creek\n",
      "Fernandina Beach\n",
      "Rotonda West\n",
      "Hobe Sound\n",
      "Fort Lauderdale\n",
      "Wellington\n",
      "Deerfield Beach\n",
      "Lutz\n",
      "Lehigh Acres\n",
      "Destin\n",
      "Sanford\n",
      "Plantation\n",
      "Palm Beach Gardens\n",
      "Coral Springs\n",
      "Nokomis\n",
      "Hudson\n",
      "Pompano Beach\n",
      "Dunedin\n",
      "Wilton Manors\n",
      "Vero Beach\n",
      "Lauderdale Lakes\n",
      "Loxahatchee\n",
      "Stuart\n",
      "Seminole\n",
      "Winter Garden\n",
      "Homosassa\n",
      "Titusville\n",
      "Ormond Beach\n",
      "Rockledge\n",
      "Beverly Hills\n",
      "Plant City\n",
      "Summerfield\n",
      "Longwood\n",
      "Parrish\n",
      "Pinellas Park\n",
      "Riviera Beach\n",
      "Odessa\n",
      "Miami Beach\n",
      "Jacksonville Beach\n",
      "Windermere\n",
      "Greenacres\n",
      "Port Orange\n",
      "Lauderhill\n",
      "Miramar\n",
      "Middleburg\n",
      "Tavares\n",
      "Niceville\n",
      "Weston\n",
      "Sun City Center\n",
      "Mount Dora\n",
      "Santa Rosa Beach\n",
      "North Fort Myers\n",
      "Groveland\n",
      "Dunnellon\n",
      "Haines City\n",
      "North Lauderdale\n",
      "Brandon\n",
      "Apopka\n",
      "Daytona Beach\n",
      "South Daytona\n",
      "Margate\n",
      "Bartow\n",
      "Miami Gardens\n",
      "Debary\n",
      "Crestview\n",
      "Saint Johns\n",
      "Oakland Park\n",
      "Brooksville\n",
      "Hallandale Beach\n",
      "Orange City\n",
      "Ponte Vedra Beach\n",
      "Gulfport\n",
      "Oldsmar\n",
      "Satellite Beach\n",
      "Opa Locka\n",
      "Winter Park\n",
      "Holiday\n",
      "Lithia\n",
      "Cocoa Beach\n",
      "Lake Worth Beach\n",
      "Maitland\n",
      "North Miami Beach\n",
      "Mulberry\n",
      "North Palm Beach\n",
      "North Miami\n"
     ]
    }
   ],
   "source": [
    "city_names = rent_cast_data['city'].unique()\n",
    "\n",
    "for city in city_names:\n",
    "    print(city)"
   ]
  },
  {
   "cell_type": "code",
   "execution_count": 75,
   "metadata": {},
   "outputs": [
    {
     "name": "stdout",
     "output_type": "stream",
     "text": [
      "Original shape: (56510, 25)\n",
      "Cleaned shape: (56477, 25)\n"
     ]
    }
   ],
   "source": [
    "rent_cast_data_cleaned = rent_cast_data.dropna(subset=['county'])\n",
    "\n",
    "# Verify by checking the shape of the new dataframe\n",
    "print(f\"Original shape: {rent_cast_data.shape}\")\n",
    "print(f\"Cleaned shape: {rent_cast_data_cleaned.shape}\")\n",
    "rent_cast_data = rent_cast_data_cleaned"
   ]
  },
  {
   "cell_type": "code",
   "execution_count": 76,
   "metadata": {},
   "outputs": [
    {
     "name": "stdout",
     "output_type": "stream",
     "text": [
      "Lee\n",
      "Duval\n",
      "Miami-Dade\n",
      "Brevard\n",
      "Pinellas\n",
      "Palm Beach\n",
      "Hillsborough\n",
      "Volusia\n",
      "Bay\n",
      "Broward\n",
      "Seminole\n",
      "Alachua\n",
      "Citrus\n",
      "Charlotte\n",
      "Leon\n",
      "Saint Johns\n",
      "Sumter\n",
      "Flagler\n",
      "Lake\n",
      "Osceola\n",
      "Collier\n",
      "Clay\n",
      "Hernando\n",
      "Polk\n",
      "Pasco\n",
      "Highlands\n",
      "Nassau\n",
      "Sarasota\n",
      "Escambia\n",
      "Orange\n",
      "Marion\n",
      "Manatee\n",
      "Martin\n",
      "Walton\n",
      "Indian River\n",
      "Okaloosa\n",
      "Saint Lucie\n",
      "St. Lucie\n",
      "St. Johns\n",
      "Baker\n",
      "Levy\n"
     ]
    }
   ],
   "source": [
    "county_names = rent_cast_data['county'].unique()\n",
    "\n",
    "for county in county_names:\n",
    "    print(county)"
   ]
  },
  {
   "cell_type": "code",
   "execution_count": 77,
   "metadata": {},
   "outputs": [
    {
     "name": "stdout",
     "output_type": "stream",
     "text": [
      "                               home_count\n",
      "county       city                        \n",
      "Duval        Jacksonville            2583\n",
      "Orange       Orlando                 2292\n",
      "Hillsborough Tampa                   1635\n",
      "Miami-Dade   Miami                   1618\n",
      "Marion       Ocala                   1482\n",
      "Lee          Fort Myers              1356\n",
      "Osceola      Kissimmee               1307\n",
      "Lee          Cape Coral              1243\n",
      "Collier      Naples                  1114\n",
      "Saint Lucie  Port Saint Lucie         918\n",
      "Manatee      Bradenton                872\n",
      "Polk         Davenport                813\n",
      "Hillsborough Riverview                795\n",
      "Polk         Lakeland                 785\n",
      "Palm Beach   Boca Raton               781\n",
      "             Boynton Beach            767\n",
      "Flagler      Palm Coast               723\n",
      "Saint Johns  Saint Augustine          700\n",
      "Palm Beach   West Palm Beach          661\n",
      "Brevard      Palm Bay                 651\n",
      "Miami-Dade   Homestead                648\n",
      "Sarasota     Sarasota                 618\n",
      "Charlotte    Punta Gorda              612\n",
      "Sarasota     Venice                   595\n",
      "Charlotte    Port Charlotte           590\n"
     ]
    }
   ],
   "source": [
    "# Group by both 'county' and 'city' to count the number of homes in each county-city combination\n",
    "county_city_count = rent_cast_data.groupby(['county', 'city']).agg({'propertyType': 'count'}).sort_values('propertyType', ascending=False)\n",
    "\n",
    "# Rename the column for clarity\n",
    "county_city_count = county_city_count.rename(columns={'propertyType': 'home_count'})\n",
    "\n",
    "# Get the top 25 county-city combinations with the most homes\n",
    "top_25_county_city = county_city_count.head(25)\n",
    "\n",
    "# Print the result\n",
    "print(top_25_county_city)\n"
   ]
  },
  {
   "cell_type": "code",
   "execution_count": 78,
   "metadata": {},
   "outputs": [
    {
     "name": "stdout",
     "output_type": "stream",
     "text": [
      "      county           city  home_count\n",
      "8    Brevard       Palm Bay         651\n",
      "6    Brevard      Melbourne         422\n",
      "4    Brevard          Cocoa         165\n",
      "12   Brevard     Titusville         154\n",
      "9    Brevard      Rockledge         114\n",
      "..       ...            ...         ...\n",
      "218  Volusia   Ormond Beach         222\n",
      "215  Volusia      Edgewater         139\n",
      "212  Volusia         Debary         118\n",
      "220  Volusia  South Daytona          51\n",
      "217  Volusia    Orange City          50\n",
      "\n",
      "[187 rows x 3 columns]\n"
     ]
    }
   ],
   "source": [
    "# Group by both 'county' and 'city' to count the number of homes\n",
    "county_city_count = rent_cast_data.groupby(['county', 'city']).agg({'propertyType': 'count'}).reset_index()\n",
    "\n",
    "# Rename the 'propertyType' column to 'home_count'\n",
    "county_city_count = county_city_count.rename(columns={'propertyType': 'home_count'})\n",
    "\n",
    "# Now, sum the home counts for each county\n",
    "county_total_count = county_city_count.groupby('county')['home_count'].sum().reset_index()\n",
    "\n",
    "# Sort counties by total home count and get the top 25 counties\n",
    "top_25_counties = county_total_count.sort_values('home_count', ascending=False).head(25)\n",
    "\n",
    "# Filter the city counts to only include cities in the top 25 counties\n",
    "top_25_county_city = county_city_count[county_city_count['county'].isin(top_25_counties['county'])]\n",
    "\n",
    "# Optionally, sort by home_count within each county to see which city has the most homes within that county\n",
    "top_25_county_city_sorted = top_25_county_city.sort_values(['county', 'home_count'], ascending=[True, False])\n",
    "\n",
    "# Show the top 25 city-county combinations\n",
    "print(top_25_county_city_sorted)\n"
   ]
  },
  {
   "cell_type": "code",
   "execution_count": 79,
   "metadata": {},
   "outputs": [
    {
     "data": {
      "text/plain": [
       "array(['Condo', 'Single Family', 'Multi-Family', 'Townhouse',\n",
       "       'Manufactured', 'Apartment'], dtype=object)"
      ]
     },
     "execution_count": 79,
     "metadata": {},
     "output_type": "execute_result"
    }
   ],
   "source": [
    "rent_cast_data['propertyType'].unique()\n"
   ]
  },
  {
   "cell_type": "code",
   "execution_count": 80,
   "metadata": {},
   "outputs": [
    {
     "name": "stdout",
     "output_type": "stream",
     "text": [
      "     bedrooms  bathrooms  squareFootage  floorCount  garageSpaces\n",
      "min       0.0        0.5          200.0         1.0           1.0\n",
      "max      19.0      250.0        11615.0        30.0          11.0\n"
     ]
    }
   ],
   "source": [
    "\n",
    "\n",
    "# Assuming rent_cast_data is your DataFrame\n",
    "columns_to_check = ['bedrooms', 'bathrooms', 'squareFootage', 'floorCount', 'garageSpaces']\n",
    "\n",
    "# Calculate min and max for specified columns\n",
    "min_max_values = rent_cast_data[columns_to_check].agg(['min', 'max'])\n",
    "\n",
    "print(min_max_values)\n"
   ]
  },
  {
   "cell_type": "code",
   "execution_count": 81,
   "metadata": {},
   "outputs": [
    {
     "name": "stdout",
     "output_type": "stream",
     "text": [
      "          county  property_count\n",
      "28    Palm Beach            4194\n",
      "14  Hillsborough            4121\n",
      "17           Lee            3832\n",
      "26        Orange            3351\n",
      "4        Broward            3109\n",
      "23    Miami-Dade            2994\n",
      "31          Polk            2894\n",
      "9          Duval            2705\n",
      "29         Pasco            2039\n",
      "39       Volusia            2025\n",
      "34      Sarasota            1985\n",
      "21        Marion            1940\n",
      "27       Osceola            1747\n",
      "3        Brevard            1687\n",
      "30      Pinellas            1575\n",
      "20       Manatee            1485\n",
      "5      Charlotte            1458\n",
      "16          Lake            1403\n",
      "35      Seminole            1364\n",
      "32   Saint Johns            1125\n",
      "8        Collier            1123\n",
      "33   Saint Lucie            1061\n",
      "11       Flagler             738\n",
      "7           Clay             678\n",
      "12      Hernando             662\n"
     ]
    }
   ],
   "source": [
    "import pandas as pd\n",
    "\n",
    "# Assuming rent_cast_data is your dataframe\n",
    "# Group by 'county' and count the number of properties in each county\n",
    "county_counts = rent_cast_data.groupby('county').size().reset_index(name='property_count')\n",
    "\n",
    "# Sort the counties by the number of properties in descending order and get the top 25\n",
    "top_25_counties = county_counts.sort_values(by='property_count', ascending=False).head(25)\n",
    "\n",
    "# Display the result\n",
    "print(top_25_counties)\n"
   ]
  },
  {
   "cell_type": "code",
   "execution_count": 82,
   "metadata": {},
   "outputs": [
    {
     "name": "stdout",
     "output_type": "stream",
     "text": [
      "['Fort Myers' 'Jacksonville' 'Homestead' 'Miami' 'Bonita Springs'\n",
      " 'Merritt Island' 'Palm Harbor' 'Lake Worth' 'Temple Terrace'\n",
      " 'Royal Palm Beach' 'Estero' 'Edgewater' 'Sunrise' 'Lake Mary' 'Tampa'\n",
      " 'Port Charlotte' 'Boynton Beach' 'Ponte Vedra' 'Oviedo' 'Deltona'\n",
      " 'Palm Bay' 'West Palm Beach' 'Boca Raton' 'Hollywood' 'Palm Coast'\n",
      " 'Leesburg' 'Davenport' 'Naples' 'Orange Park' 'Spring Hill'\n",
      " 'New Smyrna Beach' 'Clermont' 'Clearwater' 'Lakeland' 'Delray Beach'\n",
      " 'Englewood' 'Davie' 'Hialeah' 'Land O Lakes' 'Wesley Chapel'\n",
      " 'Saint Petersburg' 'Kissimmee' 'New Port Richey' 'Sarasota'\n",
      " 'Apollo Beach' 'Pembroke Pines' 'Saint Augustine' 'Lake Wales' 'Orlando'\n",
      " 'Ocala' 'Riverview' 'Valrico' 'Auburndale' 'Winter Springs' 'Palmetto'\n",
      " 'Fleming Island' 'Cutler Bay' 'Port Richey' 'Largo' 'Saint Cloud'\n",
      " 'Green Cove Springs' 'Winter Haven' 'Tarpon Springs' 'Bradenton'\n",
      " 'Melbourne' 'Eustis' 'Wimauma' 'Seffner' 'Cape Coral' 'Fort Pierce'\n",
      " 'Port Saint Lucie' 'Venice' 'Punta Gorda' 'North Port' 'Jupiter' 'Deland'\n",
      " 'Casselberry' 'Ocoee' 'Cocoa' 'Lakewood Ranch' 'Lady Lake' 'Doral'\n",
      " 'Tamarac' 'Zephyrhills' 'Ruskin' 'Altamonte Springs' 'Coconut Creek'\n",
      " 'Rotonda West' 'Fort Lauderdale' 'Wellington' 'Deerfield Beach' 'Lutz'\n",
      " 'Lehigh Acres' 'Sanford' 'Plantation' 'Palm Beach Gardens'\n",
      " 'Coral Springs' 'Nokomis' 'Hudson' 'Pompano Beach' 'Dunedin'\n",
      " 'Wilton Manors' 'Lauderdale Lakes' 'Loxahatchee' 'Seminole'\n",
      " 'Winter Garden' 'The Villages' 'Titusville' 'Ormond Beach' 'Rockledge'\n",
      " 'Plant City' 'Summerfield' 'Longwood' 'Parrish' 'Pinellas Park'\n",
      " 'Riviera Beach' 'Odessa' 'Miami Beach' 'Jacksonville Beach' 'Windermere'\n",
      " 'Greenacres' 'Port Orange' 'Lauderhill' 'Miramar' 'Middleburg' 'Tavares'\n",
      " 'Weston' 'Sun City Center' 'Mount Dora' 'North Fort Myers' 'Groveland'\n",
      " 'Dunnellon' 'Haines City' 'North Lauderdale' 'Brandon' 'Apopka'\n",
      " 'Daytona Beach' 'South Daytona' 'Margate' 'Bartow' 'Miami Gardens'\n",
      " 'Debary' 'Saint Johns' 'Oakland Park' 'Brooksville' 'Hallandale Beach'\n",
      " 'Orange City' 'Ponte Vedra Beach' 'Gulfport' 'Oldsmar' 'Satellite Beach'\n",
      " 'Opa Locka' 'Winter Park' 'Holiday' 'Lithia' 'Sebastian' 'Cocoa Beach'\n",
      " 'Lake Worth Beach' 'Maitland' 'North Miami Beach' 'Mulberry'\n",
      " 'North Palm Beach' 'Jensen Beach' 'North Miami']\n"
     ]
    }
   ],
   "source": [
    "# List of the top 25 counties (from the output you provided)\n",
    "top_25_counties_list = [\n",
    "    'Palm Beach', 'Hillsborough', 'Lee', 'Orange', 'Broward', 'Miami-Dade', \n",
    "    'Polk', 'Duval', 'Pasco', 'Volusia', 'Sarasota', 'Marion', 'Osceola', \n",
    "    'Brevard', 'Pinellas', 'Manatee', 'Charlotte', 'Lake', 'Seminole', \n",
    "    'Saint Johns', 'Collier', 'Saint Lucie', 'Flagler', 'Clay', 'Hernando'\n",
    "]\n",
    "\n",
    "# Filter the dataframe for these counties\n",
    "filtered_data = rent_cast_data[rent_cast_data['county'].isin(top_25_counties_list)]\n",
    "\n",
    "# Get the unique cities from the filtered data\n",
    "unique_cities = filtered_data['city'].unique()\n",
    "\n",
    "# Display the unique cities\n",
    "print(unique_cities)\n"
   ]
  },
  {
   "cell_type": "code",
   "execution_count": 83,
   "metadata": {},
   "outputs": [
    {
     "name": "stdout",
     "output_type": "stream",
     "text": [
      "[33916 32277 33032 32208 33033 33145 34135 32952 34684 33966 33463 33617\n",
      " 33411 33967 32141 33323 33125 32746 33624 32216 33948 33437 32225 33436\n",
      " 32081 32765 32725 32905 32258 33435 33487 32162 33020 32164 33496 34748\n",
      " 33896 34108 34114 33498 32073 34609 32168 32224 34714 33763 33813 32223\n",
      " 33484 33413 33019 34110 34224 33897 33314 33018 33324 33981 33467 34639\n",
      " 33409 33543 33952 33913 33637 33701 34759 33169 33187 34653 34240 33572\n",
      " 33028 33175 32080 33859 32825 34474 33578 33805 33619 33594 33823 32708\n",
      " 34221 33428 34957 33021 32003 33626 33190 34668 33771 34744 33177 34769\n",
      " 32043 33884 34689 33596 34232 34212 33810 33647 32940 32169 34209 32736\n",
      " 33912 34747 32226 33635 33351 34711 33598 34771 32137 32766 33584 32256\n",
      " 32958 34655 33904 33909 34951 34953 34109 33778 34481 34292 33982 32738\n",
      " 34482 34288 34473 34471 33477 33980 32724 33983 32707 34761 34952 32095\n",
      " 32927 33914 33990 34202 32159 33993 34293 33953 33178 33704 33711 34211\n",
      " 33196 33173 33186 33194 33013 33180 33193 33016 33172 33321 34239 32909\n",
      " 33541 33905 34208 33570 32714 33066 33947 32065 34231 33881 32092 33414\n",
      " 33442 33549 32935 33919 33971 34788 33974 32773 34243 33418 33065 32832\n",
      " 34275 33928 33991 34241 33545 33837 34669 33976 33064 34698 32084 32219\n",
      " 34476 33029 33176 33334 32904 34286 32222 33309 33709 33712 33801 33470\n",
      " 33772 33955 34787 33073 32163 34210 33067 32926 32780 32174 33614 32955\n",
      " 33710 33972 34203 33566 34134 34491 33936 34242 33950 32750 32801 32221\n",
      " 34238 33415 34112 34219 33781 33313 33024 34116 34758 34113 33063 32839\n",
      " 33143 33132 33610 33607 33404 33035 33556 33140 33579 33625 32250 33611\n",
      " 34104 33558 34119 32244 33133 33954 33025 34105 33301 34786 32837 32246\n",
      " 33433 33426 32822 34746 33616 32771 33417 33434 33774 33444 33027 33880\n",
      " 32217 34654 32127 33170 34741 34638 32828 33319 33131 32068 32778 32807\n",
      " 33126 33326 33573 33473 32757 34743 32829 32701 34285 34683 33917 34608\n",
      " 34736 34432 33130 33844 33068 33714 33511 33602 32835 33569 34667 33458\n",
      " 34715 32703 34291 34480 32953 33144 33183 34984 32086 33542 32233 32821\n",
      " 32119 34983 34472 33445 32205 32118 34120 33634 32824 33759 34652 32712\n",
      " 33544 32218 32779 33809 34986 34987 34237 32117 32128 32819 34949 33604\n",
      " 33174 34637 33973 33412 32210 33317 33331 34982 34236 33166 33567 33830\n",
      " 34223 33613 34235 33606 33056 32713 32176 34433 33446 32811 33609 32259\n",
      " 33472 32814 32804 32803 33486 32726 33407 34688 33410 32211 32720 33761\n",
      " 34431 33776 34234 33305 33811 34604 33563 34613 33009 32763 33703 34103\n",
      " 32820 32082 33908 33907 33707 33612 33179 33135 33138 33030 32257 33615\n",
      " 32907 33898 34233 33322 32204 32796 33708 33461 34685 33431 32124 33565\n",
      " 32206 34677 32937 33015 33034 33312 33401 33155 32901 32810 33060 32836\n",
      " 33054 34606 34772 32817 33139 33618 32833 34207 33406 32792 34691 32254\n",
      " 33547 32826 34610 33069 32129 32976 33308 33853 33777 33327 33764 33137\n",
      " 32931 34762 32908 33773 33702 33071 33510 33460 33315 33469 33157 33756\n",
      " 33076 34287 33559 32209 33903 33129 32827 32934 33441 33311 34479 33023\n",
      " 33055 33136 34947 32207 33762 33161 34602 34470 34289 33304 33782 33316\n",
      " 32751 33026 32132 33160 34117 32922 33760 34201 34614 33449 33031 33755\n",
      " 33165 34690 33603 33462 33812 32812 34607 33540 33715 33185 33156 32818\n",
      " 33860 32806 33629 33147 33408 33765 32234 32808 34205 34773 33182 33325\n",
      " 33483 33181 33328 33189 33770 34102 32220 33062 33605 33716 33713 34434\n",
      " 33901 33167 33815 33184 33803 34950 33705 33141 33432 32789 32805 33014\n",
      " 32114 33012 33548 34946 33405 32809 34601 34475 33403 33142 33332 33478\n",
      " 32202 33330 33150 33127 33168 33010 34945 33306 33128]\n"
     ]
    }
   ],
   "source": [
    "# List of cities from your previous output\n",
    "cities_list = [\n",
    "    'Fort Myers', 'Jacksonville', 'Homestead', 'Miami', 'Bonita Springs',\n",
    "    'Merritt Island', 'Palm Harbor', 'Lake Worth', 'Temple Terrace',\n",
    "    'Royal Palm Beach', 'Estero', 'Edgewater', 'Sunrise', 'Lake Mary', 'Tampa',\n",
    "    'Port Charlotte', 'Boynton Beach', 'Ponte Vedra', 'Oviedo', 'Deltona',\n",
    "    'Palm Bay', 'West Palm Beach', 'Boca Raton', 'Hollywood', 'Palm Coast',\n",
    "    'Leesburg', 'Davenport', 'Naples', 'Orange Park', 'Spring Hill',\n",
    "    'New Smyrna Beach', 'Clermont', 'Clearwater', 'Lakeland', 'Delray Beach',\n",
    "    'Englewood', 'Davie', 'Hialeah', 'Land O Lakes', 'Wesley Chapel',\n",
    "    'Saint Petersburg', 'Kissimmee', 'New Port Richey', 'Sarasota',\n",
    "    'Apollo Beach', 'Pembroke Pines', 'Saint Augustine', 'Lake Wales', 'Orlando',\n",
    "    'Ocala', 'Riverview', 'Valrico', 'Auburndale', 'Winter Springs', 'Palmetto',\n",
    "    'Fleming Island', 'Cutler Bay', 'Port Richey', 'Largo', 'Saint Cloud',\n",
    "    'Green Cove Springs', 'Winter Haven', 'Tarpon Springs', 'Bradenton',\n",
    "    'Melbourne', 'Eustis', 'Wimauma', 'Seffner', 'Cape Coral', 'Fort Pierce',\n",
    "    'Port Saint Lucie', 'Venice', 'Punta Gorda', 'North Port', 'Jupiter', 'Deland',\n",
    "    'Casselberry', 'Ocoee', 'Cocoa', 'Lakewood Ranch', 'Lady Lake', 'Doral',\n",
    "    'Tamarac', 'Zephyrhills', 'Ruskin', 'Altamonte Springs', 'Coconut Creek',\n",
    "    'Rotonda West', 'Fort Lauderdale', 'Wellington', 'Deerfield Beach', 'Lutz',\n",
    "    'Lehigh Acres', 'Sanford', 'Plantation', 'Palm Beach Gardens',\n",
    "    'Coral Springs', 'Nokomis', 'Hudson', 'Pompano Beach', 'Dunedin',\n",
    "    'Wilton Manors', 'Lauderdale Lakes', 'Loxahatchee', 'Seminole',\n",
    "    'Winter Garden', 'The Villages', 'Titusville', 'Ormond Beach', 'Rockledge',\n",
    "    'Plant City', 'Summerfield', 'Longwood', 'Parrish', 'Pinellas Park',\n",
    "    'Riviera Beach', 'Odessa', 'Miami Beach', 'Jacksonville Beach', 'Windermere',\n",
    "    'Greenacres', 'Port Orange', 'Lauderhill', 'Miramar', 'Middleburg', 'Tavares',\n",
    "    'Weston', 'Sun City Center', 'Mount Dora', 'North Fort Myers', 'Groveland',\n",
    "    'Dunnellon', 'Haines City', 'North Lauderdale', 'Brandon', 'Apopka',\n",
    "    'Daytona Beach', 'South Daytona', 'Margate', 'Bartow', 'Miami Gardens',\n",
    "    'Debary', 'Saint Johns', 'Oakland Park', 'Brooksville', 'Hallandale Beach',\n",
    "    'Orange City', 'Ponte Vedra Beach', 'Gulfport', 'Oldsmar', 'Satellite Beach',\n",
    "    'Opa Locka', 'Winter Park', 'Holiday', 'Lithia', 'Sebastian', 'Cocoa Beach',\n",
    "    'Lake Worth Beach', 'Maitland', 'North Miami Beach', 'Mulberry',\n",
    "    'North Palm Beach', 'Jensen Beach', 'North Miami'\n",
    "]\n",
    "\n",
    "# Filter the dataframe for these cities\n",
    "filtered_city_data = rent_cast_data[rent_cast_data['city'].isin(cities_list)]\n",
    "\n",
    "# Get the unique zip codes from the filtered data\n",
    "unique_zip_codes = filtered_city_data['zipCode'].unique()\n",
    "\n",
    "# Display the unique zip codes\n",
    "print(unique_zip_codes)\n"
   ]
  },
  {
   "cell_type": "code",
   "execution_count": 84,
   "metadata": {},
   "outputs": [
    {
     "name": "stdout",
     "output_type": "stream",
     "text": [
      "City list saved successfully!\n"
     ]
    }
   ],
   "source": [
    "import pickle\n",
    "\n",
    "# Your list of cities\n",
    "city_list = [\n",
    "    'Fort Myers', 'Jacksonville', 'Homestead', 'Miami', 'Bonita Springs',\n",
    "    'Merritt Island', 'Palm Harbor', 'Lake Worth', 'Temple Terrace',\n",
    "    'Royal Palm Beach', 'Estero', 'Edgewater', 'Sunrise', 'Lake Mary', 'Tampa',\n",
    "    'Port Charlotte', 'Boynton Beach', 'Ponte Vedra', 'Oviedo', 'Deltona',\n",
    "    'Palm Bay', 'West Palm Beach', 'Boca Raton', 'Hollywood', 'Palm Coast',\n",
    "    'Leesburg', 'Davenport', 'Naples', 'Orange Park', 'Spring Hill',\n",
    "    'New Smyrna Beach', 'Clermont', 'Clearwater', 'Lakeland', 'Delray Beach',\n",
    "    'Englewood', 'Davie', 'Hialeah', 'Land O Lakes', 'Wesley Chapel',\n",
    "    'Saint Petersburg', 'Kissimmee', 'New Port Richey', 'Sarasota',\n",
    "    'Apollo Beach', 'Pembroke Pines', 'Saint Augustine', 'Lake Wales', 'Orlando',\n",
    "    'Ocala', 'Riverview', 'Valrico', 'Auburndale', 'Winter Springs', 'Palmetto',\n",
    "    'Fleming Island', 'Cutler Bay', 'Port Richey', 'Largo', 'Saint Cloud',\n",
    "    'Green Cove Springs', 'Winter Haven', 'Tarpon Springs', 'Bradenton',\n",
    "    'Melbourne', 'Eustis', 'Wimauma', 'Seffner', 'Cape Coral', 'Fort Pierce',\n",
    "    'Port Saint Lucie', 'Venice', 'Punta Gorda', 'North Port', 'Jupiter', 'Deland',\n",
    "    'Casselberry', 'Ocoee', 'Cocoa', 'Lakewood Ranch', 'Lady Lake', 'Doral',\n",
    "    'Tamarac', 'Zephyrhills', 'Ruskin', 'Altamonte Springs', 'Coconut Creek',\n",
    "    'Rotonda West', 'Fort Lauderdale', 'Wellington', 'Deerfield Beach', 'Lutz',\n",
    "    'Lehigh Acres', 'Sanford', 'Plantation', 'Palm Beach Gardens',\n",
    "    'Coral Springs', 'Nokomis', 'Hudson', 'Pompano Beach', 'Dunedin',\n",
    "    'Wilton Manors', 'Lauderdale Lakes', 'Loxahatchee', 'Seminole',\n",
    "    'Winter Garden', 'The Villages', 'Titusville', 'Ormond Beach', 'Rockledge',\n",
    "    'Plant City', 'Summerfield', 'Longwood', 'Parrish', 'Pinellas Park',\n",
    "    'Riviera Beach', 'Odessa', 'Miami Beach', 'Jacksonville Beach', 'Windermere',\n",
    "    'Greenacres', 'Port Orange', 'Lauderhill', 'Miramar', 'Middleburg', 'Tavares',\n",
    "    'Weston', 'Sun City Center', 'Mount Dora', 'North Fort Myers', 'Groveland',\n",
    "    'Dunnellon', 'Haines City', 'North Lauderdale', 'Brandon', 'Apopka',\n",
    "    'Daytona Beach', 'South Daytona', 'Margate', 'Bartow', 'Miami Gardens',\n",
    "    'Debary', 'Saint Johns', 'Oakland Park', 'Brooksville', 'Hallandale Beach',\n",
    "    'Orange City', 'Ponte Vedra Beach', 'Gulfport', 'Oldsmar', 'Satellite Beach',\n",
    "    'Opa Locka', 'Winter Park', 'Holiday', 'Lithia', 'Sebastian', 'Cocoa Beach',\n",
    "    'Lake Worth Beach', 'Maitland', 'North Miami Beach', 'Mulberry',\n",
    "    'North Palm Beach', 'Jensen Beach', 'North Miami'\n",
    "]\n",
    "\n",
    "# Save the list of cities to a file using pickle\n",
    "with open('city_list.pkl', 'wb') as f:\n",
    "    pickle.dump(city_list, f)\n",
    "\n",
    "print(\"City list saved successfully!\")\n"
   ]
  },
  {
   "cell_type": "code",
   "execution_count": 85,
   "metadata": {},
   "outputs": [
    {
     "name": "stdout",
     "output_type": "stream",
     "text": [
      "Zip code list saved successfully!\n"
     ]
    }
   ],
   "source": [
    "import pickle\n",
    "\n",
    "# Your list of zip codes\n",
    "zip_code_list = [\n",
    "    33916, 32277, 33032, 32208, 33033, 33145, 34135, 32952, 34684, 33966, 33463, 33617,\n",
    "    33411, 33967, 32141, 33323, 33125, 32746, 33624, 32216, 33948, 33437, 32225, 33436,\n",
    "    32081, 32765, 32725, 32905, 32258, 33435, 33487, 32162, 33020, 32164, 33496, 34748,\n",
    "    33896, 34108, 34114, 33498, 32073, 34609, 32168, 32224, 34714, 33763, 33813, 32223,\n",
    "    33484, 33413, 33019, 34110, 34224, 33897, 33314, 33018, 33324, 33981, 33467, 34639,\n",
    "    33409, 33543, 33952, 33913, 33637, 33701, 34759, 33169, 33187, 34653, 34240, 33572,\n",
    "    33028, 33175, 32080, 33859, 32825, 34474, 33578, 33805, 33619, 33594, 33823, 32708,\n",
    "    34221, 33428, 34957, 33021, 32003, 33626, 33190, 34668, 33771, 34744, 33177, 34769,\n",
    "    32043, 33884, 34689, 33596, 34232, 34212, 33810, 33647, 32940, 32169, 34209, 32736,\n",
    "    33912, 34747, 32226, 33635, 33351, 34711, 33598, 34771, 32137, 32766, 33584, 32256,\n",
    "    32958, 34655, 33904, 33909, 34951, 34953, 34109, 33778, 34481, 34292, 33982, 32738,\n",
    "    34482, 34288, 34473, 34471, 33477, 33980, 32724, 33983, 32707, 34761, 34952, 32095,\n",
    "    32927, 33914, 33990, 34202, 32159, 33993, 34293, 33953, 33178, 33704, 33711, 34211,\n",
    "    33196, 33173, 33186, 33194, 33013, 33180, 33193, 33016, 33172, 33321, 34239, 32909,\n",
    "    33541, 33905, 34208, 33570, 32714, 33066, 33947, 32065, 34231, 33881, 32092, 33414,\n",
    "    33442, 33549, 32935, 33919, 33971, 34788, 33974, 32773, 34243, 33418, 33065, 32832,\n",
    "    34275, 33928, 33991, 34241, 33545, 33837, 34669, 33976, 33064, 34698, 32084, 32219,\n",
    "    34476, 33029, 33176, 33334, 32904, 34286, 32222, 33309, 33709, 33712, 33801, 33470,\n",
    "    33772, 33955, 34787, 33073, 32163, 34210, 33067, 32926, 32780, 32174, 33614, 32955,\n",
    "    33710, 33972, 34203, 33566, 34134, 34491, 33936, 34242, 33950, 32750, 32801, 32221,\n",
    "    34238, 33415, 34112, 34219, 33781, 33313, 33024, 34116, 34758, 34113, 33063, 32839,\n",
    "    33143, 33132, 33610, 33607, 33404, 33035, 33556, 33140, 33579, 33625, 32250, 33611,\n",
    "    34104, 33558, 34119, 32244, 33133, 33954, 33025, 34105, 33301, 34786, 32837, 32246,\n",
    "    33433, 33426, 32822, 34746, 33616, 32771, 33417, 33434, 33774, 33444, 33027, 33880,\n",
    "    32217, 34654, 32127, 33170, 34741, 34638, 32828, 33319, 33131, 32068, 32778, 32807,\n",
    "    33126, 33326, 33573, 33473, 32757, 34743, 32829, 32701, 34285, 34683, 33917, 34608,\n",
    "    34736, 34432, 33130, 33844, 33068, 33714, 33511, 33602, 32835, 33569, 34667, 33458,\n",
    "    34715, 32703, 34291, 34480, 32953, 33144, 33183, 34984, 32086, 33542, 32233, 32821,\n",
    "    32119, 34983, 34472, 33445, 32205, 32118, 34120, 33634, 32824, 33759, 34652, 32712,\n",
    "    33544, 32218, 32779, 33809, 34986, 34987, 34237, 32117, 32128, 32819, 34949, 33604,\n",
    "    33174, 34637, 33973, 33412, 32210, 33317, 33331, 34982, 34236, 33166, 33567, 33830,\n",
    "    34223, 33613, 34235, 33606, 33056, 32713, 32176, 34433, 33446, 32811, 33609, 32259,\n",
    "    33472, 32814, 32804, 32803, 33486, 32726, 33407, 34688, 33410, 32211, 32720, 33761,\n",
    "    34431, 33776, 34234, 33305, 33811, 34604, 33563, 34613, 33009, 32763, 33703, 34103,\n",
    "    32820, 32082, 33908, 33907, 33707, 33612, 33179, 33135, 33138, 33030, 32257, 33615,\n",
    "    32907, 33898, 34233, 33322, 32204, 32796, 33708, 33461, 34685, 33431, 32124, 33565,\n",
    "    32206, 34677, 32937, 33015, 33034, 33312, 33401, 33155, 32901, 32810, 33060, 32836,\n",
    "    33054, 34606, 34772, 32817, 33139, 33618, 32833, 34207, 33406, 32792, 34691, 32254,\n",
    "    33547, 32826, 34610, 33069, 32129, 32976, 33308, 33853, 33777, 33327, 33764, 33137,\n",
    "    32931, 34762, 32908, 33773, 33702, 33071, 33510, 33460, 33315, 33469, 33157, 33756,\n",
    "    33076, 34287, 33559, 32209, 33903, 33129, 32827, 32934, 33441, 33311, 34479, 33023,\n",
    "    33055, 33136, 34947, 32207, 33762, 33161, 34602, 34470, 34289, 33304, 33782, 33316,\n",
    "    32751, 33026, 32132, 33160, 34117, 32922, 33760, 34201, 34614, 33449, 33031, 33755,\n",
    "    33165, 34690, 33603, 33462, 33812, 32812, 34607, 33540, 33715, 33185, 33156, 32818,\n",
    "    33860, 32806, 33629, 33147, 33408, 33765, 32234, 32808, 34205, 34773, 33182, 33325,\n",
    "    33483, 33181, 33328, 33189, 33770, 34102, 32220, 33062, 33605, 33716, 33713, 34434,\n",
    "    33901, 33167, 33815, 33184, 33803, 34950, 33705, 33141, 33432, 32789, 32805, 33014,\n",
    "    32114, 33012, 33548, 34946, 33405, 32809, 34601, 34475, 33403, 33142, 33332, 33478,\n",
    "    32202, 33330, 33150, 33127, 33168, 33010, 34945, 33306, 33128\n",
    "]\n",
    "\n",
    "# Save the zip code list to a file using pickle\n",
    "with open('zip_code_list.pkl', 'wb') as f:\n",
    "    pickle.dump(zip_code_list, f)\n",
    "\n",
    "print(\"Zip code list saved successfully!\")\n"
   ]
  },
  {
   "cell_type": "code",
   "execution_count": 86,
   "metadata": {},
   "outputs": [
    {
     "name": "stdout",
     "output_type": "stream",
     "text": [
      "Dictionary saved successfully!\n"
     ]
    },
    {
     "data": {
      "text/html": [
       "<div>\n",
       "<style scoped>\n",
       "    .dataframe tbody tr th:only-of-type {\n",
       "        vertical-align: middle;\n",
       "    }\n",
       "\n",
       "    .dataframe tbody tr th {\n",
       "        vertical-align: top;\n",
       "    }\n",
       "\n",
       "    .dataframe thead th {\n",
       "        text-align: right;\n",
       "    }\n",
       "</style>\n",
       "<table border=\"1\" class=\"dataframe\">\n",
       "  <thead>\n",
       "    <tr style=\"text-align: right;\">\n",
       "      <th></th>\n",
       "      <th>formattedAddress</th>\n",
       "      <th>city</th>\n",
       "      <th>zipCode</th>\n",
       "      <th>county</th>\n",
       "      <th>latitude</th>\n",
       "      <th>longitude</th>\n",
       "      <th>propertyType</th>\n",
       "      <th>bedrooms</th>\n",
       "      <th>bathrooms</th>\n",
       "      <th>squareFootage</th>\n",
       "      <th>lotSize</th>\n",
       "      <th>yearBuilt</th>\n",
       "      <th>lastSaleDate</th>\n",
       "      <th>lastSalePrice</th>\n",
       "      <th>propertyTaxes</th>\n",
       "      <th>year_month</th>\n",
       "      <th>m_rate</th>\n",
       "      <th>cooling_present</th>\n",
       "      <th>fireplace_present</th>\n",
       "      <th>garage_present</th>\n",
       "      <th>heating_present</th>\n",
       "      <th>pool_present</th>\n",
       "      <th>floorCount</th>\n",
       "      <th>garageSpaces</th>\n",
       "      <th>decade</th>\n",
       "    </tr>\n",
       "  </thead>\n",
       "  <tbody>\n",
       "    <tr>\n",
       "      <th>0</th>\n",
       "      <td>2825 Palm Beach Blvd, Apt 417, Fort Myers, FL ...</td>\n",
       "      <td>Fort Myers</td>\n",
       "      <td>33916</td>\n",
       "      <td>Lee</td>\n",
       "      <td>26.652413</td>\n",
       "      <td>-81.855762</td>\n",
       "      <td>Condo</td>\n",
       "      <td>2.0</td>\n",
       "      <td>2.0</td>\n",
       "      <td>1003.0</td>\n",
       "      <td>44417.0</td>\n",
       "      <td>2006.0</td>\n",
       "      <td>2024-03-15 00:00:00+00:00</td>\n",
       "      <td>315000.0</td>\n",
       "      <td>{'2019': {'year': 2019, 'total': 2548}, '2022'...</td>\n",
       "      <td>2024-03</td>\n",
       "      <td>0.0682</td>\n",
       "      <td>0</td>\n",
       "      <td>0</td>\n",
       "      <td>0</td>\n",
       "      <td>0</td>\n",
       "      <td>0</td>\n",
       "      <td>7.0</td>\n",
       "      <td>NaN</td>\n",
       "      <td>2000.0</td>\n",
       "    </tr>\n",
       "    <tr>\n",
       "      <th>1</th>\n",
       "      <td>3607 Bridgewood Dr, Jacksonville, FL 32277</td>\n",
       "      <td>Jacksonville</td>\n",
       "      <td>32277</td>\n",
       "      <td>Duval</td>\n",
       "      <td>30.363895</td>\n",
       "      <td>-81.610043</td>\n",
       "      <td>Single Family</td>\n",
       "      <td>3.0</td>\n",
       "      <td>2.0</td>\n",
       "      <td>1921.0</td>\n",
       "      <td>4464.0</td>\n",
       "      <td>1992.0</td>\n",
       "      <td>2024-03-15 00:00:00+00:00</td>\n",
       "      <td>345000.0</td>\n",
       "      <td>{'2020': {'year': 2020, 'total': 2999}, '2021'...</td>\n",
       "      <td>2024-03</td>\n",
       "      <td>0.0682</td>\n",
       "      <td>1</td>\n",
       "      <td>0</td>\n",
       "      <td>1</td>\n",
       "      <td>1</td>\n",
       "      <td>0</td>\n",
       "      <td>2.0</td>\n",
       "      <td>2.0</td>\n",
       "      <td>1990.0</td>\n",
       "    </tr>\n",
       "    <tr>\n",
       "      <th>4</th>\n",
       "      <td>11605 Sw 253rd St, Homestead, FL 33032</td>\n",
       "      <td>Homestead</td>\n",
       "      <td>33032</td>\n",
       "      <td>Miami-Dade</td>\n",
       "      <td>25.532831</td>\n",
       "      <td>-80.379346</td>\n",
       "      <td>Single Family</td>\n",
       "      <td>3.0</td>\n",
       "      <td>2.5</td>\n",
       "      <td>1740.0</td>\n",
       "      <td>1870.0</td>\n",
       "      <td>2016.0</td>\n",
       "      <td>2024-03-15 00:00:00+00:00</td>\n",
       "      <td>445000.0</td>\n",
       "      <td>{'2022': {'year': 2022, 'total': 5737}, '2023'...</td>\n",
       "      <td>2024-03</td>\n",
       "      <td>0.0682</td>\n",
       "      <td>0</td>\n",
       "      <td>0</td>\n",
       "      <td>0</td>\n",
       "      <td>0</td>\n",
       "      <td>0</td>\n",
       "      <td>2.0</td>\n",
       "      <td>NaN</td>\n",
       "      <td>2010.0</td>\n",
       "    </tr>\n",
       "    <tr>\n",
       "      <th>10</th>\n",
       "      <td>9854 Sunset Dr, Jacksonville, FL 32208</td>\n",
       "      <td>Jacksonville</td>\n",
       "      <td>32208</td>\n",
       "      <td>Duval</td>\n",
       "      <td>30.415227</td>\n",
       "      <td>-81.705227</td>\n",
       "      <td>Single Family</td>\n",
       "      <td>3.0</td>\n",
       "      <td>2.0</td>\n",
       "      <td>1196.0</td>\n",
       "      <td>42268.0</td>\n",
       "      <td>2022.0</td>\n",
       "      <td>2024-03-15 00:00:00+00:00</td>\n",
       "      <td>236017.0</td>\n",
       "      <td>{'2022': {'year': 2022, 'total': 379}, '2023':...</td>\n",
       "      <td>2024-03</td>\n",
       "      <td>0.0682</td>\n",
       "      <td>1</td>\n",
       "      <td>0</td>\n",
       "      <td>1</td>\n",
       "      <td>1</td>\n",
       "      <td>0</td>\n",
       "      <td>1.0</td>\n",
       "      <td>NaN</td>\n",
       "      <td>2020.0</td>\n",
       "    </tr>\n",
       "    <tr>\n",
       "      <th>11</th>\n",
       "      <td>1680 Ne 35th Ave, Homestead, FL 33033</td>\n",
       "      <td>Homestead</td>\n",
       "      <td>33033</td>\n",
       "      <td>Miami-Dade</td>\n",
       "      <td>25.486028</td>\n",
       "      <td>-80.423809</td>\n",
       "      <td>Single Family</td>\n",
       "      <td>3.0</td>\n",
       "      <td>2.0</td>\n",
       "      <td>1577.0</td>\n",
       "      <td>5032.0</td>\n",
       "      <td>2006.0</td>\n",
       "      <td>2024-03-15 00:00:00+00:00</td>\n",
       "      <td>380000.0</td>\n",
       "      <td>{'2022': {'year': 2022, 'total': 7837}, '2023'...</td>\n",
       "      <td>2024-03</td>\n",
       "      <td>0.0682</td>\n",
       "      <td>0</td>\n",
       "      <td>0</td>\n",
       "      <td>1</td>\n",
       "      <td>0</td>\n",
       "      <td>1</td>\n",
       "      <td>1.0</td>\n",
       "      <td>2.0</td>\n",
       "      <td>2000.0</td>\n",
       "    </tr>\n",
       "    <tr>\n",
       "      <th>...</th>\n",
       "      <td>...</td>\n",
       "      <td>...</td>\n",
       "      <td>...</td>\n",
       "      <td>...</td>\n",
       "      <td>...</td>\n",
       "      <td>...</td>\n",
       "      <td>...</td>\n",
       "      <td>...</td>\n",
       "      <td>...</td>\n",
       "      <td>...</td>\n",
       "      <td>...</td>\n",
       "      <td>...</td>\n",
       "      <td>...</td>\n",
       "      <td>...</td>\n",
       "      <td>...</td>\n",
       "      <td>...</td>\n",
       "      <td>...</td>\n",
       "      <td>...</td>\n",
       "      <td>...</td>\n",
       "      <td>...</td>\n",
       "      <td>...</td>\n",
       "      <td>...</td>\n",
       "      <td>...</td>\n",
       "      <td>...</td>\n",
       "      <td>...</td>\n",
       "    </tr>\n",
       "    <tr>\n",
       "      <th>144994</th>\n",
       "      <td>481 Sw Baoy Ave, Port Saint Lucie, FL 34953</td>\n",
       "      <td>Port Saint Lucie</td>\n",
       "      <td>34953</td>\n",
       "      <td>St. Lucie</td>\n",
       "      <td>27.237105</td>\n",
       "      <td>-80.361808</td>\n",
       "      <td>Single Family</td>\n",
       "      <td>3.0</td>\n",
       "      <td>2.0</td>\n",
       "      <td>1106.0</td>\n",
       "      <td>10019.0</td>\n",
       "      <td>1993.0</td>\n",
       "      <td>2025-01-27 00:00:00+00:00</td>\n",
       "      <td>107300.0</td>\n",
       "      <td>{'2022': {'year': 2022, 'total': 1148}, '2023'...</td>\n",
       "      <td>2025-01</td>\n",
       "      <td>0.0668</td>\n",
       "      <td>1</td>\n",
       "      <td>0</td>\n",
       "      <td>1</td>\n",
       "      <td>1</td>\n",
       "      <td>0</td>\n",
       "      <td>1.0</td>\n",
       "      <td>NaN</td>\n",
       "      <td>1990.0</td>\n",
       "    </tr>\n",
       "    <tr>\n",
       "      <th>144995</th>\n",
       "      <td>403 Britten Dr, Kissimmee, FL 34758</td>\n",
       "      <td>Kissimmee</td>\n",
       "      <td>34758</td>\n",
       "      <td>Osceola</td>\n",
       "      <td>28.155866</td>\n",
       "      <td>-81.492941</td>\n",
       "      <td>Single Family</td>\n",
       "      <td>4.0</td>\n",
       "      <td>2.0</td>\n",
       "      <td>2081.0</td>\n",
       "      <td>8494.0</td>\n",
       "      <td>2004.0</td>\n",
       "      <td>2025-01-27 00:00:00+00:00</td>\n",
       "      <td>210000.0</td>\n",
       "      <td>{'2022': {'year': 2022, 'total': 979}, '2023':...</td>\n",
       "      <td>2025-01</td>\n",
       "      <td>0.0668</td>\n",
       "      <td>1</td>\n",
       "      <td>0</td>\n",
       "      <td>1</td>\n",
       "      <td>1</td>\n",
       "      <td>0</td>\n",
       "      <td>1.0</td>\n",
       "      <td>NaN</td>\n",
       "      <td>2000.0</td>\n",
       "    </tr>\n",
       "    <tr>\n",
       "      <th>144996</th>\n",
       "      <td>924 Hickory Ave, Inverness, FL 34452</td>\n",
       "      <td>Inverness</td>\n",
       "      <td>34452</td>\n",
       "      <td>Citrus</td>\n",
       "      <td>28.820363</td>\n",
       "      <td>-82.326348</td>\n",
       "      <td>Single Family</td>\n",
       "      <td>2.0</td>\n",
       "      <td>2.0</td>\n",
       "      <td>1211.0</td>\n",
       "      <td>14400.0</td>\n",
       "      <td>1988.0</td>\n",
       "      <td>2025-01-27 00:00:00+00:00</td>\n",
       "      <td>200000.0</td>\n",
       "      <td>{'2022': {'year': 2022, 'total': 542}, '2024':...</td>\n",
       "      <td>2025-01</td>\n",
       "      <td>0.0668</td>\n",
       "      <td>1</td>\n",
       "      <td>1</td>\n",
       "      <td>1</td>\n",
       "      <td>1</td>\n",
       "      <td>0</td>\n",
       "      <td>1.0</td>\n",
       "      <td>NaN</td>\n",
       "      <td>1980.0</td>\n",
       "    </tr>\n",
       "    <tr>\n",
       "      <th>144997</th>\n",
       "      <td>8908 Cascade Price Cir, North Fort Myers, FL 3...</td>\n",
       "      <td>North Fort Myers</td>\n",
       "      <td>33917</td>\n",
       "      <td>Lee</td>\n",
       "      <td>26.734284</td>\n",
       "      <td>-81.808256</td>\n",
       "      <td>Single Family</td>\n",
       "      <td>3.0</td>\n",
       "      <td>2.0</td>\n",
       "      <td>1671.0</td>\n",
       "      <td>7658.0</td>\n",
       "      <td>2021.0</td>\n",
       "      <td>2025-01-27 00:00:00+00:00</td>\n",
       "      <td>429000.0</td>\n",
       "      <td>{'2022': {'year': 2022, 'total': 6489}, '2023'...</td>\n",
       "      <td>2025-01</td>\n",
       "      <td>0.0668</td>\n",
       "      <td>1</td>\n",
       "      <td>0</td>\n",
       "      <td>0</td>\n",
       "      <td>1</td>\n",
       "      <td>0</td>\n",
       "      <td>1.0</td>\n",
       "      <td>NaN</td>\n",
       "      <td>2020.0</td>\n",
       "    </tr>\n",
       "    <tr>\n",
       "      <th>144999</th>\n",
       "      <td>3039 Sandpiper Ct, Clearwater, FL 33762</td>\n",
       "      <td>Clearwater</td>\n",
       "      <td>33762</td>\n",
       "      <td>Pinellas</td>\n",
       "      <td>27.905044</td>\n",
       "      <td>-82.675115</td>\n",
       "      <td>Single Family</td>\n",
       "      <td>4.0</td>\n",
       "      <td>2.0</td>\n",
       "      <td>2569.0</td>\n",
       "      <td>13939.0</td>\n",
       "      <td>1983.0</td>\n",
       "      <td>2025-01-27 00:00:00+00:00</td>\n",
       "      <td>515000.0</td>\n",
       "      <td>{'2022': {'year': 2022, 'total': 4322}}</td>\n",
       "      <td>2025-01</td>\n",
       "      <td>0.0668</td>\n",
       "      <td>1</td>\n",
       "      <td>1</td>\n",
       "      <td>1</td>\n",
       "      <td>1</td>\n",
       "      <td>0</td>\n",
       "      <td>1.0</td>\n",
       "      <td>NaN</td>\n",
       "      <td>1980.0</td>\n",
       "    </tr>\n",
       "  </tbody>\n",
       "</table>\n",
       "<p>56477 rows × 25 columns</p>\n",
       "</div>"
      ],
      "text/plain": [
       "                                         formattedAddress              city  \\\n",
       "0       2825 Palm Beach Blvd, Apt 417, Fort Myers, FL ...        Fort Myers   \n",
       "1              3607 Bridgewood Dr, Jacksonville, FL 32277      Jacksonville   \n",
       "4                  11605 Sw 253rd St, Homestead, FL 33032         Homestead   \n",
       "10                 9854 Sunset Dr, Jacksonville, FL 32208      Jacksonville   \n",
       "11                  1680 Ne 35th Ave, Homestead, FL 33033         Homestead   \n",
       "...                                                   ...               ...   \n",
       "144994        481 Sw Baoy Ave, Port Saint Lucie, FL 34953  Port Saint Lucie   \n",
       "144995                403 Britten Dr, Kissimmee, FL 34758         Kissimmee   \n",
       "144996               924 Hickory Ave, Inverness, FL 34452         Inverness   \n",
       "144997  8908 Cascade Price Cir, North Fort Myers, FL 3...  North Fort Myers   \n",
       "144999            3039 Sandpiper Ct, Clearwater, FL 33762        Clearwater   \n",
       "\n",
       "        zipCode      county   latitude  longitude   propertyType  bedrooms  \\\n",
       "0         33916         Lee  26.652413 -81.855762          Condo       2.0   \n",
       "1         32277       Duval  30.363895 -81.610043  Single Family       3.0   \n",
       "4         33032  Miami-Dade  25.532831 -80.379346  Single Family       3.0   \n",
       "10        32208       Duval  30.415227 -81.705227  Single Family       3.0   \n",
       "11        33033  Miami-Dade  25.486028 -80.423809  Single Family       3.0   \n",
       "...         ...         ...        ...        ...            ...       ...   \n",
       "144994    34953   St. Lucie  27.237105 -80.361808  Single Family       3.0   \n",
       "144995    34758     Osceola  28.155866 -81.492941  Single Family       4.0   \n",
       "144996    34452      Citrus  28.820363 -82.326348  Single Family       2.0   \n",
       "144997    33917         Lee  26.734284 -81.808256  Single Family       3.0   \n",
       "144999    33762    Pinellas  27.905044 -82.675115  Single Family       4.0   \n",
       "\n",
       "        bathrooms  squareFootage  lotSize  yearBuilt  \\\n",
       "0             2.0         1003.0  44417.0     2006.0   \n",
       "1             2.0         1921.0   4464.0     1992.0   \n",
       "4             2.5         1740.0   1870.0     2016.0   \n",
       "10            2.0         1196.0  42268.0     2022.0   \n",
       "11            2.0         1577.0   5032.0     2006.0   \n",
       "...           ...            ...      ...        ...   \n",
       "144994        2.0         1106.0  10019.0     1993.0   \n",
       "144995        2.0         2081.0   8494.0     2004.0   \n",
       "144996        2.0         1211.0  14400.0     1988.0   \n",
       "144997        2.0         1671.0   7658.0     2021.0   \n",
       "144999        2.0         2569.0  13939.0     1983.0   \n",
       "\n",
       "                    lastSaleDate  lastSalePrice  \\\n",
       "0      2024-03-15 00:00:00+00:00       315000.0   \n",
       "1      2024-03-15 00:00:00+00:00       345000.0   \n",
       "4      2024-03-15 00:00:00+00:00       445000.0   \n",
       "10     2024-03-15 00:00:00+00:00       236017.0   \n",
       "11     2024-03-15 00:00:00+00:00       380000.0   \n",
       "...                          ...            ...   \n",
       "144994 2025-01-27 00:00:00+00:00       107300.0   \n",
       "144995 2025-01-27 00:00:00+00:00       210000.0   \n",
       "144996 2025-01-27 00:00:00+00:00       200000.0   \n",
       "144997 2025-01-27 00:00:00+00:00       429000.0   \n",
       "144999 2025-01-27 00:00:00+00:00       515000.0   \n",
       "\n",
       "                                            propertyTaxes year_month  m_rate  \\\n",
       "0       {'2019': {'year': 2019, 'total': 2548}, '2022'...    2024-03  0.0682   \n",
       "1       {'2020': {'year': 2020, 'total': 2999}, '2021'...    2024-03  0.0682   \n",
       "4       {'2022': {'year': 2022, 'total': 5737}, '2023'...    2024-03  0.0682   \n",
       "10      {'2022': {'year': 2022, 'total': 379}, '2023':...    2024-03  0.0682   \n",
       "11      {'2022': {'year': 2022, 'total': 7837}, '2023'...    2024-03  0.0682   \n",
       "...                                                   ...        ...     ...   \n",
       "144994  {'2022': {'year': 2022, 'total': 1148}, '2023'...    2025-01  0.0668   \n",
       "144995  {'2022': {'year': 2022, 'total': 979}, '2023':...    2025-01  0.0668   \n",
       "144996  {'2022': {'year': 2022, 'total': 542}, '2024':...    2025-01  0.0668   \n",
       "144997  {'2022': {'year': 2022, 'total': 6489}, '2023'...    2025-01  0.0668   \n",
       "144999            {'2022': {'year': 2022, 'total': 4322}}    2025-01  0.0668   \n",
       "\n",
       "        cooling_present  fireplace_present  garage_present  heating_present  \\\n",
       "0                     0                  0               0                0   \n",
       "1                     1                  0               1                1   \n",
       "4                     0                  0               0                0   \n",
       "10                    1                  0               1                1   \n",
       "11                    0                  0               1                0   \n",
       "...                 ...                ...             ...              ...   \n",
       "144994                1                  0               1                1   \n",
       "144995                1                  0               1                1   \n",
       "144996                1                  1               1                1   \n",
       "144997                1                  0               0                1   \n",
       "144999                1                  1               1                1   \n",
       "\n",
       "        pool_present  floorCount  garageSpaces  decade  \n",
       "0                  0         7.0           NaN  2000.0  \n",
       "1                  0         2.0           2.0  1990.0  \n",
       "4                  0         2.0           NaN  2010.0  \n",
       "10                 0         1.0           NaN  2020.0  \n",
       "11                 1         1.0           2.0  2000.0  \n",
       "...              ...         ...           ...     ...  \n",
       "144994             0         1.0           NaN  1990.0  \n",
       "144995             0         1.0           NaN  2000.0  \n",
       "144996             0         1.0           NaN  1980.0  \n",
       "144997             0         1.0           NaN  2020.0  \n",
       "144999             0         1.0           NaN  1980.0  \n",
       "\n",
       "[56477 rows x 25 columns]"
      ]
     },
     "execution_count": 86,
     "metadata": {},
     "output_type": "execute_result"
    }
   ],
   "source": [
    "import pickle\n",
    "# Dictionary\n",
    "city_to_zipcodes = {\n",
    "    \"Fort Myers\": [33916, 33905, 33907, 33901],\n",
    "    \"Jacksonville\": [32277, 32208, 32256, 32210],\n",
    "    \"Homestead\": [33032, 33033, 33034, 33035],\n",
    "    \"Miami\": [33145, 33125, 33129, 33132],\n",
    "    \"Bonita Springs\": [34135, 34134],\n",
    "    \"Merritt Island\": [32952],\n",
    "    \"Palm Harbor\": [34683],\n",
    "    \"Lake Worth\": [33460, 33461],\n",
    "    \"Temple Terrace\": [33617],\n",
    "    \"Royal Palm Beach\": [33411],\n",
    "    \"Estero\": [33967],\n",
    "    \"Edgewater\": [32141],\n",
    "    \"Sunrise\": [33323],\n",
    "    \"Lake Mary\": [32746],\n",
    "    \"Tampa\": [33602, 33603, 33604, 33605],\n",
    "    \"Port Charlotte\": [33948],\n",
    "    \"Boynton Beach\": [33435, 33436, 33437, 33472],\n",
    "    \"Ponte Vedra\": [32081],\n",
    "    \"Oviedo\": [32765],\n",
    "    \"Deltona\": [32725],\n",
    "    \"Palm Bay\": [32905, 32907],\n",
    "    \"West Palm Beach\": [33401, 33405, 33407, 33409],\n",
    "    \"Boca Raton\": [33427, 33428, 33431, 33432],\n",
    "    \"Hollywood\": [33019, 33020],\n",
    "    \"Palm Coast\": [32164],\n",
    "    \"Leesburg\": [34748],\n",
    "    \"Davenport\": [33896],\n",
    "    \"Naples\": [34108, 34114],\n",
    "    \"Orange Park\": [32073],\n",
    "    \"Spring Hill\": [34609],\n",
    "    \"New Smyrna Beach\": [32168],\n",
    "    \"Clermont\": [34711],\n",
    "    \"Clearwater\": [33755],\n",
    "    \"Lakeland\": [33801, 33803],\n",
    "    \"Delray Beach\": [33444, 33445, 33446, 33448],\n",
    "    \"Englewood\": [34224],\n",
    "    \"Davie\": [33314],\n",
    "    \"Hialeah\": [33010, 33012],\n",
    "    \"Land O Lakes\": [34638],\n",
    "    \"Wesley Chapel\": [33543],\n",
    "    \"Saint Petersburg\": [33701, 33711],\n",
    "    \"Kissimmee\": [34741],\n",
    "    \"New Port Richey\": [34652],\n",
    "    \"Sarasota\": [34231],\n",
    "    \"Apollo Beach\": [33572],\n",
    "    \"Pembroke Pines\": [33028, 33024],\n",
    "    \"Saint Augustine\": [32084],\n",
    "    \"Lake Wales\": [33853],\n",
    "    \"Orlando\": [32801, 32803, 32804, 32805],\n",
    "    \"Ocala\": [34474],\n",
    "    \"Riverview\": [33578],\n",
    "    \"Valrico\": [33594],\n",
    "    \"Auburndale\": [33823],\n",
    "    \"Winter Springs\": [32708],\n",
    "    \"Palmetto\": [34221],\n",
    "    \"Fleming Island\": [32003],\n",
    "    \"Cutler Bay\": [33157],\n",
    "    \"Port Richey\": [34668],\n",
    "    \"Largo\": [33770],\n",
    "    \"Saint Cloud\": [34769],\n",
    "    \"Green Cove Springs\": [32043],\n",
    "    \"Winter Haven\": [33880],\n",
    "    \"Tarpon Springs\": [34689],\n",
    "    \"Bradenton\": [34205],\n",
    "    \"Melbourne\": [32901, 32935],\n",
    "    \"Eustis\": [32726],\n",
    "    \"Wimauma\": [33598],\n",
    "    \"Seffner\": [33584],\n",
    "    \"Cape Coral\": [33904, 33909, 33914, 33990],\n",
    "    \"Fort Pierce\": [34947],\n",
    "    \"Port Saint Lucie\": [34952],\n",
    "    \"Venice\": [34285],\n",
    "    \"Punta Gorda\": [33950],\n",
    "    \"North Port\": [34286],\n",
    "    \"Jupiter\": [33458],\n",
    "    \"Deland\": [32720],\n",
    "    \"Casselberry\": [32707],\n",
    "    \"Ocoee\": [34761],\n",
    "    \"Cocoa\": [32922],\n",
    "    \"Lakewood Ranch\": [34202],\n",
    "    \"Lady Lake\": [32159],\n",
    "    \"Doral\": [33172],\n",
    "    \"Tamarac\": [33321],\n",
    "    \"Zephyrhills\": [33542],\n",
    "    \"Ruskin\": [33570],\n",
    "    \"Altamonte Springs\": [32701],\n",
    "    \"Coconut Creek\": [33063],\n",
    "    \"Rotonda West\": [33947],\n",
    "    \"Fort Lauderdale\": [33301, 33304, 33305, 33306],\n",
    "    \"Wellington\": [33414],\n",
    "    \"Deerfield Beach\": [33441],\n",
    "    \"Lutz\": [33558],\n",
    "    \"Lehigh Acres\": [33936, 33971],\n",
    "    \"Sanford\": [32771],\n",
    "    \"Plantation\": [33322],\n",
    "    \"Palm Beach Gardens\": [33410],\n",
    "    \"Coral Springs\": [33065, 33071],\n",
    "    \"Nokomis\": [34275],\n",
    "    \"Hudson\": [34667],\n",
    "    \"Pompano Beach\": [33060],\n",
    "    \"Dunedin\": [34698],\n",
    "    \"Wilton Manors\": [33311],\n",
    "    \"Lauderdale Lakes\": [33319],\n",
    "    \"Loxahatchee\": [33470],\n",
    "    \"Seminole\": [33772],\n",
    "    \"Winter Garden\": [34787],\n",
    "    \"The Villages\": [32162],\n",
    "    \"Titusville\": [32780],\n",
    "    \"Ormond Beach\": [32174],\n",
    "    \"Rockledge\": [32955],\n",
    "    \"Plant City\": [33563],\n",
    "    \"Summerfield\": [34491],\n",
    "    \"Longwood\": [32779],\n",
    "    \"Parrish\": [34219],\n",
    "    \"Pinellas Park\": [33781],\n",
    "    \"Riviera Beach\": [33404],\n",
    "    \"Odessa\": [33556],\n",
    "    \"Miami Beach\": [33139, 33140],\n",
    "    \"Jacksonville Beach\": [32250],\n",
    "    \"Windermere\": [34786],\n",
    "    \"Greenacres\": [33413],\n",
    "    \"Port Orange\": [32129],\n",
    "    \"Lauderhill\": [33313],\n",
    "    \"Miramar\": [33023],\n",
    "    \"Middleburg\": [32068],\n",
    "    \"Tavares\": [32778],\n",
    "    \"Weston\": [33326],\n",
    "    \"Sun City Center\": [33573],\n",
    "    \"Mount Dora\": [32757],\n",
    "    \"North Fort Myers\": [33903],\n",
    "    \"Groveland\": [34736],\n",
    "    \"Dunnellon\": [34432],\n",
    "    \"Haines City\": [33844],\n",
    "    \"North Lauderdale\": [33068],\n",
    "    \"Brandon\": [33510],\n",
    "    \"Apopka\": [32703],\n",
    "    \"Daytona Beach\": [32114],\n",
    "    \"South Daytona\": [32119],\n",
    "    \"Margate\": [33063],\n",
    "    \"Miami Gardens\": [33056],\n",
    "    \"Debary\": [32713],\n",
    "    \"Saint Johns\": [32259],\n",
    "    \"Oakland Park\": [33334],\n",
    "    \"Brooksville\": [34601],\n",
    "    \"Hallandale Beach\": [33009],\n",
    "    \"Orange City\": [32763],\n",
    "    \"Ponte Vedra Beach\": [32082],\n",
    "    \"Gulfport\": [33707],\n",
    "    \"Oldsmar\": [34677],\n",
    "    \"Satellite Beach\": [32937],\n",
    "    \"Opa Locka\": [33054],\n",
    "    \"Winter Park\": [32789],\n",
    "    \"Holiday\": [34690],\n",
    "    \"Lithia\": [33547],\n",
    "    \"Sebastian\": [32958],\n",
    "    \"Cocoa Beach\": [32931],\n",
    "    \"Lake Worth Beach\": [33460],\n",
    "    \"Maitland\": [32751],\n",
    "    \"North Miami Beach\": [33160],\n",
    "    \"Mulberry\": [33860],\n",
    "    \"North Palm Beach\": [33408],\n",
    "    \"Jensen Beach\": [34957],\n",
    "    \"North Miami\": [33161]\n",
    "}\n",
    "\n",
    "# Save the dictionary to a file using pickle\n",
    "with open('city_to_zipcodes.sav', 'wb') as file:\n",
    "    pickle.dump(city_to_zipcodes, file)\n",
    "\n",
    "print(\"Dictionary saved successfully!\")\n",
    "\n",
    "rent_cast_data"
   ]
  },
  {
   "cell_type": "code",
   "execution_count": 87,
   "metadata": {},
   "outputs": [
    {
     "name": "stdout",
     "output_type": "stream",
     "text": [
      "county_to_cities.pkl has been saved successfully.\n"
     ]
    }
   ],
   "source": [
    "import pickle\n",
    "\n",
    "# The dictionary to be saved\n",
    "county_to_cities = {\n",
    "    \"Palm Beach\": ['West Palm Beach', 'Boca Raton', 'Delray Beach', 'Boynton Beach', 'Lake Worth', 'Royal Palm Beach', 'Palm Beach Gardens', 'Wellington'],\n",
    "    \"Hillsborough\": ['Tampa', 'Plant City', 'Brandon', 'Ruskin', 'Temple Terrace'],\n",
    "    \"Lee\": ['Fort Myers', 'Cape Coral', 'Bonita Springs', 'Lehigh Acres', 'Estero', 'North Fort Myers'],\n",
    "    \"Orange\": ['Orlando', 'Winter Park', 'Apopka', 'Lake Buena Vista', 'Maitland'],\n",
    "    \"Broward\": ['Fort Lauderdale', 'Hollywood', 'Pembroke Pines', 'Coral Springs', 'Miramar', 'Davie', 'Pompano Beach'],\n",
    "    \"Miami-Dade\": ['Miami', 'Miami Beach', 'Hialeah', 'Coral Gables', 'Homestead', 'Kendall', 'North Miami Beach'],\n",
    "    \"Polk\": ['Lakeland', 'Winter Haven', 'Bartow', 'Mulberry', 'Haines City', 'Auburndale'],\n",
    "    \"Duval\": ['Jacksonville', 'Jacksonville Beach', 'Atlantic Beach', 'Orange Park', 'Fernandina Beach'],\n",
    "    \"Pasco\": ['New Port Richey', 'Port Richey', 'Hudson', 'Zephyrhills', 'Dade City'],\n",
    "    \"Volusia\": ['Daytona Beach', 'DeLand', 'Deltona', 'Ormond Beach', 'Port Orange'],\n",
    "    \"Sarasota\": ['Sarasota', 'Venice', 'North Port', 'Englewood', 'Longboat Key'],\n",
    "    \"Marion\": ['Ocala', 'Belleview', 'Silver Springs', 'Dunnellon', 'Reddick'],\n",
    "    \"Osceola\": ['Kissimmee', 'St. Cloud', 'Poinciana', 'Kissimmee Valley', 'Harmony'],\n",
    "    \"Brevard\": ['Melbourne', 'Cocoa', 'Palm Bay', 'Titusville', 'Rockledge', 'Cape Canaveral'],\n",
    "    \"Pinellas\": ['Saint Petersburg', 'Clearwater', 'Dunedin', 'Largo', 'Pinellas Park'],\n",
    "    \"Manatee\": ['Bradenton', 'Palmetto', 'Lakewood Ranch', 'Ellenton', 'Myakka City'],\n",
    "    \"Charlotte\": ['Punta Gorda', 'Port Charlotte', 'Murdock', 'Pinehurst'],\n",
    "    \"Lake\": ['Leesburg', 'Clermont', 'Tavares', 'Mount Dora', 'Groveland', 'Howey-in-the-Hills'],\n",
    "    \"Seminole\": ['Sanford', 'Altamonte Springs', 'Winter Springs', 'Longwood', 'Lake Mary'],\n",
    "    \"Saint Johns\": ['Saint Augustine', 'Ponte Vedra', 'St. Johns', 'Nocatee', 'Elkton'],\n",
    "    \"Collier\": ['Naples', 'Marco Island', 'Golden Gate', 'East Naples', 'Immokalee'],\n",
    "    \"Flagler\": ['Palm Coast', 'Bunnell', 'Flagler Beach', 'Marineland'],\n",
    "    \"Clay\": ['Middleburg', 'Orange Park', 'Green Cove Springs', 'Clay Hill', 'Fleming Island'],\n",
    "    \"Hernando\": ['Spring Hill', 'Brooksville', 'Weeki Wachee', 'Shady Hills', 'Motgomery'],\n",
    "}\n",
    "\n",
    "# Save the dictionary to a file using pickle\n",
    "with open('county_to_cities.pkl', 'wb') as f:\n",
    "    pickle.dump(county_to_cities, f)\n",
    "\n",
    "print(\"county_to_cities.pkl has been saved successfully.\")\n"
   ]
  },
  {
   "cell_type": "code",
   "execution_count": 88,
   "metadata": {},
   "outputs": [],
   "source": [
    "#rent_cast_data = rent_cast_data[rent_cast_data['yearBuilt'] > 1979]\n",
    "#rent_cast_data_saved = rent_cast_data"
   ]
  },
  {
   "cell_type": "code",
   "execution_count": 89,
   "metadata": {},
   "outputs": [],
   "source": [
    "#rent_cast_data_saved.to_csv('rent_cast_data.csv', index=False)\n",
    "#rent_cast_data_saved.head()"
   ]
  },
  {
   "cell_type": "code",
   "execution_count": 90,
   "metadata": {},
   "outputs": [],
   "source": [
    "#rent_cast_data = rent_cast_data_saved"
   ]
  },
  {
   "cell_type": "code",
   "execution_count": 91,
   "metadata": {},
   "outputs": [],
   "source": [
    "rent_cast_data = rent_cast_data.dropna(subset=['lotSize'])"
   ]
  },
  {
   "cell_type": "code",
   "execution_count": 92,
   "metadata": {},
   "outputs": [
    {
     "data": {
      "text/plain": [
       "garageSpaces\n",
       "2.0     7636\n",
       "1.0     2666\n",
       "3.0      283\n",
       "4.0       58\n",
       "5.0       12\n",
       "6.0       11\n",
       "8.0        6\n",
       "7.0        2\n",
       "11.0       1\n",
       "Name: count, dtype: int64"
      ]
     },
     "execution_count": 92,
     "metadata": {},
     "output_type": "execute_result"
    }
   ],
   "source": [
    "rent_cast_data['garageSpaces'].value_counts()"
   ]
  },
  {
   "cell_type": "code",
   "execution_count": 93,
   "metadata": {},
   "outputs": [],
   "source": [
    "#categorical_columns = [\n",
    "#    'city'\n",
    "#    'county'\n",
    "#    'zipCode'\n",
    "#]"
   ]
  },
  {
   "cell_type": "code",
   "execution_count": 94,
   "metadata": {},
   "outputs": [],
   "source": [
    "#numerical_columns = [\n",
    "#  'formattedAddress', 'zipCode', 'latitude', 'longitude', 'bedrooms', 'bathrooms', 'squareFootage', 'lotSize', \n",
    "#  'yearBuilt', 'lastSalePrice', 'year_month', 'm_rate', 'cooling_present', 'fireplace_present', 'garage_present', \n",
    "#  'heating_present', 'pool_present', 'floorCount', 'garageSpaces'\n",
    "#]"
   ]
  },
  {
   "cell_type": "code",
   "execution_count": 95,
   "metadata": {},
   "outputs": [],
   "source": [
    "#rent_cast_data_filtered = rent_cast_data.copy()"
   ]
  },
  {
   "cell_type": "code",
   "execution_count": 96,
   "metadata": {},
   "outputs": [],
   "source": [
    "# Create a deep copy of the original DataFrame rent_cast_data\n",
    "#rent_cast_data_model = rent_cast_data.copy(deep=True)\n",
    "\n",
    "# Now you can modify rent_cast_data_model without affecting the original rent_cast_data\n"
   ]
  },
  {
   "cell_type": "code",
   "execution_count": 97,
   "metadata": {},
   "outputs": [
    {
     "data": {
      "text/html": [
       "<div>\n",
       "<style scoped>\n",
       "    .dataframe tbody tr th:only-of-type {\n",
       "        vertical-align: middle;\n",
       "    }\n",
       "\n",
       "    .dataframe tbody tr th {\n",
       "        vertical-align: top;\n",
       "    }\n",
       "\n",
       "    .dataframe thead th {\n",
       "        text-align: right;\n",
       "    }\n",
       "</style>\n",
       "<table border=\"1\" class=\"dataframe\">\n",
       "  <thead>\n",
       "    <tr style=\"text-align: right;\">\n",
       "      <th></th>\n",
       "      <th>formattedAddress</th>\n",
       "      <th>city</th>\n",
       "      <th>zipCode</th>\n",
       "      <th>county</th>\n",
       "      <th>latitude</th>\n",
       "      <th>longitude</th>\n",
       "      <th>propertyType</th>\n",
       "      <th>bedrooms</th>\n",
       "      <th>bathrooms</th>\n",
       "      <th>squareFootage</th>\n",
       "      <th>lotSize</th>\n",
       "      <th>yearBuilt</th>\n",
       "      <th>lastSaleDate</th>\n",
       "      <th>lastSalePrice</th>\n",
       "      <th>propertyTaxes</th>\n",
       "      <th>year_month</th>\n",
       "      <th>m_rate</th>\n",
       "      <th>cooling_present</th>\n",
       "      <th>fireplace_present</th>\n",
       "      <th>garage_present</th>\n",
       "      <th>heating_present</th>\n",
       "      <th>pool_present</th>\n",
       "      <th>floorCount</th>\n",
       "      <th>garageSpaces</th>\n",
       "      <th>decade</th>\n",
       "    </tr>\n",
       "  </thead>\n",
       "  <tbody>\n",
       "    <tr>\n",
       "      <th>0</th>\n",
       "      <td>2825 Palm Beach Blvd, Apt 417, Fort Myers, FL ...</td>\n",
       "      <td>Fort Myers</td>\n",
       "      <td>33916</td>\n",
       "      <td>Lee</td>\n",
       "      <td>26.652413</td>\n",
       "      <td>-81.855762</td>\n",
       "      <td>Condo</td>\n",
       "      <td>2.0</td>\n",
       "      <td>2.0</td>\n",
       "      <td>1003.0</td>\n",
       "      <td>44417.0</td>\n",
       "      <td>2006.0</td>\n",
       "      <td>2024-03-15 00:00:00+00:00</td>\n",
       "      <td>315000.0</td>\n",
       "      <td>{'2019': {'year': 2019, 'total': 2548}, '2022'...</td>\n",
       "      <td>2024-03</td>\n",
       "      <td>0.0682</td>\n",
       "      <td>0</td>\n",
       "      <td>0</td>\n",
       "      <td>0</td>\n",
       "      <td>0</td>\n",
       "      <td>0</td>\n",
       "      <td>7.0</td>\n",
       "      <td>NaN</td>\n",
       "      <td>2000.0</td>\n",
       "    </tr>\n",
       "    <tr>\n",
       "      <th>1</th>\n",
       "      <td>3607 Bridgewood Dr, Jacksonville, FL 32277</td>\n",
       "      <td>Jacksonville</td>\n",
       "      <td>32277</td>\n",
       "      <td>Duval</td>\n",
       "      <td>30.363895</td>\n",
       "      <td>-81.610043</td>\n",
       "      <td>Single Family</td>\n",
       "      <td>3.0</td>\n",
       "      <td>2.0</td>\n",
       "      <td>1921.0</td>\n",
       "      <td>4464.0</td>\n",
       "      <td>1992.0</td>\n",
       "      <td>2024-03-15 00:00:00+00:00</td>\n",
       "      <td>345000.0</td>\n",
       "      <td>{'2020': {'year': 2020, 'total': 2999}, '2021'...</td>\n",
       "      <td>2024-03</td>\n",
       "      <td>0.0682</td>\n",
       "      <td>1</td>\n",
       "      <td>0</td>\n",
       "      <td>1</td>\n",
       "      <td>1</td>\n",
       "      <td>0</td>\n",
       "      <td>2.0</td>\n",
       "      <td>2.0</td>\n",
       "      <td>1990.0</td>\n",
       "    </tr>\n",
       "    <tr>\n",
       "      <th>4</th>\n",
       "      <td>11605 Sw 253rd St, Homestead, FL 33032</td>\n",
       "      <td>Homestead</td>\n",
       "      <td>33032</td>\n",
       "      <td>Miami-Dade</td>\n",
       "      <td>25.532831</td>\n",
       "      <td>-80.379346</td>\n",
       "      <td>Single Family</td>\n",
       "      <td>3.0</td>\n",
       "      <td>2.5</td>\n",
       "      <td>1740.0</td>\n",
       "      <td>1870.0</td>\n",
       "      <td>2016.0</td>\n",
       "      <td>2024-03-15 00:00:00+00:00</td>\n",
       "      <td>445000.0</td>\n",
       "      <td>{'2022': {'year': 2022, 'total': 5737}, '2023'...</td>\n",
       "      <td>2024-03</td>\n",
       "      <td>0.0682</td>\n",
       "      <td>0</td>\n",
       "      <td>0</td>\n",
       "      <td>0</td>\n",
       "      <td>0</td>\n",
       "      <td>0</td>\n",
       "      <td>2.0</td>\n",
       "      <td>NaN</td>\n",
       "      <td>2010.0</td>\n",
       "    </tr>\n",
       "    <tr>\n",
       "      <th>10</th>\n",
       "      <td>9854 Sunset Dr, Jacksonville, FL 32208</td>\n",
       "      <td>Jacksonville</td>\n",
       "      <td>32208</td>\n",
       "      <td>Duval</td>\n",
       "      <td>30.415227</td>\n",
       "      <td>-81.705227</td>\n",
       "      <td>Single Family</td>\n",
       "      <td>3.0</td>\n",
       "      <td>2.0</td>\n",
       "      <td>1196.0</td>\n",
       "      <td>42268.0</td>\n",
       "      <td>2022.0</td>\n",
       "      <td>2024-03-15 00:00:00+00:00</td>\n",
       "      <td>236017.0</td>\n",
       "      <td>{'2022': {'year': 2022, 'total': 379}, '2023':...</td>\n",
       "      <td>2024-03</td>\n",
       "      <td>0.0682</td>\n",
       "      <td>1</td>\n",
       "      <td>0</td>\n",
       "      <td>1</td>\n",
       "      <td>1</td>\n",
       "      <td>0</td>\n",
       "      <td>1.0</td>\n",
       "      <td>NaN</td>\n",
       "      <td>2020.0</td>\n",
       "    </tr>\n",
       "    <tr>\n",
       "      <th>11</th>\n",
       "      <td>1680 Ne 35th Ave, Homestead, FL 33033</td>\n",
       "      <td>Homestead</td>\n",
       "      <td>33033</td>\n",
       "      <td>Miami-Dade</td>\n",
       "      <td>25.486028</td>\n",
       "      <td>-80.423809</td>\n",
       "      <td>Single Family</td>\n",
       "      <td>3.0</td>\n",
       "      <td>2.0</td>\n",
       "      <td>1577.0</td>\n",
       "      <td>5032.0</td>\n",
       "      <td>2006.0</td>\n",
       "      <td>2024-03-15 00:00:00+00:00</td>\n",
       "      <td>380000.0</td>\n",
       "      <td>{'2022': {'year': 2022, 'total': 7837}, '2023'...</td>\n",
       "      <td>2024-03</td>\n",
       "      <td>0.0682</td>\n",
       "      <td>0</td>\n",
       "      <td>0</td>\n",
       "      <td>1</td>\n",
       "      <td>0</td>\n",
       "      <td>1</td>\n",
       "      <td>1.0</td>\n",
       "      <td>2.0</td>\n",
       "      <td>2000.0</td>\n",
       "    </tr>\n",
       "  </tbody>\n",
       "</table>\n",
       "</div>"
      ],
      "text/plain": [
       "                                     formattedAddress          city  zipCode  \\\n",
       "0   2825 Palm Beach Blvd, Apt 417, Fort Myers, FL ...    Fort Myers    33916   \n",
       "1          3607 Bridgewood Dr, Jacksonville, FL 32277  Jacksonville    32277   \n",
       "4              11605 Sw 253rd St, Homestead, FL 33032     Homestead    33032   \n",
       "10             9854 Sunset Dr, Jacksonville, FL 32208  Jacksonville    32208   \n",
       "11              1680 Ne 35th Ave, Homestead, FL 33033     Homestead    33033   \n",
       "\n",
       "        county   latitude  longitude   propertyType  bedrooms  bathrooms  \\\n",
       "0          Lee  26.652413 -81.855762          Condo       2.0        2.0   \n",
       "1        Duval  30.363895 -81.610043  Single Family       3.0        2.0   \n",
       "4   Miami-Dade  25.532831 -80.379346  Single Family       3.0        2.5   \n",
       "10       Duval  30.415227 -81.705227  Single Family       3.0        2.0   \n",
       "11  Miami-Dade  25.486028 -80.423809  Single Family       3.0        2.0   \n",
       "\n",
       "    squareFootage  lotSize  yearBuilt              lastSaleDate  \\\n",
       "0          1003.0  44417.0     2006.0 2024-03-15 00:00:00+00:00   \n",
       "1          1921.0   4464.0     1992.0 2024-03-15 00:00:00+00:00   \n",
       "4          1740.0   1870.0     2016.0 2024-03-15 00:00:00+00:00   \n",
       "10         1196.0  42268.0     2022.0 2024-03-15 00:00:00+00:00   \n",
       "11         1577.0   5032.0     2006.0 2024-03-15 00:00:00+00:00   \n",
       "\n",
       "    lastSalePrice                                      propertyTaxes  \\\n",
       "0        315000.0  {'2019': {'year': 2019, 'total': 2548}, '2022'...   \n",
       "1        345000.0  {'2020': {'year': 2020, 'total': 2999}, '2021'...   \n",
       "4        445000.0  {'2022': {'year': 2022, 'total': 5737}, '2023'...   \n",
       "10       236017.0  {'2022': {'year': 2022, 'total': 379}, '2023':...   \n",
       "11       380000.0  {'2022': {'year': 2022, 'total': 7837}, '2023'...   \n",
       "\n",
       "   year_month  m_rate  cooling_present  fireplace_present  garage_present  \\\n",
       "0     2024-03  0.0682                0                  0               0   \n",
       "1     2024-03  0.0682                1                  0               1   \n",
       "4     2024-03  0.0682                0                  0               0   \n",
       "10    2024-03  0.0682                1                  0               1   \n",
       "11    2024-03  0.0682                0                  0               1   \n",
       "\n",
       "    heating_present  pool_present  floorCount  garageSpaces  decade  \n",
       "0                 0             0         7.0           NaN  2000.0  \n",
       "1                 1             0         2.0           2.0  1990.0  \n",
       "4                 0             0         2.0           NaN  2010.0  \n",
       "10                1             0         1.0           NaN  2020.0  \n",
       "11                0             1         1.0           2.0  2000.0  "
      ]
     },
     "execution_count": 97,
     "metadata": {},
     "output_type": "execute_result"
    }
   ],
   "source": [
    "rent_cast_data.head()"
   ]
  },
  {
   "cell_type": "code",
   "execution_count": 98,
   "metadata": {},
   "outputs": [],
   "source": [
    "#label_encoder = LabelEncoder()\n",
    "\n",
    "#rent_cast_data['propertyTaxes_encoded'] = label_encoder.fit_transform(rent_cast_data['propertyTaxes'])\n",
    "\n",
    "#print(rent_cast_data[['propertyTaxes', 'propertyTaxes_encoded']].head())"
   ]
  },
  {
   "cell_type": "code",
   "execution_count": 99,
   "metadata": {},
   "outputs": [
    {
     "name": "stdout",
     "output_type": "stream",
     "text": [
      "            city  city_encoded\n",
      "0     Fort Myers            42\n",
      "1   Jacksonville            61\n",
      "4      Homestead            57\n",
      "10  Jacksonville            61\n",
      "11     Homestead            57\n"
     ]
    },
    {
     "name": "stderr",
     "output_type": "stream",
     "text": [
      "/tmp/ipykernel_22880/881837094.py:2: SettingWithCopyWarning: \n",
      "A value is trying to be set on a copy of a slice from a DataFrame.\n",
      "Try using .loc[row_indexer,col_indexer] = value instead\n",
      "\n",
      "See the caveats in the documentation: https://pandas.pydata.org/pandas-docs/stable/user_guide/indexing.html#returning-a-view-versus-a-copy\n",
      "  rent_cast_data['city_encoded'] = city_encoder.fit_transform(rent_cast_data['city'])\n"
     ]
    }
   ],
   "source": [
    "city_encoder = LabelEncoder()\n",
    "rent_cast_data['city_encoded'] = city_encoder.fit_transform(rent_cast_data['city'])\n",
    "\n",
    "print(rent_cast_data[['city', 'city_encoded']].head())"
   ]
  },
  {
   "cell_type": "code",
   "execution_count": 100,
   "metadata": {},
   "outputs": [
    {
     "name": "stdout",
     "output_type": "stream",
     "text": [
      "        county  county_encoded\n",
      "0          Lee              17\n",
      "1        Duval               9\n",
      "4   Miami-Dade              23\n",
      "10       Duval               9\n",
      "11  Miami-Dade              23\n"
     ]
    },
    {
     "name": "stderr",
     "output_type": "stream",
     "text": [
      "/tmp/ipykernel_22880/3474146570.py:3: SettingWithCopyWarning: \n",
      "A value is trying to be set on a copy of a slice from a DataFrame.\n",
      "Try using .loc[row_indexer,col_indexer] = value instead\n",
      "\n",
      "See the caveats in the documentation: https://pandas.pydata.org/pandas-docs/stable/user_guide/indexing.html#returning-a-view-versus-a-copy\n",
      "  rent_cast_data['county_encoded'] = county_encoder.fit_transform(rent_cast_data['county'])\n"
     ]
    }
   ],
   "source": [
    "county_encoder = LabelEncoder()\n",
    "\n",
    "rent_cast_data['county_encoded'] = county_encoder.fit_transform(rent_cast_data['county'])\n",
    "\n",
    "print(rent_cast_data[['county', 'county_encoded']].head())"
   ]
  },
  {
   "cell_type": "code",
   "execution_count": 101,
   "metadata": {},
   "outputs": [
    {
     "name": "stdout",
     "output_type": "stream",
     "text": [
      "     propertyType  propertyType_encoded\n",
      "0           Condo                     1\n",
      "1   Single Family                     4\n",
      "4   Single Family                     4\n",
      "10  Single Family                     4\n",
      "11  Single Family                     4\n"
     ]
    },
    {
     "name": "stderr",
     "output_type": "stream",
     "text": [
      "/tmp/ipykernel_22880/915562018.py:3: SettingWithCopyWarning: \n",
      "A value is trying to be set on a copy of a slice from a DataFrame.\n",
      "Try using .loc[row_indexer,col_indexer] = value instead\n",
      "\n",
      "See the caveats in the documentation: https://pandas.pydata.org/pandas-docs/stable/user_guide/indexing.html#returning-a-view-versus-a-copy\n",
      "  rent_cast_data['propertyType_encoded'] = propertyType_encoder.fit_transform(rent_cast_data['propertyType'])\n"
     ]
    }
   ],
   "source": [
    "propertyType_encoder = LabelEncoder()\n",
    "\n",
    "rent_cast_data['propertyType_encoded'] = propertyType_encoder.fit_transform(rent_cast_data['propertyType'])\n",
    "\n",
    "print(rent_cast_data[['propertyType', 'propertyType_encoded']].head())"
   ]
  },
  {
   "cell_type": "code",
   "execution_count": 102,
   "metadata": {},
   "outputs": [],
   "source": [
    "import joblib"
   ]
  },
  {
   "cell_type": "code",
   "execution_count": 103,
   "metadata": {},
   "outputs": [
    {
     "data": {
      "text/plain": [
       "['city_encoder.pkl']"
      ]
     },
     "execution_count": 103,
     "metadata": {},
     "output_type": "execute_result"
    }
   ],
   "source": [
    "joblib.dump(city_encoder, \"city_encoder.pkl\")"
   ]
  },
  {
   "cell_type": "code",
   "execution_count": 104,
   "metadata": {},
   "outputs": [
    {
     "data": {
      "text/plain": [
       "['propertyType_encoder.pkl']"
      ]
     },
     "execution_count": 104,
     "metadata": {},
     "output_type": "execute_result"
    }
   ],
   "source": [
    "joblib.dump(propertyType_encoder, 'propertyType_encoder.pkl')"
   ]
  },
  {
   "cell_type": "code",
   "execution_count": 105,
   "metadata": {},
   "outputs": [
    {
     "data": {
      "text/plain": [
       "['county_encoder.pkl']"
      ]
     },
     "execution_count": 105,
     "metadata": {},
     "output_type": "execute_result"
    }
   ],
   "source": [
    "joblib.dump(county_encoder, 'county_encoder.pkl')"
   ]
  },
  {
   "cell_type": "code",
   "execution_count": 106,
   "metadata": {},
   "outputs": [],
   "source": [
    "# Display the mapping between each propertyType and its corresponding encoded number\n",
    "#for idx, label in enumerate(label_encoder.classes_):\n",
    "#    print(f'{label}: {idx}')\n"
   ]
  },
  {
   "cell_type": "code",
   "execution_count": 107,
   "metadata": {},
   "outputs": [],
   "source": [
    "# Drop the 'county' and 'city' columns\n",
    "rent_cast_data = rent_cast_data.drop(columns=['decade', 'propertyTaxes', 'lastSaleDate', 'year_month', 'formattedAddress']) #'decade''county', 'city', 'propertyType'"
   ]
  },
  {
   "cell_type": "code",
   "execution_count": 108,
   "metadata": {},
   "outputs": [],
   "source": [
    "##rent_cast_data.head()"
   ]
  },
  {
   "cell_type": "code",
   "execution_count": 109,
   "metadata": {},
   "outputs": [],
   "source": [
    "rent_cast_data = rent_cast_data[rent_cast_data['yearBuilt'] > 1979]"
   ]
  },
  {
   "cell_type": "code",
   "execution_count": 110,
   "metadata": {},
   "outputs": [
    {
     "data": {
      "text/plain": [
       "city                     object\n",
       "zipCode                   int64\n",
       "county                   object\n",
       "latitude                float64\n",
       "longitude               float64\n",
       "propertyType             object\n",
       "bedrooms                float64\n",
       "bathrooms               float64\n",
       "squareFootage           float64\n",
       "lotSize                 float64\n",
       "yearBuilt               float64\n",
       "lastSalePrice           float64\n",
       "m_rate                  float64\n",
       "cooling_present           int64\n",
       "fireplace_present         int64\n",
       "garage_present            int64\n",
       "heating_present           int64\n",
       "pool_present              int64\n",
       "floorCount              float64\n",
       "garageSpaces            float64\n",
       "city_encoded              int64\n",
       "county_encoded            int64\n",
       "propertyType_encoded      int64\n",
       "dtype: object"
      ]
     },
     "execution_count": 110,
     "metadata": {},
     "output_type": "execute_result"
    }
   ],
   "source": [
    "rent_cast_data.dtypes"
   ]
  },
  {
   "cell_type": "code",
   "execution_count": 111,
   "metadata": {},
   "outputs": [
    {
     "data": {
      "text/plain": [
       "garageSpaces\n",
       "2.0     7636\n",
       "1.0     2666\n",
       "3.0      283\n",
       "4.0       58\n",
       "5.0       12\n",
       "6.0       11\n",
       "8.0        6\n",
       "7.0        2\n",
       "11.0       1\n",
       "Name: count, dtype: int64"
      ]
     },
     "execution_count": 111,
     "metadata": {},
     "output_type": "execute_result"
    }
   ],
   "source": [
    "rent_cast_data['garageSpaces'].value_counts()"
   ]
  },
  {
   "cell_type": "code",
   "execution_count": 112,
   "metadata": {},
   "outputs": [
    {
     "name": "stdout",
     "output_type": "stream",
     "text": [
      "     zipCode   latitude  longitude  bedrooms  bathrooms  squareFootage  \\\n",
      "min    32003  25.433654 -87.510107       0.0        0.5          200.0   \n",
      "max    34997  30.839271 -80.033229      19.0        8.0        11615.0   \n",
      "\n",
      "     yearBuilt  \n",
      "min     1980.0  \n",
      "max     2025.0  \n"
     ]
    }
   ],
   "source": [
    "import pandas as pd\n",
    "\n",
    "# Assuming 'rent_cast_data' is your DataFrame\n",
    "columns_to_check = ['zipCode', 'latitude', 'longitude', 'bedrooms', 'bathrooms', 'squareFootage', 'yearBuilt']\n",
    "\n",
    "# Calculate the min and max values for the specified columns\n",
    "min_max_values = rent_cast_data[columns_to_check].agg(['min', 'max'])\n",
    "\n",
    "# Print the result\n",
    "print(min_max_values)\n"
   ]
  },
  {
   "cell_type": "code",
   "execution_count": 113,
   "metadata": {},
   "outputs": [
    {
     "data": {
      "text/plain": [
       "city                        0\n",
       "zipCode                     0\n",
       "county                      0\n",
       "latitude                    0\n",
       "longitude                   0\n",
       "propertyType                0\n",
       "bedrooms                    0\n",
       "bathrooms                   0\n",
       "squareFootage               0\n",
       "lotSize                     0\n",
       "yearBuilt                   0\n",
       "lastSalePrice               0\n",
       "m_rate                      0\n",
       "cooling_present             0\n",
       "fireplace_present           0\n",
       "garage_present              0\n",
       "heating_present             0\n",
       "pool_present                0\n",
       "floorCount               4870\n",
       "garageSpaces            41559\n",
       "city_encoded                0\n",
       "county_encoded              0\n",
       "propertyType_encoded        0\n",
       "dtype: int64"
      ]
     },
     "execution_count": 113,
     "metadata": {},
     "output_type": "execute_result"
    }
   ],
   "source": [
    "rent_cast_data.isnull().sum()\n"
   ]
  },
  {
   "cell_type": "code",
   "execution_count": 114,
   "metadata": {},
   "outputs": [
    {
     "data": {
      "text/plain": [
       "Index(['city', 'zipCode', 'county', 'latitude', 'longitude', 'propertyType',\n",
       "       'bedrooms', 'bathrooms', 'squareFootage', 'lotSize', 'yearBuilt',\n",
       "       'lastSalePrice', 'm_rate', 'cooling_present', 'fireplace_present',\n",
       "       'garage_present', 'heating_present', 'pool_present', 'floorCount',\n",
       "       'garageSpaces', 'city_encoded', 'county_encoded',\n",
       "       'propertyType_encoded'],\n",
       "      dtype='object')"
      ]
     },
     "execution_count": 114,
     "metadata": {},
     "output_type": "execute_result"
    }
   ],
   "source": [
    "rent_cast_data.columns"
   ]
  },
  {
   "cell_type": "code",
   "execution_count": 115,
   "metadata": {},
   "outputs": [
    {
     "data": {
      "text/plain": [
       "city                     object\n",
       "zipCode                   int64\n",
       "county                   object\n",
       "latitude                float64\n",
       "longitude               float64\n",
       "propertyType             object\n",
       "bedrooms                float64\n",
       "bathrooms               float64\n",
       "squareFootage           float64\n",
       "lotSize                 float64\n",
       "yearBuilt               float64\n",
       "lastSalePrice           float64\n",
       "m_rate                  float64\n",
       "cooling_present           int64\n",
       "fireplace_present         int64\n",
       "garage_present            int64\n",
       "heating_present           int64\n",
       "pool_present              int64\n",
       "floorCount              float64\n",
       "garageSpaces            float64\n",
       "city_encoded              int64\n",
       "county_encoded            int64\n",
       "propertyType_encoded      int64\n",
       "dtype: object"
      ]
     },
     "execution_count": 115,
     "metadata": {},
     "output_type": "execute_result"
    }
   ],
   "source": [
    "rent_cast_data.dtypes"
   ]
  },
  {
   "cell_type": "code",
   "execution_count": 116,
   "metadata": {},
   "outputs": [],
   "source": [
    "rent_cast_data.to_csv('rent_cast_data.csv', index=False)"
   ]
  },
  {
   "cell_type": "code",
   "execution_count": 119,
   "metadata": {},
   "outputs": [
    {
     "data": {
      "text/plain": [
       "['model_columns.pkl']"
      ]
     },
     "execution_count": 119,
     "metadata": {},
     "output_type": "execute_result"
    }
   ],
   "source": [
    "X = pd.get_dummies(rent_cast_data)  # your original training set\n",
    "joblib.dump(X.columns.tolist(), 'model_columns.pkl')"
   ]
  }
 ],
 "metadata": {
  "kernelspec": {
   "display_name": "Python 3",
   "language": "python",
   "name": "python3"
  },
  "language_info": {
   "codemirror_mode": {
    "name": "ipython",
    "version": 3
   },
   "file_extension": ".py",
   "mimetype": "text/x-python",
   "name": "python",
   "nbconvert_exporter": "python",
   "pygments_lexer": "ipython3",
   "version": "3.10.12"
  }
 },
 "nbformat": 4,
 "nbformat_minor": 2
}

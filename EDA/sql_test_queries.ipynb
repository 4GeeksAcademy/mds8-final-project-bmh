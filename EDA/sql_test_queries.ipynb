{
 "cells": [
  {
   "cell_type": "code",
   "execution_count": 24,
   "metadata": {},
   "outputs": [],
   "source": [
    "import sqlite3\n",
    "import pandas as pd\n",
    "\n",
    "path_to_db = '/workspaces/mds8-final-project-bmh/data/raw/rentcast_FL.db'\n",
    "\n",
    "conn = sqlite3.connect(path_to_db)\n",
    "cursor = conn.cursor()"
   ]
  },
  {
   "cell_type": "code",
   "execution_count": 25,
   "metadata": {},
   "outputs": [
    {
     "name": "stdout",
     "output_type": "stream",
     "text": [
      "('Atlantis',)\n",
      "('Belle Glade',)\n",
      "('Boca Raton',)\n",
      "('Boynton Beach',)\n",
      "('Canal Point',)\n",
      "('Cloud Lake',)\n",
      "('Delray Beach',)\n",
      "('Greenacres',)\n",
      "('Gulf Stream',)\n",
      "('Haverhill',)\n",
      "('Highland Beach',)\n",
      "('Hypoluxo',)\n",
      "('Juno Beach',)\n",
      "('Jupiter',)\n",
      "('Jupiter Inlet Colony',)\n",
      "('Lake Clarke Shores',)\n",
      "('Lake Park',)\n",
      "('Lake Worth',)\n",
      "('Lake Worth Beach',)\n",
      "('Lantana',)\n",
      "('Loxahatchee',)\n",
      "('Loxahatchee Groves',)\n",
      "('Manalapan',)\n",
      "('Mangonia Park',)\n",
      "('North Palm Beach',)\n",
      "('Ocean Ridge',)\n",
      "('Pahokee',)\n",
      "('Palm Beach',)\n",
      "('Palm Beach Gardens',)\n",
      "('Palm Beach Shores',)\n",
      "('Palm Springs',)\n",
      "('Riviera Beach',)\n",
      "('Royal Palm Beach',)\n",
      "('South Bay',)\n",
      "('South Palm Beach',)\n",
      "('Tequesta',)\n",
      "('The Acreage',)\n",
      "('Wellington',)\n",
      "('West Palm Beach',)\n",
      "('Westlake',)\n"
     ]
    }
   ],
   "source": [
    "query = \"\"\"SELECT DISTINCT city\n",
    "            FROM properties\n",
    "            WHERE county = 'Palm Beach'\n",
    "            ORDER BY city\n",
    "            \"\"\"\n",
    "\n",
    "cursor.execute(query)\n",
    "\n",
    "for row in cursor:\n",
    "    print(row)"
   ]
  },
  {
   "cell_type": "code",
   "execution_count": 26,
   "metadata": {},
   "outputs": [
    {
     "data": {
      "text/html": [
       "<div>\n",
       "<style scoped>\n",
       "    .dataframe tbody tr th:only-of-type {\n",
       "        vertical-align: middle;\n",
       "    }\n",
       "\n",
       "    .dataframe tbody tr th {\n",
       "        vertical-align: top;\n",
       "    }\n",
       "\n",
       "    .dataframe thead th {\n",
       "        text-align: right;\n",
       "    }\n",
       "</style>\n",
       "<table border=\"1\" class=\"dataframe\">\n",
       "  <thead>\n",
       "    <tr style=\"text-align: right;\">\n",
       "      <th></th>\n",
       "      <th>pool</th>\n",
       "    </tr>\n",
       "  </thead>\n",
       "  <tbody>\n",
       "    <tr>\n",
       "      <th>0</th>\n",
       "      <td>False</td>\n",
       "    </tr>\n",
       "    <tr>\n",
       "      <th>1</th>\n",
       "      <td>False</td>\n",
       "    </tr>\n",
       "    <tr>\n",
       "      <th>2</th>\n",
       "      <td>True</td>\n",
       "    </tr>\n",
       "    <tr>\n",
       "      <th>3</th>\n",
       "      <td>True</td>\n",
       "    </tr>\n",
       "    <tr>\n",
       "      <th>4</th>\n",
       "      <td>False</td>\n",
       "    </tr>\n",
       "  </tbody>\n",
       "</table>\n",
       "</div>"
      ],
      "text/plain": [
       "    pool\n",
       "0  False\n",
       "1  False\n",
       "2   True\n",
       "3   True\n",
       "4  False"
      ]
     },
     "execution_count": 26,
     "metadata": {},
     "output_type": "execute_result"
    }
   ],
   "source": [
    "query = \"\"\"SELECT pool\n",
    "            FROM properties\n",
    "            WHERE county = 'Palm Beach'\n",
    "            \"\"\"\n",
    "\n",
    "pool = pd.read_sql_query(query, conn)\n",
    "\n",
    "pool.head()"
   ]
  },
  {
   "cell_type": "code",
   "execution_count": 27,
   "metadata": {},
   "outputs": [
    {
     "name": "stdout",
     "output_type": "stream",
     "text": [
      "(869353.0,)\n"
     ]
    }
   ],
   "source": [
    "query = \"\"\"SELECT ROUND(AVG(lastSalePrice))\n",
    "            FROM properties\n",
    "            WHERE pool = True\n",
    "            \"\"\"\n",
    "\n",
    "cursor.execute(query)\n",
    "\n",
    "for value in cursor:\n",
    "    print(value)"
   ]
  },
  {
   "cell_type": "code",
   "execution_count": 28,
   "metadata": {},
   "outputs": [
    {
     "name": "stdout",
     "output_type": "stream",
     "text": [
      "(559397.0,)\n"
     ]
    }
   ],
   "source": [
    "query = \"\"\"SELECT ROUND(AVG(lastSalePrice))\n",
    "            FROM properties\n",
    "            WHERE pool = False\n",
    "            \"\"\"\n",
    "\n",
    "cursor.execute(query)\n",
    "\n",
    "for value in cursor:\n",
    "    print(value)"
   ]
  },
  {
   "cell_type": "code",
   "execution_count": 29,
   "metadata": {},
   "outputs": [],
   "source": [
    "conn.close()"
   ]
  }
 ],
 "metadata": {
  "kernelspec": {
   "display_name": "Python 3",
   "language": "python",
   "name": "python3"
  },
  "language_info": {
   "codemirror_mode": {
    "name": "ipython",
    "version": 3
   },
   "file_extension": ".py",
   "mimetype": "text/x-python",
   "name": "python",
   "nbconvert_exporter": "python",
   "pygments_lexer": "ipython3",
   "version": "3.10.12"
  }
 },
 "nbformat": 4,
 "nbformat_minor": 2
}

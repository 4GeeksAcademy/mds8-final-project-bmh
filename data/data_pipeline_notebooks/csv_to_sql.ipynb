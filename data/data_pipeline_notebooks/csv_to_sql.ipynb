{
 "cells": [
  {
   "cell_type": "code",
   "execution_count": 6,
   "metadata": {},
   "outputs": [],
   "source": [
    "import os\n",
    "import pandas as pd\n",
    "import sqlite3"
   ]
  },
  {
   "cell_type": "code",
   "execution_count": 7,
   "metadata": {},
   "outputs": [
    {
     "name": "stderr",
     "output_type": "stream",
     "text": [
      "/tmp/ipykernel_15303/1918682515.py:1: DtypeWarning: Columns (31) have mixed types. Specify dtype option on import or set low_memory=False.\n",
      "  data1 = pd.read_csv('/workspaces/mds8-final-project-bmh/data/interim/csv_files/rentcast_FL.csv')\n",
      "/tmp/ipykernel_15303/1918682515.py:2: DtypeWarning: Columns (31) have mixed types. Specify dtype option on import or set low_memory=False.\n",
      "  data2 = pd.read_csv('/workspaces/mds8-final-project-bmh/data/interim/csv_files/rentcast_FL_2.csv')\n"
     ]
    },
    {
     "name": "stdout",
     "output_type": "stream",
     "text": [
      "Shape: (145618, 35)\n",
      "Duplicates? True\n",
      "Shape without duplicates: (145617, 35)\n"
     ]
    }
   ],
   "source": [
    "data1 = pd.read_csv('/workspaces/mds8-final-project-bmh/data/interim/csv_files/rentcast_FL.csv')\n",
    "data2 = pd.read_csv('/workspaces/mds8-final-project-bmh/data/interim/csv_files/rentcast_FL_2.csv')\n",
    "data3 = pd.read_csv('/workspaces/mds8-final-project-bmh/data/interim/csv_files/rentcast_FL_3.csv')\n",
    "\n",
    "data = pd.concat([data1, data2, data3])\n",
    "\n",
    "print(f'Shape: {data.shape}')\n",
    "\n",
    "print(f'Duplicates? {data.duplicated().any()}')\n",
    "\n",
    "data = data.drop_duplicates()\n",
    "\n",
    "print(f'Shape without duplicates: {data.shape}')"
   ]
  },
  {
   "cell_type": "code",
   "execution_count": 8,
   "metadata": {},
   "outputs": [
    {
     "name": "stdout",
     "output_type": "stream",
     "text": [
      "<class 'pandas.core.frame.DataFrame'>\n",
      "Index: 145617 entries, 0 to 4999\n",
      "Data columns (total 35 columns):\n",
      " #   Column            Non-Null Count   Dtype  \n",
      "---  ------            --------------   -----  \n",
      " 0   id                145617 non-null  object \n",
      " 1   formattedAddress  145617 non-null  object \n",
      " 2   city              145617 non-null  object \n",
      " 3   state             145617 non-null  object \n",
      " 4   zipCode           145617 non-null  int64  \n",
      " 5   county            145495 non-null  object \n",
      " 6   latitude          145617 non-null  float64\n",
      " 7   longitude         145617 non-null  float64\n",
      " 8   propertyType      143304 non-null  object \n",
      " 9   bedrooms          126303 non-null  float64\n",
      " 10  bathrooms         127999 non-null  float64\n",
      " 11  squareFootage     130281 non-null  float64\n",
      " 12  lotSize           128260 non-null  float64\n",
      " 13  yearBuilt         127154 non-null  float64\n",
      " 14  subdivision       117944 non-null  object \n",
      " 15  zoning            86564 non-null   object \n",
      " 16  lastSaleDate      145617 non-null  object \n",
      " 17  lastSalePrice     145533 non-null  float64\n",
      " 18  hoa               10993 non-null   float64\n",
      " 19  architectureType  37234 non-null   object \n",
      " 20  cooling           145617 non-null  bool   \n",
      " 21  coolingType       79777 non-null   object \n",
      " 22  heating           145617 non-null  bool   \n",
      " 23  heatingType       66688 non-null   object \n",
      " 24  exteriorType      89318 non-null   object \n",
      " 25  fireplace         145617 non-null  bool   \n",
      " 26  floorCount        92934 non-null   float64\n",
      " 27  foundationType    42372 non-null   object \n",
      " 28  garage            145617 non-null  bool   \n",
      " 29  garageSpaces      18767 non-null   float64\n",
      " 30  garageType        72518 non-null   object \n",
      " 31  pool              145617 non-null  object \n",
      " 32  roomCount         10703 non-null   float64\n",
      " 33  unitCount         96266 non-null   float64\n",
      " 34  viewType          6712 non-null    object \n",
      "dtypes: bool(4), float64(13), int64(1), object(17)\n",
      "memory usage: 36.1+ MB\n"
     ]
    }
   ],
   "source": [
    "data.info()"
   ]
  },
  {
   "cell_type": "code",
   "execution_count": 9,
   "metadata": {},
   "outputs": [],
   "source": [
    "conn = sqlite3.connect('/workspaces/mds8-final-project-bmh/data/raw/rentcast_FL.db')\n",
    "\n",
    "conn.execute(\"\"\" CREATE TABLE IF NOT EXISTS properties (\n",
    "             \n",
    "id                  TEXT   PRIMARY KEY,\n",
    "formattedAddress    TEXT,\n",
    "city                TEXT,\n",
    "state               TEXT,\n",
    "zipCode             TEXT,\n",
    "county              TEXT,\n",
    "latitude            DECIMAL,\n",
    "longitude           DECIMAL,\n",
    "propertyType        TEXT,\n",
    "bedrooms            INTEGER,\n",
    "bathrooms           INTEGER,\n",
    "squareFootage       INTEGER,\n",
    "lotSize             INTEGER,\n",
    "yearBuilt           INTEGER,\n",
    "subdivision         TEXT,\n",
    "zoning              TEXT,\n",
    "lastSaleDate        DATETIME,\n",
    "lastSalePrice       INTEGER,\n",
    "hoa                 TEXT,\n",
    "architectureType    TEXT,\n",
    "cooling             TEXT,\n",
    "coolingType         TEXT,\n",
    "heating             TEXT,\n",
    "heatingType         TEXT,\n",
    "exteriorType        TEXT,\n",
    "fireplace           TEXT,\n",
    "floorCount          INTEGER,\n",
    "foundationType      TEXT,\n",
    "garage              TEXT,\n",
    "garageSpaces        INTEGER,\n",
    "garageType          TEXT,\n",
    "pool                TEXT,\n",
    "roomCount           INTEGER,\n",
    "unitCount           INTEGER,\n",
    "viewType            TEXT\n",
    ");            \n",
    "\"\"\"\n",
    ")\n",
    "\n",
    "data.to_sql('properties', conn, if_exists='replace', index=False)\n",
    "\n",
    "conn.close()"
   ]
  }
 ],
 "metadata": {
  "kernelspec": {
   "display_name": "Python 3",
   "language": "python",
   "name": "python3"
  },
  "language_info": {
   "codemirror_mode": {
    "name": "ipython",
    "version": 3
   },
   "file_extension": ".py",
   "mimetype": "text/x-python",
   "name": "python",
   "nbconvert_exporter": "python",
   "pygments_lexer": "ipython3",
   "version": "3.10.12"
  }
 },
 "nbformat": 4,
 "nbformat_minor": 2
}

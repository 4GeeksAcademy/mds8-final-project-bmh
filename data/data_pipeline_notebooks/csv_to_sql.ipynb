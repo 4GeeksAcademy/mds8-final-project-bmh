{
 "cells": [
  {
   "cell_type": "code",
   "execution_count": 6,
   "metadata": {},
   "outputs": [],
   "source": [
    "import os\n",
    "import pandas as pd\n",
    "import sqlite3"
   ]
  },
  {
   "cell_type": "code",
   "execution_count": 7,
   "metadata": {},
   "outputs": [
    {
     "data": {
      "text/plain": [
       "'/workspaces/mds8-final-project-bmh/data/data_pipeline_notebooks'"
      ]
     },
     "execution_count": 7,
     "metadata": {},
     "output_type": "execute_result"
    }
   ],
   "source": [
    "os.getcwd()"
   ]
  },
  {
   "cell_type": "code",
   "execution_count": 9,
   "metadata": {},
   "outputs": [
    {
     "name": "stderr",
     "output_type": "stream",
     "text": [
      "/tmp/ipykernel_36218/1918682515.py:1: DtypeWarning: Columns (31) have mixed types. Specify dtype option on import or set low_memory=False.\n",
      "  data1 = pd.read_csv('/workspaces/mds8-final-project-bmh/data/interim/csv_files/rentcast_FL.csv')\n",
      "/tmp/ipykernel_36218/1918682515.py:2: DtypeWarning: Columns (31) have mixed types. Specify dtype option on import or set low_memory=False.\n",
      "  data2 = pd.read_csv('/workspaces/mds8-final-project-bmh/data/interim/csv_files/rentcast_FL_2.csv')\n"
     ]
    },
    {
     "name": "stdout",
     "output_type": "stream",
     "text": [
      "Shape: (145618, 35)\n",
      "Duplicates? True\n",
      "Shape without duplicates: (145617, 35)\n"
     ]
    }
   ],
   "source": [
    "data1 = pd.read_csv('/workspaces/mds8-final-project-bmh/data/interim/csv_files/rentcast_FL.csv')\n",
    "data2 = pd.read_csv('/workspaces/mds8-final-project-bmh/data/interim/csv_files/rentcast_FL_2.csv')\n",
    "data3 = pd.read_csv('/workspaces/mds8-final-project-bmh/data/interim/csv_files/rentcast_FL_3.csv')\n",
    "\n",
    "data = pd.concat([data1, data2, data3])\n",
    "\n",
    "print(f'Shape: {data.shape}')\n",
    "\n",
    "print(f'Duplicates? {data.duplicated().any()}')\n",
    "\n",
    "data = data.drop_duplicates()\n",
    "\n",
    "print(f'Shape without duplicates: {data.shape}')"
   ]
  },
  {
   "cell_type": "code",
   "execution_count": 11,
   "metadata": {},
   "outputs": [],
   "source": [
    "conn = sqlite3.connect('/workspaces/mds8-final-project-bmh/data/raw/rentcast_FL.db')\n",
    "\n",
    "data.to_sql('properties', conn, if_exists='replace', index=False)\n",
    "\n",
    "conn.close()\n"
   ]
  }
 ],
 "metadata": {
  "kernelspec": {
   "display_name": "Python 3",
   "language": "python",
   "name": "python3"
  },
  "language_info": {
   "codemirror_mode": {
    "name": "ipython",
    "version": 3
   },
   "file_extension": ".py",
   "mimetype": "text/x-python",
   "name": "python",
   "nbconvert_exporter": "python",
   "pygments_lexer": "ipython3",
   "version": "3.10.12"
  }
 },
 "nbformat": 4,
 "nbformat_minor": 2
}

{
 "cells": [
  {
   "cell_type": "code",
   "execution_count": 1,
   "metadata": {},
   "outputs": [
    {
     "name": "stdout",
     "output_type": "stream",
     "text": [
      "Defaulting to user installation because normal site-packages is not writeable\n",
      "Requirement already satisfied: dotenv in /home/vscode/.local/lib/python3.10/site-packages (0.9.9)\n",
      "Requirement already satisfied: python-dotenv in /home/vscode/.local/lib/python3.10/site-packages (from dotenv) (1.0.1)\n",
      "\n",
      "\u001b[1m[\u001b[0m\u001b[34;49mnotice\u001b[0m\u001b[1;39;49m]\u001b[0m\u001b[39;49m A new release of pip is available: \u001b[0m\u001b[31;49m23.0.1\u001b[0m\u001b[39;49m -> \u001b[0m\u001b[32;49m25.0.1\u001b[0m\n",
      "\u001b[1m[\u001b[0m\u001b[34;49mnotice\u001b[0m\u001b[1;39;49m]\u001b[0m\u001b[39;49m To update, run: \u001b[0m\u001b[32;49mpip install --upgrade pip\u001b[0m\n",
      "Note: you may need to restart the kernel to use updated packages.\n"
     ]
    }
   ],
   "source": [
    "%pip install dotenv"
   ]
  },
  {
   "cell_type": "code",
   "execution_count": 2,
   "metadata": {},
   "outputs": [],
   "source": [
    "import os\n",
    "import pandas as pd\n",
    "import requests\n",
    "from dotenv import load_dotenv\n",
    "import time"
   ]
  },
  {
   "cell_type": "code",
   "execution_count": null,
   "metadata": {},
   "outputs": [],
   "source": [
    "# Loading API key\n",
    "\n",
    "load_dotenv()\n",
    "\n",
    "api_key = os.getenv('API_KEY')"
   ]
  },
  {
   "cell_type": "code",
   "execution_count": null,
   "metadata": {},
   "outputs": [
    {
     "name": "stdout",
     "output_type": "stream",
     "text": [
      "[{'id': '5500-Nw-2nd-Ave,-Apt-215,-Boca-Raton,-FL-33487', 'formattedAddress': '5500 Nw 2nd Ave, Apt 215, Boca Raton, FL 33487', 'addressLine1': '5500 Nw 2nd Ave', 'addressLine2': 'Apt 215', 'city': 'Boca Raton', 'state': 'FL', 'zipCode': '33487', 'county': 'Palm Beach', 'latitude': 26.39927, 'longitude': -80.083009, 'propertyType': 'Condo', 'bedrooms': 2, 'bathrooms': 2, 'squareFootage': 1200, 'yearBuilt': 1970, 'assessorID': '06-43-47-05-11-000-0215', 'legalDescription': 'BOCA TEECA CONDOMINIUM UNIT THREE PARCEL 215', 'subdivision': 'BOCA TEECA CONDOMINIUM', 'lastSaleDate': '2024-06-21T00:00:00.000Z', 'lastSalePrice': 195000, 'features': {'architectureType': 'Condo / Apartment', 'unitCount': 1}, 'taxAssessments': {'2021': {'year': 2021, 'value': 126000, 'improvements': 126000}, '2023': {'year': 2023, 'value': 190000, 'improvements': 190000}}, 'propertyTaxes': {'2022': {'year': 2022, 'total': 2797}, '2023': {'year': 2023, 'total': 3117}}, 'history': {'2024-06-21': {'event': 'Sale', 'date': '2024-06-21T00:00:00.000Z', 'price': 195000}}, 'owner': {'names': ['Horace Herson'], 'type': 'Individual', 'mailingAddress': {'id': '5500-Nw-2nd-Ave,-APT-215,-Boca-Raton,-FL-33487', 'formattedAddress': '5500 Nw 2nd Ave, APT 215, Boca Raton, FL 33487', 'addressLine1': '5500 Nw 2nd Ave', 'addressLine2': 'APT 215', 'city': 'Boca Raton', 'state': 'FL', 'zipCode': '33487'}}, 'ownerOccupied': True}, {'id': '17455-Barbara-Dr,-Fort-Myers,-FL-33967', 'formattedAddress': '17455 Barbara Dr, Fort Myers, FL 33967', 'addressLine1': '17455 Barbara Dr', 'addressLine2': None, 'city': 'Fort Myers', 'state': 'FL', 'zipCode': '33967', 'county': 'Lee', 'latitude': 26.482837, 'longitude': -81.831083, 'propertyType': 'Multi-Family', 'bedrooms': 3, 'bathrooms': 2, 'squareFootage': 986, 'lotSize': 3747, 'yearBuilt': 1983, 'assessorID': '08-46-25-16-00019.0330', 'legalDescription': 'SAN CARLOS PARK N ADDN BLK 19 PB 28 PG 16LOT 33 + PT LOT 34 S 12.55 FT', 'subdivision': 'SCP NORTH ADDITION', 'zoning': 'RM-2', 'lastSaleDate': '2024-06-21T00:00:00.000Z', 'lastSalePrice': 330000, 'features': {'cooling': True, 'coolingType': 'Central', 'exteriorType': 'Stucco', 'floorCount': 2, 'heating': True, 'heatingType': 'Forced Air', 'roofType': 'Asphalt', 'unitCount': 1, 'architectureType': 'Duplex'}, 'taxAssessments': {'2019': {'year': 2019, 'value': 97093}, '2022': {'year': 2022, 'value': 151051, 'land': 27000, 'improvements': 124051}, '2023': {'year': 2023, 'value': 273882, 'land': 26224, 'improvements': 247658}}, 'propertyTaxes': {'2019': {'year': 2019, 'total': 1297}, '2022': {'year': 2022, 'total': 2243}, '2023': {'year': 2023, 'total': 4195}}, 'history': {'2024-06-21': {'event': 'Sale', 'date': '2024-06-21T00:00:00.000Z', 'price': 330000}}, 'owner': {'names': ['GOLDEN SAND PARTNERS LLC'], 'type': 'Organization', 'mailingAddress': {'id': '8833-Nw-118th-St,-Hialeah,-FL-33018', 'formattedAddress': '8833 Nw 118th St, Hialeah, FL 33018', 'addressLine1': '8833 Nw 118th St', 'addressLine2': None, 'city': 'Hialeah', 'state': 'FL', 'zipCode': '33018'}}, 'ownerOccupied': False}]\n",
      "[{'id': '6073-Southern-Oaks-Dr-SE,-Winter-Haven,-FL-33884', 'formattedAddress': '6073 Southern Oaks Dr SE, Winter Haven, FL 33884', 'addressLine1': '6073 Southern Oaks Dr SE', 'addressLine2': None, 'city': 'Winter Haven', 'state': 'FL', 'zipCode': '33884', 'county': 'Polk', 'latitude': 27.990156, 'longitude': -81.650333, 'propertyType': 'Manufactured', 'bedrooms': 2, 'bathrooms': 2, 'squareFootage': 1080, 'lotSize': 4500, 'yearBuilt': 1994, 'assessorID': '272906855562001150', 'legalDescription': 'GARDEN GROVE OAKS UNIT THREE PB 77 PG 45 LOT 115 & INT IN COMMON AREAS', 'subdivision': 'GARDEN GROVE OAKS UNIT 03', 'lastSaleDate': '2024-06-21T00:00:00.000Z', 'lastSalePrice': 145500, 'features': {'architectureType': 'Mobile Home', 'garage': True, 'garageType': 'Carport', 'unitCount': 1}, 'taxAssessments': {'2021': {'year': 2021, 'value': 77222, 'land': 15500, 'improvements': 61722}, '2022': {'year': 2022, 'value': 99108, 'land': 17000, 'improvements': 82108}, '2023': {'year': 2023, 'value': 106178, 'land': 20000, 'improvements': 86178}}, 'propertyTaxes': {'2022': {'year': 2022, 'total': 1630}, '2023': {'year': 2023, 'total': 1746}}, 'history': {'2024-06-21': {'event': 'Sale', 'date': '2024-06-21T00:00:00.000Z', 'price': 145500}}, 'owner': {'names': ['Cathy A Caudill'], 'type': 'Individual', 'mailingAddress': {'id': '6073-Southern-Oaks-Dr-SE,-Winter-Haven,-FL-33884', 'formattedAddress': '6073 Southern Oaks Dr SE, Winter Haven, FL 33884', 'addressLine1': '6073 Southern Oaks Dr SE', 'addressLine2': None, 'city': 'Winter Haven', 'state': 'FL', 'zipCode': '33884'}}, 'ownerOccupied': True}, {'id': '20679-Plumwood-Loop,-North-Fort-Myers,-FL-33917', 'formattedAddress': '20679 Plumwood Loop, North Fort Myers, FL 33917', 'addressLine1': '20679 Plumwood Loop', 'addressLine2': None, 'city': 'North Fort Myers', 'state': 'FL', 'zipCode': '33917', 'county': 'Lee', 'latitude': 26.759102, 'longitude': -81.915259, 'propertyType': 'Land', 'bedrooms': 2, 'bathrooms': 2, 'squareFootage': 1497, 'lotSize': 6412, 'yearBuilt': 2023, 'assessorID': '04-43-24-L3-15000.0640', 'legalDescription': 'MAGNOLIA LANDING PARCELS B & D AS DESC IN INSTRUMENT 2021000244189 LOT 64', 'subdivision': 'MAGNOLIA LANDINGS', 'zoning': 'RPD', 'lastSaleDate': '2024-06-21T00:00:00.000Z', 'lastSalePrice': 318000, 'taxAssessments': {'2021': {'year': 2021, 'value': 1787, 'land': 1787}, '2023': {'year': 2023, 'value': 69013, 'land': 69013}}, 'propertyTaxes': {'2022': {'year': 2022, 'total': 2047}, '2023': {'year': 2023, 'total': 2455}}, 'history': {'2024-06-21': {'event': 'Sale', 'date': '2024-06-21T00:00:00.000Z', 'price': 318000}}, 'owner': {'names': ['Barbara L Morton'], 'type': 'Individual', 'mailingAddress': {'id': '20679-Plumwood-Loop,-NO,-Fort-Myers,-FL-33917', 'formattedAddress': '20679 Plumwood Loop, NO, Fort Myers, FL 33917', 'addressLine1': '20679 Plumwood Loop', 'addressLine2': 'NO', 'city': 'Fort Myers', 'state': 'FL', 'zipCode': '33917'}}, 'ownerOccupied': True}]\n"
     ]
    },
    {
     "name": "stderr",
     "output_type": "stream",
     "text": [
      "/tmp/ipykernel_41786/3789772211.py:68: FutureWarning: The behavior of DataFrame concatenation with empty or all-NA entries is deprecated. In a future version, this will no longer exclude empty or all-NA columns when determining the result dtypes. To retain the old behavior, exclude the relevant entries before the concat operation.\n",
      "  data = pd.concat([data, df], ignore_index=True)\n"
     ]
    }
   ],
   "source": [
    "data = pd.DataFrame()\n",
    "\n",
    "offset = 0\n",
    "\n",
    "for i in range(10):\n",
    "    \n",
    "    url = f'https://api.rentcast.io/v1/properties?state=FL&saleDateRange=266&limit=500&offset={offset}'\n",
    "\n",
    "    headers = {\n",
    "        \"accept\": \"application/json\",\n",
    "        \"X-Api-Key\": api_key\n",
    "    }\n",
    "\n",
    "    response = requests.get(url, headers=headers)\n",
    "\n",
    "    rentcast_json = response.json()\n",
    "\n",
    "    print(rentcast_json)\n",
    "\n",
    "    properties = []\n",
    "    for item in rentcast_json:\n",
    "        flattened_data = {\n",
    "            # \"id\": item.get(\"id\", None),\n",
    "            \"id\": item[\"id\"],\n",
    "            \"formattedAddress\": item.get(\"formattedAddress\", None),\n",
    "            \"city\": item.get(\"city\", None),\n",
    "            \"state\": item.get(\"state\", None),\n",
    "            \"zipCode\": item.get(\"zipCode\", None),\n",
    "            \"county\": item.get(\"county\", None),\n",
    "            \"latitude\": item.get(\"latitude\", None),\n",
    "            \"longitude\": item.get(\"longitude\", None),\n",
    "            \"propertyType\": item.get(\"propertyType\", None),\n",
    "            \"bedrooms\": item.get(\"bedrooms\", None),\n",
    "            \"bathrooms\": item.get(\"bathrooms\", None),\n",
    "            \"squareFootage\": item.get(\"squareFootage\", None),\n",
    "            \"lotSize\": item.get(\"lotSize\", None),\n",
    "            \"yearBuilt\": item.get(\"yearBuilt\", None),\n",
    "            \"subdivision\": item.get(\"subdivision\", None),\n",
    "            \"zoning\": item.get(\"zoning\", None),\n",
    "            \"lastSaleDate\": item.get(\"lastSaleDate\", None),\n",
    "            \"lastSalePrice\": item.get(\"lastSalePrice\", None),\n",
    "\n",
    "            \"hoa\": item.get(\"hoa\", {}).get(\"fee\", None),\n",
    "\n",
    "            # Extracting nested features\n",
    "            \"architectureType\": item.get(\"features\", {}).get(\"architectureType\", None),\n",
    "            \"cooling\": item.get(\"features\", {}).get(\"cooling\", False),\n",
    "            \"coolingType\": item.get(\"features\", {}).get(\"coolingType\", None),\n",
    "            \"heating\": item.get(\"features\", {}).get(\"heating\", False),\n",
    "            \"heatingType\": item.get(\"features\", {}).get(\"heatingType\", None),\n",
    "            \"exteriorType\": item.get(\"features\", {}).get(\"exteriorType\", None),\n",
    "            \"fireplace\": item.get(\"features\", {}).get(\"fireplace\", False),\n",
    "            \"floorCount\": item.get(\"features\", {}).get(\"floorCount\", None),\n",
    "            \"foundationType\": item.get(\"features\", {}).get(\"foundationType\", None),\n",
    "            \"garage\": item.get(\"features\", {}).get(\"garage\", False),\n",
    "            \"garageSpaces\": item.get(\"features\", {}).get(\"garageSpaces\", None),\n",
    "            \"garageType\": item.get(\"features\", {}).get(\"garageType\", None),\n",
    "            \"pool\": item.get(\"features\", {}).get(\"pool\", False),\n",
    "            \"roomCount\": item.get(\"features\", {}).get(\"roomCount\", None),\n",
    "            \"unitCount\": item.get(\"features\", {}).get(\"unitCount\", None),\n",
    "            \"viewType\": item.get(\"features\", {}).get(\"viewType\", None),\n",
    "        }\n",
    "    \n",
    "        properties.append(flattened_data)\n",
    "\n",
    "    df = pd.DataFrame(properties)\n",
    "\n",
    "    data = pd.concat([data, df], ignore_index=True)\n",
    "\n",
    "    offset += 500\n",
    "\n",
    "    time.sleep(1)"
   ]
  },
  {
   "cell_type": "code",
   "execution_count": null,
   "metadata": {},
   "outputs": [],
   "source": [
    "data.to_csv(\"rentcast_FL_3.csv\", index=False)"
   ]
  }
 ],
 "metadata": {
  "kernelspec": {
   "display_name": "Python 3",
   "language": "python",
   "name": "python3"
  },
  "language_info": {
   "codemirror_mode": {
    "name": "ipython",
    "version": 3
   },
   "file_extension": ".py",
   "mimetype": "text/x-python",
   "name": "python",
   "nbconvert_exporter": "python",
   "pygments_lexer": "ipython3",
   "version": "3.10.12"
  }
 },
 "nbformat": 4,
 "nbformat_minor": 2
}

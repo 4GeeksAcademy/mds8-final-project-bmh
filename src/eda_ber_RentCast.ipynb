{
 "cells": [
  {
   "cell_type": "code",
   "execution_count": 81,
   "metadata": {},
   "outputs": [
    {
     "ename": "ModuleNotFoundError",
     "evalue": "No module named 'skylearn'",
     "output_type": "error",
     "traceback": [
      "\u001b[0;31m---------------------------------------------------------------------------\u001b[0m",
      "\u001b[0;31mModuleNotFoundError\u001b[0m                       Traceback (most recent call last)",
      "Cell \u001b[0;32mIn[81], line 6\u001b[0m\n\u001b[1;32m      4\u001b[0m \u001b[38;5;28;01mimport\u001b[39;00m\u001b[38;5;250m \u001b[39m\u001b[38;5;21;01mrequests\u001b[39;00m\n\u001b[1;32m      5\u001b[0m \u001b[38;5;28;01mimport\u001b[39;00m\u001b[38;5;250m \u001b[39m\u001b[38;5;21;01mjson\u001b[39;00m\n\u001b[0;32m----> 6\u001b[0m \u001b[38;5;28;01mfrom\u001b[39;00m\u001b[38;5;250m \u001b[39m\u001b[38;5;21;01mskylearn\u001b[39;00m\u001b[38;5;21;01m.\u001b[39;00m\u001b[38;5;21;01mmodel_selection\u001b[39;00m\u001b[38;5;250m \u001b[39m\u001b[38;5;28;01mimport\u001b[39;00m train_test_split\n\u001b[1;32m      7\u001b[0m \u001b[38;5;28;01mfrom\u001b[39;00m\u001b[38;5;250m \u001b[39m\u001b[38;5;21;01mskylearn\u001b[39;00m\u001b[38;5;21;01m.\u001b[39;00m\u001b[38;5;21;01mtree\u001b[39;00m\u001b[38;5;250m \u001b[39m\u001b[38;5;28;01mimport\u001b[39;00m DecisionTreeRegressor\n\u001b[1;32m      8\u001b[0m \u001b[38;5;28;01mfrom\u001b[39;00m\u001b[38;5;250m \u001b[39m\u001b[38;5;21;01mskylearn\u001b[39;00m\u001b[38;5;21;01m.\u001b[39;00m\u001b[38;5;21;01mmetrics\u001b[39;00m\u001b[38;5;250m \u001b[39m\u001b[38;5;28;01mimport\u001b[39;00m mean_squared_error, r2_score\n",
      "\u001b[0;31mModuleNotFoundError\u001b[0m: No module named 'skylearn'"
     ]
    }
   ],
   "source": [
    "import os\n",
    "import pandas as pd\n",
    "import matplotlib.pyplot as plt\n",
    "import requests\n",
    "import json\n",
    "from skylearn.model_selection import train_test_split\n",
    "from skylearn.tree import DecisionTreeRegressor\n",
    "from skylearn.metrics import mean_squared_error, r2_score\n"
   ]
  },
  {
   "cell_type": "code",
   "execution_count": 64,
   "metadata": {},
   "outputs": [],
   "source": [
    "#off_set = 0\n",
    "#all_data = []\n",
    "#for i in range(100) :\n",
    "#    url = f'https://api.rentcast.io/v1/properties?state=FL&limit=500&offset={off_set}'  \n",
    "#\n",
    "#    headers = {\n",
    "#    \"Accept\" : \"application/json\",\n",
    "#    \"X-API-Key\":\"dcc30d3e7e454610af41d9e6ddddeea7\"\n",
    "#}\n",
    "#\n",
    "#    response  = requests.get(url, headers = headers)\n",
    "#\n",
    "#    if response.status_code == 200:\n",
    "#        data = response.json()\n",
    "#        all_data.extend(data)\n",
    "#        \n",
    "#    else:\n",
    "#        print(f\"Error {response.status_code} - {response.text}\")\n",
    "#    \n",
    "#    off_set += 500\n",
    "#\n",
    "#df = pd.json_normalize(all_data)\n",
    "#df.to_csv(\"data.csv\", index = False)"
   ]
  },
  {
   "cell_type": "code",
   "execution_count": null,
   "metadata": {},
   "outputs": [],
   "source": [
    "data = pd.read_csv(\"./data.csv\", )"
   ]
  },
  {
   "cell_type": "code",
   "execution_count": 68,
   "metadata": {},
   "outputs": [
    {
     "data": {
      "text/plain": [
       "(145618, 35)"
      ]
     },
     "execution_count": 68,
     "metadata": {},
     "output_type": "execute_result"
    }
   ],
   "source": [
    "data.shape"
   ]
  },
  {
   "cell_type": "code",
   "execution_count": 69,
   "metadata": {},
   "outputs": [
    {
     "data": {
      "text/plain": [
       "Index(['id', 'formattedAddress', 'city', 'state', 'zipCode', 'county',\n",
       "       'latitude', 'longitude', 'propertyType', 'bedrooms', 'bathrooms',\n",
       "       'squareFootage', 'lotSize', 'yearBuilt', 'subdivision', 'zoning',\n",
       "       'lastSaleDate', 'lastSalePrice', 'hoa', 'architectureType', 'cooling',\n",
       "       'coolingType', 'heating', 'heatingType', 'exteriorType', 'fireplace',\n",
       "       'floorCount', 'foundationType', 'garage', 'garageSpaces', 'garageType',\n",
       "       'pool', 'roomCount', 'unitCount', 'viewType'],\n",
       "      dtype='object')"
      ]
     },
     "execution_count": 69,
     "metadata": {},
     "output_type": "execute_result"
    }
   ],
   "source": [
    "data.columns"
   ]
  },
  {
   "cell_type": "code",
   "execution_count": 70,
   "metadata": {},
   "outputs": [
    {
     "name": "stdout",
     "output_type": "stream",
     "text": [
      "<class 'pandas.core.frame.DataFrame'>\n",
      "RangeIndex: 145618 entries, 0 to 145617\n",
      "Data columns (total 35 columns):\n",
      " #   Column            Non-Null Count   Dtype  \n",
      "---  ------            --------------   -----  \n",
      " 0   id                145618 non-null  object \n",
      " 1   formattedAddress  145618 non-null  object \n",
      " 2   city              145618 non-null  object \n",
      " 3   state             145618 non-null  object \n",
      " 4   zipCode           145618 non-null  int64  \n",
      " 5   county            145496 non-null  object \n",
      " 6   latitude          145618 non-null  float64\n",
      " 7   longitude         145618 non-null  float64\n",
      " 8   propertyType      143305 non-null  object \n",
      " 9   bedrooms          126304 non-null  float64\n",
      " 10  bathrooms         128000 non-null  float64\n",
      " 11  squareFootage     130282 non-null  float64\n",
      " 12  lotSize           128261 non-null  float64\n",
      " 13  yearBuilt         127155 non-null  float64\n",
      " 14  subdivision       117945 non-null  object \n",
      " 15  zoning            86565 non-null   object \n",
      " 16  lastSaleDate      145618 non-null  object \n",
      " 17  lastSalePrice     145534 non-null  float64\n",
      " 18  hoa               10993 non-null   float64\n",
      " 19  architectureType  37234 non-null   object \n",
      " 20  cooling           145618 non-null  bool   \n",
      " 21  coolingType       79778 non-null   object \n",
      " 22  heating           145618 non-null  bool   \n",
      " 23  heatingType       66688 non-null   object \n",
      " 24  exteriorType      89319 non-null   object \n",
      " 25  fireplace         145618 non-null  bool   \n",
      " 26  floorCount        92935 non-null   float64\n",
      " 27  foundationType    42373 non-null   object \n",
      " 28  garage            145618 non-null  bool   \n",
      " 29  garageSpaces      18767 non-null   float64\n",
      " 30  garageType        72519 non-null   object \n",
      " 31  pool              145618 non-null  object \n",
      " 32  roomCount         10704 non-null   float64\n",
      " 33  unitCount         96267 non-null   float64\n",
      " 34  viewType          6712 non-null    object \n",
      "dtypes: bool(4), float64(13), int64(1), object(17)\n",
      "memory usage: 35.0+ MB\n"
     ]
    }
   ],
   "source": [
    "data.info()"
   ]
  },
  {
   "cell_type": "code",
   "execution_count": 71,
   "metadata": {},
   "outputs": [
    {
     "data": {
      "text/plain": [
       "id                       0\n",
       "formattedAddress         0\n",
       "city                     0\n",
       "state                    0\n",
       "zipCode                  0\n",
       "county                 122\n",
       "latitude                 0\n",
       "longitude                0\n",
       "propertyType          2313\n",
       "bedrooms             19314\n",
       "bathrooms            17618\n",
       "squareFootage        15336\n",
       "lotSize              17357\n",
       "yearBuilt            18463\n",
       "subdivision          27673\n",
       "zoning               59053\n",
       "lastSaleDate             0\n",
       "lastSalePrice           84\n",
       "hoa                 134625\n",
       "architectureType    108384\n",
       "cooling                  0\n",
       "coolingType          65840\n",
       "heating                  0\n",
       "heatingType          78930\n",
       "exteriorType         56299\n",
       "fireplace                0\n",
       "floorCount           52683\n",
       "foundationType      103245\n",
       "garage                   0\n",
       "garageSpaces        126851\n",
       "garageType           73099\n",
       "pool                     0\n",
       "roomCount           134914\n",
       "unitCount            49351\n",
       "viewType            138906\n",
       "dtype: int64"
      ]
     },
     "execution_count": 71,
     "metadata": {},
     "output_type": "execute_result"
    }
   ],
   "source": [
    "data.isnull().sum()"
   ]
  },
  {
   "cell_type": "code",
   "execution_count": 72,
   "metadata": {},
   "outputs": [],
   "source": [
    "to_drop = data.isnull().sum()\n",
    "data = data.drop(columns=to_drop[to_drop > 49000].index)\n"
   ]
  },
  {
   "cell_type": "code",
   "execution_count": 73,
   "metadata": {},
   "outputs": [
    {
     "data": {
      "text/plain": [
       "id                      0\n",
       "formattedAddress        0\n",
       "city                    0\n",
       "state                   0\n",
       "zipCode                 0\n",
       "county                122\n",
       "latitude                0\n",
       "longitude               0\n",
       "propertyType         2313\n",
       "bedrooms            19314\n",
       "bathrooms           17618\n",
       "squareFootage       15336\n",
       "lotSize             17357\n",
       "yearBuilt           18463\n",
       "subdivision         27673\n",
       "lastSaleDate            0\n",
       "lastSalePrice          84\n",
       "cooling                 0\n",
       "heating                 0\n",
       "fireplace               0\n",
       "garage                  0\n",
       "pool                    0\n",
       "dtype: int64"
      ]
     },
     "execution_count": 73,
     "metadata": {},
     "output_type": "execute_result"
    }
   ],
   "source": [
    "data.isnull().sum()"
   ]
  },
  {
   "cell_type": "code",
   "execution_count": 74,
   "metadata": {},
   "outputs": [],
   "source": [
    "pd.set_option('display.max_columns', None)\n",
    "df.describe(include='all').loc[[\"mean\"]].round()\n",
    "\n",
    "mean = data.describe(include='all').loc[[\"mean\"]].round()\n",
    "\n",
    "for col in data.columns:\n",
    "     if col in mean.columns:\n",
    "         if pd.api.types.is_numeric_dtype(data[col]):\n",
    "              data[col] = data[col].fillna(mean[col].values[0])\n"
   ]
  },
  {
   "cell_type": "code",
   "execution_count": 75,
   "metadata": {},
   "outputs": [],
   "source": [
    "pd.set_option('display.max_rows', None)\n",
    "pd.set_option('display.max_columns', None)"
   ]
  },
  {
   "cell_type": "code",
   "execution_count": 76,
   "metadata": {},
   "outputs": [
    {
     "data": {
      "text/plain": [
       "id                      0\n",
       "formattedAddress        0\n",
       "city                    0\n",
       "state                   0\n",
       "zipCode                 0\n",
       "county                122\n",
       "latitude                0\n",
       "longitude               0\n",
       "propertyType         2313\n",
       "bedrooms                0\n",
       "bathrooms               0\n",
       "squareFootage           0\n",
       "lotSize                 0\n",
       "yearBuilt               0\n",
       "subdivision         27673\n",
       "lastSaleDate            0\n",
       "lastSalePrice           0\n",
       "cooling                 0\n",
       "heating                 0\n",
       "fireplace               0\n",
       "garage                  0\n",
       "pool                    0\n",
       "dtype: int64"
      ]
     },
     "execution_count": 76,
     "metadata": {},
     "output_type": "execute_result"
    }
   ],
   "source": [
    "data.isnull().sum()"
   ]
  },
  {
   "cell_type": "code",
   "execution_count": 77,
   "metadata": {},
   "outputs": [],
   "source": [
    "to_drop = data.isnull().sum()\n",
    "data = data.drop(columns=to_drop[to_drop > 0].index)"
   ]
  },
  {
   "cell_type": "code",
   "execution_count": 78,
   "metadata": {},
   "outputs": [
    {
     "data": {
      "text/plain": [
       "(145618, 19)"
      ]
     },
     "execution_count": 78,
     "metadata": {},
     "output_type": "execute_result"
    }
   ],
   "source": [
    "data.shape"
   ]
  },
  {
   "cell_type": "code",
   "execution_count": null,
   "metadata": {},
   "outputs": [],
   "source": []
  }
 ],
 "metadata": {
  "kernelspec": {
   "display_name": "Python 3",
   "language": "python",
   "name": "python3"
  },
  "language_info": {
   "codemirror_mode": {
    "name": "ipython",
    "version": 3
   },
   "file_extension": ".py",
   "mimetype": "text/x-python",
   "name": "python",
   "nbconvert_exporter": "python",
   "pygments_lexer": "ipython3",
   "version": "3.10.12"
  }
 },
 "nbformat": 4,
 "nbformat_minor": 2
}
